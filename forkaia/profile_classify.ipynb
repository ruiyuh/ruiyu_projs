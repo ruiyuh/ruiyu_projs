{
 "cells": [
  {
   "cell_type": "code",
   "execution_count": 1,
   "metadata": {},
   "outputs": [],
   "source": [
    "import pandas as pd\n",
    "import numpy as np\n",
    "from pprint import pprint\n",
    "import re\n",
    "\n",
    "import nltk\n",
    "from nltk.tokenize import word_tokenize, wordpunct_tokenize, sent_tokenize\n",
    "from nltk.corpus import stopwords\n",
    "import spacy\n",
    "\n",
    "import seaborn as sns\n",
    "from wordcloud import WordCloud\n",
    "import matplotlib.pyplot as plt\n",
    "%matplotlib inline"
   ]
  },
  {
   "cell_type": "code",
   "execution_count": 2,
   "metadata": {},
   "outputs": [],
   "source": [
    "df = pd.read_excel('../data/intern_700.xlsx', encoding='utf-8') \n",
    "#df.head(1)"
   ]
  },
  {
   "cell_type": "code",
   "execution_count": 183,
   "metadata": {},
   "outputs": [
    {
     "data": {
      "text/plain": [
       "'\\xa0In regards to my talents, I have a strong background in project management and general communications. I am able to manage and evaluate vast amounts of data to find key traits that would create opportunities for a more efficient project. Collaboration and cooperation also come naturally to me as well since I work well with people, making important communication between companies a simple task. I am work oriented and enjoy challenging myself to solve problems as well as to accelerate my success. Pushing outside of my own comfort zone is something I like to do regularly and I have an open mind to learning whatever I can.\\xa0'"
      ]
     },
     "execution_count": 183,
     "metadata": {},
     "output_type": "execute_result"
    }
   ],
   "source": [
    "df[df.columns[6]].astype(str)[1]"
   ]
  },
  {
   "cell_type": "code",
   "execution_count": null,
   "metadata": {},
   "outputs": [],
   "source": [
    "#key_lst =['data analysis','machine learning','data mining', 'deep learning','AI','artificial intelligence']"
   ]
  },
  {
   "cell_type": "code",
   "execution_count": null,
   "metadata": {},
   "outputs": [],
   "source": [
    "'''dict1 = {}\n",
    "#dfq1 = df[df.columns[6]].astype(str)\n",
    "for idx, val in df[df.columns[6]].astype(str).items():\n",
    "    val = val.lower()\n",
    "    for i in key_lst:\n",
    "        if i in val:\n",
    "            dict1[idx] = val.replace('\\xa0', ' ')\n",
    "\n",
    "dict2 = {}\n",
    "#dfq2 = df[df.columns[7]].astype(str)\n",
    "for idx, val in df[df.columns[7]].astype(str).items():\n",
    "    if idx in [i for i in dict1.keys()]:\n",
    "        dict2[idx] = val.replace('\\xa0', ' ')\n",
    "        \n",
    "list1, list2 = [],[]\n",
    "for idx, val in dict1.items():\n",
    "    list1.append(val)\n",
    "for idx, val in dict2.items():\n",
    "    list2.append(val)'''"
   ]
  },
  {
   "cell_type": "code",
   "execution_count": null,
   "metadata": {},
   "outputs": [],
   "source": [
    "#query = df[df.columns[7]]\n",
    "# remove short words (length < 3)"
   ]
  },
  {
   "cell_type": "code",
   "execution_count": 184,
   "metadata": {},
   "outputs": [],
   "source": [
    "dict_doc = {}\n",
    "for idx, val in df[df.columns[6]].astype(str).items():\n",
    "    val = val.lower()\n",
    "    dict_doc[idx] = val.replace('\\xa0', ' ')\n",
    "lst_doc = []\n",
    "for inx, val in dict_doc.items():\n",
    "    lst_doc.append(val)"
   ]
  },
  {
   "cell_type": "code",
   "execution_count": 185,
   "metadata": {},
   "outputs": [
    {
     "data": {
      "text/plain": [
       "677"
      ]
     },
     "execution_count": 185,
     "metadata": {},
     "output_type": "execute_result"
    }
   ],
   "source": [
    "len(lst_doc)"
   ]
  },
  {
   "cell_type": "code",
   "execution_count": 186,
   "metadata": {},
   "outputs": [
    {
     "data": {
      "text/plain": [
       "\"from google.cloud import language\\nfrom google.cloud.language import enums\\nfrom google.cloud.language import types\\n\\nclient = language.LanguageServiceClient()\\ndocument = language.types.Document(content = total_tokens[:10],\\n                                   type=enums.Document.Type.PLAIN_TEXT\\n                                  )\\n\\ntokens = client.analyze_syntax(document).tokens\\n\\n# part-of-speech tags from list(enums.PartOfSpeech.Tag)\\npos_tag = ('UNKNOWN', 'ADJ', 'ADP', 'ADV', 'CONJ', 'DET', 'NOUN', 'NUM',\\n           'PRON', 'PRT', 'PUNCT', 'VERB', 'X', 'AFFIX')\\n\\n\\ndict = {}\\nfor token in tokens:\\n    dict[token.text.content] = pos_tag[token.part_of_speech.tag]\\ndict\""
      ]
     },
     "execution_count": 186,
     "metadata": {},
     "output_type": "execute_result"
    }
   ],
   "source": [
    "'''from google.cloud import language\n",
    "from google.cloud.language import enums\n",
    "from google.cloud.language import types\n",
    "\n",
    "client = language.LanguageServiceClient()\n",
    "document = language.types.Document(content = total_tokens[:10],\n",
    "                                   type=enums.Document.Type.PLAIN_TEXT\n",
    "                                  )\n",
    "\n",
    "tokens = client.analyze_syntax(document).tokens\n",
    "\n",
    "# part-of-speech tags from list(enums.PartOfSpeech.Tag)\n",
    "pos_tag = ('UNKNOWN', 'ADJ', 'ADP', 'ADV', 'CONJ', 'DET', 'NOUN', 'NUM',\n",
    "           'PRON', 'PRT', 'PUNCT', 'VERB', 'X', 'AFFIX')\n",
    "\n",
    "\n",
    "dict = {}\n",
    "for token in tokens:\n",
    "    dict[token.text.content] = pos_tag[token.part_of_speech.tag]\n",
    "dict'''"
   ]
  },
  {
   "cell_type": "markdown",
   "metadata": {},
   "source": [
    "## clean the text"
   ]
  },
  {
   "cell_type": "code",
   "execution_count": 187,
   "metadata": {},
   "outputs": [],
   "source": [
    "def clean_doc(text):\n",
    "    #porter = nltk.PorterStemmer()\n",
    "    lemmatizer = nltk.WordNetLemmatizer()\n",
    "    tokens = text.lower() # case-folding (of the whole text string)\n",
    "    tokens = word_tokenize(tokens) # default tokenizer\n",
    "    tokens = [w for w in tokens if w not in stopwords.words('english')] # filter English stopwords\n",
    "    tokens = [w for w in tokens if len(w) > 2]\n",
    "    #tokens = [porter.stem(tok) for tok in tokens] # apply stemmer\n",
    "    tokens = [lemmatizer.lemmatize(tok) for tok in tokens]\n",
    "    tokens = [w for w in tokens if w.isalpha()] # filter tokens that contain non-alphabetic character(s)\n",
    "    return tokens\n",
    "\n",
    "def create_token(lst):\n",
    "    token = [None] * len(lst)\n",
    "    for i in range(len(lst)):\n",
    "        token[i] = clean_doc(lst[i])\n",
    "    return token\n",
    "\n",
    "def create_wordcloud(total_tok):\n",
    "    wordcloud = WordCloud().generate(' '.join(total_tok))\n",
    "    plt.figure(figsize=(12, 8))\n",
    "    plt.imshow(wordcloud, interpolation=\"bilinear\")\n",
    "    plt.axis(\"off\")\n",
    "    plt.show()"
   ]
  },
  {
   "cell_type": "code",
   "execution_count": 188,
   "metadata": {},
   "outputs": [],
   "source": [
    "token_doc = create_token(lst_doc)\n",
    "total_tokens = [t for doc_t in token_doc for t in doc_t]"
   ]
  },
  {
   "cell_type": "code",
   "execution_count": 190,
   "metadata": {},
   "outputs": [
    {
     "name": "stdout",
     "output_type": "stream",
     "text": [
      "['technical', 'skill', 'would', 'say', 'good', 'prioritizing', 'work', 'project', 'discussion', 'many', 'agenda', 'breaking', 'facilitating', 'prioritizing', 'discussion', 'helped', 'stand', 'among', 'group', 'time', 'working', 'data', 'warehousing', 'project', 'documentation', 'something', 'apart', 'work', 'helped', 'many', 'time', 'since', 'entity', 'report', 'constant', 'change', 'impact', 'decided', 'document', 'everything', 'helpful', 'fellow', 'team', 'mate', 'approach', 'asking', 'many', 'question', 'month', 'year', 'project', 'transition', 'time', 'made', 'document', 'everyone', 'refer', 'future']\n"
     ]
    }
   ],
   "source": [
    "print(token_doc[0])"
   ]
  },
  {
   "cell_type": "code",
   "execution_count": 191,
   "metadata": {},
   "outputs": [],
   "source": [
    "#create_wordcloud(total_tokens)"
   ]
  },
  {
   "cell_type": "code",
   "execution_count": 192,
   "metadata": {},
   "outputs": [
    {
     "data": {
      "text/plain": [
       "'def create_freq_graph (freq_dict):\\n    words_df = pd.DataFrame({\\'word\\':list(freq_dict.keys()), \\'count\\':list(freq_dict.values())})\\n    d = words_df.nlargest(columns=\"count\", n = 15) \\n    plt.figure(figsize=(12,8))\\n    ax = sns.barplot(data=d, x= \"count\", y = \"word\")\\n    ax.set(ylabel = \\'Count\\')\\n    plt.show()'"
      ]
     },
     "execution_count": 192,
     "metadata": {},
     "output_type": "execute_result"
    }
   ],
   "source": [
    "'''def create_freq_graph (freq_dict):\n",
    "    words_df = pd.DataFrame({'word':list(freq_dict.keys()), 'count':list(freq_dict.values())})\n",
    "    d = words_df.nlargest(columns=\"count\", n = 15) \n",
    "    plt.figure(figsize=(12,8))\n",
    "    ax = sns.barplot(data=d, x= \"count\", y = \"word\")\n",
    "    ax.set(ylabel = 'Count')\n",
    "    plt.show()'''"
   ]
  },
  {
   "cell_type": "code",
   "execution_count": 193,
   "metadata": {},
   "outputs": [
    {
     "data": {
      "text/plain": [
       "'fdist = nltk.FreqDist(total_tokens)\\ntop_500 = fdist.most_common(500)\\ntoken_bi = list(nltk.bigrams(total_tokens))\\ntoken_bi_fd = nltk.FreqDist(token_bi)'"
      ]
     },
     "execution_count": 193,
     "metadata": {},
     "output_type": "execute_result"
    }
   ],
   "source": [
    "'''fdist = nltk.FreqDist(total_tokens)\n",
    "top_500 = fdist.most_common(500)\n",
    "token_bi = list(nltk.bigrams(total_tokens))\n",
    "token_bi_fd = nltk.FreqDist(token_bi)'''"
   ]
  },
  {
   "cell_type": "code",
   "execution_count": 194,
   "metadata": {},
   "outputs": [],
   "source": [
    "#create_freq_graph(fdist)"
   ]
  },
  {
   "cell_type": "markdown",
   "metadata": {},
   "source": [
    "## pos_tag using GCP API"
   ]
  },
  {
   "cell_type": "code",
   "execution_count": 195,
   "metadata": {},
   "outputs": [],
   "source": [
    "# set up env locally\n",
    "import os\n",
    "os.environ[\"GOOGLE_APPLICATION_CREDENTIALS\"] = r'C:\\Users\\RayHu\\Google Drive\\FORKaiA\\ruiyu-gcp-4ac10836d3b1.json' \n",
    "\n",
    "from google.cloud import language\n",
    "from google.cloud.language import enums\n",
    "from google.cloud.language import types"
   ]
  },
  {
   "cell_type": "code",
   "execution_count": null,
   "metadata": {},
   "outputs": [],
   "source": [
    "'''\n",
    "pos_dict = {}\n",
    "# part-of-speech tags from list(enums.PartOfSpeech.Tag)\n",
    "pos_tag = ('UNKNOWN', 'ADJ', 'ADP', 'ADV', 'CONJ', 'DET', 'NOUN', 'NUM',\n",
    "           'PRON', 'PRT', 'PUNCT', 'VERB', 'X', 'AFFIX')\n",
    "\n",
    "\n",
    "client = language.LanguageServiceClient()\n",
    "\n",
    "for _ in total_tokens[:10]:\n",
    "    _.join('')\n",
    "    document = language.types.Document(content =_ ,\n",
    "                                   type=enums.Document.Type.PLAIN_TEXT)\n",
    "    tokens = client.analyze_syntax(document).tokens\n",
    "    \n",
    "    for token in tokens:\n",
    "        dict[token.text.content] = pos_tag[token.part_of_speech.tag]'''"
   ]
  },
  {
   "cell_type": "code",
   "execution_count": null,
   "metadata": {},
   "outputs": [],
   "source": [
    "'''def filter_pos_tags(a_tok_lst):\n",
    "    client = language.LanguageServiceClient()\n",
    "    # part-of-speech tags from list(enums.PartOfSpeech.Tag)\n",
    "    pos_tag = ('UNKNOWN', 'ADJ', 'ADP', 'ADV', 'CONJ', 'DET', 'NOUN', 'NUM',\n",
    "               'PRON', 'PRT', 'PUNCT', 'VERB', 'X', 'AFFIX')\n",
    "    tags = ['NOUN','ADJ']\n",
    "    clean = []\n",
    "    for _ in a_tok_lst:\n",
    "        output =[]\n",
    "        doc = ' '.join(_)\n",
    "        document = language.types.Document(content = doc, type=enums.Document.Type.PLAIN_TEXT)\n",
    "        tokens = client.analyze_syntax(document).tokens\n",
    "        \n",
    "        for token in tokens:\n",
    "            if pos_tag[token.part_of_speech.tag] in tags:\n",
    "                output.append(token.text.content)\n",
    "        clean.append([k for k in output])    \n",
    "    return clean'''"
   ]
  },
  {
   "cell_type": "code",
   "execution_count": 197,
   "metadata": {},
   "outputs": [],
   "source": [
    "#token_doc_v2 = filter_pos_tags(token_doc)"
   ]
  },
  {
   "cell_type": "code",
   "execution_count": 218,
   "metadata": {},
   "outputs": [],
   "source": [
    "client = language.LanguageServiceClient()\n",
    "# part-of-speech tags from list(enums.PartOfSpeech.Tag)\n",
    "pos_tag = ('UNKNOWN', 'ADJ', 'ADP', 'ADV', 'CONJ', 'DET', 'NOUN', 'NUM',\n",
    "           'PRON', 'PRT', 'PUNCT', 'VERB', 'X', 'AFFIX')\n",
    "tags = ['NOUN','ADJ']"
   ]
  },
  {
   "cell_type": "code",
   "execution_count": 217,
   "metadata": {},
   "outputs": [],
   "source": [
    "output = []"
   ]
  },
  {
   "cell_type": "code",
   "execution_count": 219,
   "metadata": {},
   "outputs": [],
   "source": [
    "#clean =[]\n",
    "for _ in token_doc[300:]:\n",
    "    output =[]\n",
    "    doc = ' '.join(_)\n",
    "    document = language.types.Document(content = doc, type=enums.Document.Type.PLAIN_TEXT)\n",
    "    tokens = client.analyze_syntax(document).tokens\n",
    "    for token in tokens:\n",
    "        if pos_tag[token.part_of_speech.tag] in tags:\n",
    "            output.append(token.text.content)\n",
    "    clean.append([k for k in output])   "
   ]
  },
  {
   "cell_type": "code",
   "execution_count": 225,
   "metadata": {},
   "outputs": [
    {
     "name": "stdout",
     "output_type": "stream",
     "text": [
      "['technical', 'skill', 'good', 'prioritizing', 'work', 'project', 'discussion', 'many', 'agenda', 'prioritizing', 'discussion', 'group', 'time', 'data', 'warehousing', 'project', 'documentation', 'something', 'work', 'many', 'time', 'entity', 'constant', 'change', 'impact', 'document', 'everything', 'helpful', 'fellow', 'team', 'mate', 'approach', 'many', 'question', 'month', 'year', 'project', 'transition', 'time', 'document', 'everyone', 'future']\n"
     ]
    }
   ],
   "source": [
    "print(clean[0])"
   ]
  },
  {
   "cell_type": "code",
   "execution_count": 224,
   "metadata": {},
   "outputs": [
    {
     "name": "stdout",
     "output_type": "stream",
     "text": [
      "['technical', 'skill', 'would', 'say', 'good', 'prioritizing', 'work', 'project', 'discussion', 'many', 'agenda', 'breaking', 'facilitating', 'prioritizing', 'discussion', 'helped', 'stand', 'among', 'group', 'time', 'working', 'data', 'warehousing', 'project', 'documentation', 'something', 'apart', 'work', 'helped', 'many', 'time', 'since', 'entity', 'report', 'constant', 'change', 'impact', 'decided', 'document', 'everything', 'helpful', 'fellow', 'team', 'mate', 'approach', 'asking', 'many', 'question', 'month', 'year', 'project', 'transition', 'time', 'made', 'document', 'everyone', 'refer', 'future']\n"
     ]
    }
   ],
   "source": [
    "print(token_doc[0])"
   ]
  },
  {
   "cell_type": "code",
   "execution_count": null,
   "metadata": {},
   "outputs": [],
   "source": [
    "print(clean[0])"
   ]
  },
  {
   "cell_type": "markdown",
   "metadata": {},
   "source": [
    "# topic modeling"
   ]
  },
  {
   "cell_type": "code",
   "execution_count": 159,
   "metadata": {},
   "outputs": [
    {
     "name": "stderr",
     "output_type": "stream",
     "text": [
      "C:\\Users\\RayHu\\Anaconda3\\lib\\site-packages\\gensim\\utils.py:1197: UserWarning: detected Windows; aliasing chunkize to chunkize_serial\n",
      "  warnings.warn(\"detected Windows; aliasing chunkize to chunkize_serial\")\n"
     ]
    }
   ],
   "source": [
    "import spacy\n",
    "\n",
    "import gensim\n",
    "from gensim import corpora\n",
    "from gensim.models import CoherenceModel\n",
    "\n",
    "\n",
    "# libraries for visualization\n",
    "import pyLDAvis\n",
    "import pyLDAvis.gensim\n",
    "import seaborn as sns\n",
    "\n",
    "import warnings\n",
    "warnings.filterwarnings(\"ignore\")"
   ]
  },
  {
   "cell_type": "code",
   "execution_count": 226,
   "metadata": {},
   "outputs": [],
   "source": [
    "token_doc = clean"
   ]
  },
  {
   "cell_type": "markdown",
   "metadata": {},
   "source": [
    "**create dict and corpus for topic modeling**"
   ]
  },
  {
   "cell_type": "code",
   "execution_count": 227,
   "metadata": {},
   "outputs": [],
   "source": [
    "dictionary = corpora.Dictionary(token_doc)\n",
    "corpus = [dictionary.doc2bow(tok) for tok in token_doc]"
   ]
  },
  {
   "cell_type": "code",
   "execution_count": 228,
   "metadata": {},
   "outputs": [],
   "source": [
    "# review corpus (term-frequency)\n",
    "#[[(dictionary1[id], freq) for id, freq in cp] for cp in corpus[:1]]"
   ]
  },
  {
   "cell_type": "markdown",
   "metadata": {},
   "source": [
    "**building the model**"
   ]
  },
  {
   "cell_type": "code",
   "execution_count": 229,
   "metadata": {},
   "outputs": [],
   "source": [
    "# Creating the object for LDA model using gensim library\n",
    "LDA = gensim.models.ldamodel.LdaModel\n",
    "\n",
    "# Build LDA model\n",
    "lda_model = LDA(corpus=corpus, id2word=dictionary, num_topics=4)\n",
    "                #random_state=100,chunksize=10, passes=2)"
   ]
  },
  {
   "cell_type": "markdown",
   "metadata": {},
   "source": [
    "**view the model**"
   ]
  },
  {
   "cell_type": "code",
   "execution_count": 230,
   "metadata": {},
   "outputs": [
    {
     "name": "stdout",
     "output_type": "stream",
     "text": [
      "[(0,\n",
      "  '0.028*\"data\" + 0.017*\"problem\" + 0.016*\"skill\" + 0.013*\"analysis\" + '\n",
      "  '0.013*\"project\" + 0.011*\"work\" + 0.010*\"new\" + 0.010*\"team\" + '\n",
      "  '0.009*\"ability\" + 0.008*\"business\"'),\n",
      " (1,\n",
      "  '0.025*\"experience\" + 0.021*\"data\" + 0.016*\"skill\" + 0.012*\"project\" + '\n",
      "  '0.011*\"learning\" + 0.009*\"analysis\" + 0.008*\"machine\" + 0.008*\"python\" + '\n",
      "  '0.008*\"new\" + 0.006*\"development\"'),\n",
      " (2,\n",
      "  '0.021*\"skill\" + 0.014*\"work\" + 0.013*\"analysis\" + 0.011*\"data\" + '\n",
      "  '0.010*\"problem\" + 0.009*\"able\" + 0.008*\"programming\" + 0.007*\"people\" + '\n",
      "  '0.007*\"new\" + 0.007*\"experience\"'),\n",
      " (3,\n",
      "  '0.020*\"skill\" + 0.019*\"data\" + 0.019*\"good\" + 0.017*\"problem\" + '\n",
      "  '0.015*\"project\" + 0.009*\"work\" + 0.009*\"new\" + 0.008*\"computer\" + '\n",
      "  '0.008*\"experience\" + 0.008*\"knowledge\"')]\n"
     ]
    }
   ],
   "source": [
    "# Print the Keyword in the 10 topics\n",
    "pprint(lda_model.print_topics())\n",
    "doc_lda = lda_model[corpus]"
   ]
  },
  {
   "cell_type": "markdown",
   "metadata": {},
   "source": [
    "**compute perplexity and coherence score**"
   ]
  },
  {
   "cell_type": "code",
   "execution_count": 231,
   "metadata": {},
   "outputs": [
    {
     "name": "stdout",
     "output_type": "stream",
     "text": [
      "\n",
      "Perplexity:  -7.142526985074269\n",
      "\n",
      "Coherence Score:  0.3999559327422195\n"
     ]
    }
   ],
   "source": [
    "# Compute Perplexity\n",
    "print('\\nPerplexity: ', lda_model.log_perplexity(corpus))  # a measure of how good the model is. lower the better.\n",
    "\n",
    "# Compute Coherence Score\n",
    "coherence_model_lda = CoherenceModel(model=lda_model, texts=token_doc, dictionary=dictionary, coherence='c_v')\n",
    "coherence_lda = coherence_model_lda.get_coherence()\n",
    "print('\\nCoherence Score: ', coherence_lda)"
   ]
  },
  {
   "cell_type": "markdown",
   "metadata": {},
   "source": [
    "**viz the topics keywords**"
   ]
  },
  {
   "cell_type": "markdown",
   "metadata": {},
   "source": [
    "Each bubble on the left-hand side plot represents a topic. The larger the bubble, the more prevalent is that topic.\n",
    "\n",
    "A good topic model will have fairly big, non-overlapping bubbles scattered throughout the chart instead of being clustered in one quadrant."
   ]
  },
  {
   "cell_type": "code",
   "execution_count": null,
   "metadata": {
    "scrolled": true
   },
   "outputs": [],
   "source": [
    "'''pyLDAvis.enable_notebook()\n",
    "vis = pyLDAvis.gensim.prepare(lda_model, corpus, dictionary1)\n",
    "vis'''"
   ]
  },
  {
   "cell_type": "code",
   "execution_count": 167,
   "metadata": {},
   "outputs": [
    {
     "data": {
      "text/plain": [
       "'import os\\ncwd = os.getcwd()\\ncwd'"
      ]
     },
     "execution_count": 167,
     "metadata": {},
     "output_type": "execute_result"
    }
   ],
   "source": [
    "'''import os\n",
    "cwd = os.getcwd()\n",
    "cwd'''"
   ]
  },
  {
   "cell_type": "markdown",
   "metadata": {},
   "source": [
    "**Building LDA Mallet Model**"
   ]
  },
  {
   "cell_type": "code",
   "execution_count": 168,
   "metadata": {},
   "outputs": [
    {
     "ename": "SyntaxError",
     "evalue": "(unicode error) 'unicodeescape' codec can't decode bytes in position 189-190: truncated \\UXXXXXXXX escape (<ipython-input-168-e4335d742cb7>, line 8)",
     "output_type": "error",
     "traceback": [
      "\u001b[1;36m  File \u001b[1;32m\"<ipython-input-168-e4335d742cb7>\"\u001b[1;36m, line \u001b[1;32m8\u001b[0m\n\u001b[1;33m    ldamallet = gensim.models.wrappers.LdaMallet(mallet_path, corpus=corpus, num_topics=4, id2word=dictionary1)'''\u001b[0m\n\u001b[1;37m                                                                                                                 ^\u001b[0m\n\u001b[1;31mSyntaxError\u001b[0m\u001b[1;31m:\u001b[0m (unicode error) 'unicodeescape' codec can't decode bytes in position 189-190: truncated \\UXXXXXXXX escape\n"
     ]
    }
   ],
   "source": [
    "'''#https://github.com/RaRe-Technologies/gensim/issues/2163\n",
    "import os\n",
    "os.environ.update({'MALLET_HOME':r'C:/Users/RayHu/Google Drive/FORKaiA/intern/notebook/mallet-2.0.8/'})\n",
    "mallet_path = r'C:\\Users\\RayHu\\Google Drive\\FORKaiA\\intern\\notebook\\mallet-2.0.8\\bin\\mallet' # update this path\n",
    "\n",
    "# Download File: http://mallet.cs.umass.edu/dist/mallet-2.0.8.zip\n",
    "\n",
    "ldamallet = gensim.models.wrappers.LdaMallet(mallet_path, corpus=corpus, num_topics=4, id2word=dictionary1)'''"
   ]
  },
  {
   "cell_type": "code",
   "execution_count": 232,
   "metadata": {},
   "outputs": [],
   "source": [
    "def compute_coherence_values(dictionary, corpus, texts, limit, start=2, step=3):\n",
    "    \"\"\"\n",
    "    Compute c_v coherence for various number of topics\n",
    "\n",
    "    Parameters:\n",
    "    ----------\n",
    "    dictionary : Gensim dictionary\n",
    "    corpus : Gensim corpus\n",
    "    texts : List of input texts\n",
    "    limit : Max num of topics\n",
    "\n",
    "    Returns:\n",
    "    -------\n",
    "    model_list : List of LDA topic models\n",
    "    coherence_values : Coherence values corresponding to the LDA model with respective number of topics\n",
    "    \"\"\"\n",
    "    coherence_values = []\n",
    "    model_list = []\n",
    "    for num_topics in range(start, limit, step):\n",
    "        #model = gensim.models.wrappers.LdaMallet(mallet_path, corpus=corpus, num_topics=num_topics, id2word=id2word)\n",
    "        model = gensim.models.ldamodel.LdaModel(corpus=corpus, id2word=dictionary, num_topics=num_topics)#random_state=100,chunksize=10, passes=2)\n",
    "        model_list.append(model)\n",
    "        coherencemodel = CoherenceModel(model=model, texts=texts, dictionary=dictionary, coherence='c_v')\n",
    "        coherence_values.append(coherencemodel.get_coherence())\n",
    "\n",
    "    return model_list, coherence_values"
   ]
  },
  {
   "cell_type": "code",
   "execution_count": 233,
   "metadata": {},
   "outputs": [
    {
     "data": {
      "image/png": "[encoded data removed]",
      "text/plain": [
       "<Figure size 432x288 with 1 Axes>"
      ]
     },
     "metadata": {
      "needs_background": "light"
     },
     "output_type": "display_data"
    },
    {
     "name": "stdout",
     "output_type": "stream",
     "text": [
      "Num Topics = 2  has Coherence Value of 0.3996\n",
      "Num Topics = 3  has Coherence Value of 0.3896\n",
      "Num Topics = 4  has Coherence Value of 0.4197\n",
      "Num Topics = 5  has Coherence Value of 0.4233\n",
      "Num Topics = 6  has Coherence Value of 0.3996\n",
      "Num Topics = 7  has Coherence Value of 0.4292\n",
      "Num Topics = 8  has Coherence Value of 0.4268\n",
      "Num Topics = 9  has Coherence Value of 0.4033\n"
     ]
    }
   ],
   "source": [
    "# Q1,\n",
    "model_list, coherence_values = compute_coherence_values(dictionary=dictionary, corpus=corpus,texts=token_doc, start=2, limit=10, step=1)\n",
    "\n",
    "# Show graph\n",
    "limit=10; start=2; step=1;\n",
    "x = range(start, limit, step)\n",
    "plt.plot(x, coherence_values)\n",
    "plt.xlabel(\"Num Topics\")\n",
    "plt.ylabel(\"Coherence score\")\n",
    "plt.legend((\"coherence_values\"), loc='best')\n",
    "plt.show()\n",
    "\n",
    "# Print the coherence scores\n",
    "for m, cv in zip(x, coherence_values):\n",
    "    print(\"Num Topics =\", m, \" has Coherence Value of\", round(cv, 4))"
   ]
  },
  {
   "cell_type": "markdown",
   "metadata": {},
   "source": [
    "**select optimized model**"
   ]
  },
  {
   "cell_type": "code",
   "execution_count": 234,
   "metadata": {},
   "outputs": [
    {
     "name": "stdout",
     "output_type": "stream",
     "text": [
      "[(0,\n",
      "  '0.015*\"work\" + 0.014*\"thing\" + 0.013*\"new\" + 0.013*\"problem\" + '\n",
      "  '0.012*\"skill\" + 0.012*\"able\"'),\n",
      " (1,\n",
      "  '0.042*\"data\" + 0.021*\"project\" + 0.014*\"analysis\" + 0.013*\"experience\" + '\n",
      "  '0.012*\"skill\" + 0.012*\"work\"'),\n",
      " (2,\n",
      "  '0.024*\"problem\" + 0.023*\"analysis\" + 0.014*\"data\" + 0.012*\"skill\" + '\n",
      "  '0.010*\"experience\" + 0.008*\"learning\"'),\n",
      " (3,\n",
      "  '0.024*\"good\" + 0.015*\"project\" + 0.013*\"data\" + 0.013*\"work\" + '\n",
      "  '0.012*\"people\" + 0.012*\"skill\"'),\n",
      " (4,\n",
      "  '0.017*\"new\" + 0.015*\"skill\" + 0.014*\"data\" + 0.014*\"experience\" + '\n",
      "  '0.011*\"project\" + 0.010*\"problem\"'),\n",
      " (5,\n",
      "  '0.035*\"skill\" + 0.031*\"data\" + 0.015*\"analysis\" + 0.011*\"problem\" + '\n",
      "  '0.010*\"experience\" + 0.010*\"business\"'),\n",
      " (6,\n",
      "  '0.024*\"data\" + 0.019*\"problem\" + 0.013*\"skill\" + 0.011*\"experience\" + '\n",
      "  '0.008*\"work\" + 0.008*\"ability\"')]\n"
     ]
    }
   ],
   "source": [
    "optimal_model = model_list[5]\n",
    "model_topics = optimal_model.show_topics(formatted=False)\n",
    "pprint(optimal_model.print_topics(num_words=6))"
   ]
  },
  {
   "cell_type": "markdown",
   "metadata": {},
   "source": [
    "**finding the dominant topic in each sentence**"
   ]
  },
  {
   "cell_type": "code",
   "execution_count": 235,
   "metadata": {},
   "outputs": [],
   "source": [
    "def format_topics_sentences(ldamodel, corpus, texts):\n",
    "    # Init output\n",
    "    sent_topics_df = pd.DataFrame()\n",
    "\n",
    "    # Get main topic in each document\n",
    "    for i, row in enumerate(ldamodel[corpus]):\n",
    "        row = sorted(row, key=lambda x: (x[1]), reverse=True)\n",
    "        # Get the Dominant topic, Perc Contribution and Keywords for each document\n",
    "        for j, (topic_num, prop_topic) in enumerate(row):\n",
    "            if j == 0:  # => dominant topic\n",
    "                wp = ldamodel.show_topic(topic_num)\n",
    "                topic_keywords = \", \".join([word for word, prop in wp])\n",
    "                sent_topics_df = sent_topics_df.append(pd.Series([int(topic_num), round(prop_topic,4), topic_keywords]), ignore_index=True)\n",
    "            else:\n",
    "                break\n",
    "    sent_topics_df.columns = ['Dominant_Topic', 'Perc_Contribution', 'Topic_Keywords']\n",
    "\n",
    "    # Add original text to the end of the output\n",
    "    contents = pd.Series(texts)\n",
    "    sent_topics_df = pd.concat([sent_topics_df, contents], axis=1)\n",
    "    return(sent_topics_df)"
   ]
  },
  {
   "cell_type": "code",
   "execution_count": 236,
   "metadata": {},
   "outputs": [
    {
     "data": {
      "text/html": [
       "<div>\n",
       "<style scoped>\n",
       "    .dataframe tbody tr th:only-of-type {\n",
       "        vertical-align: middle;\n",
       "    }\n",
       "\n",
       "    .dataframe tbody tr th {\n",
       "        vertical-align: top;\n",
       "    }\n",
       "\n",
       "    .dataframe thead th {\n",
       "        text-align: right;\n",
       "    }\n",
       "</style>\n",
       "<table border=\"1\" class=\"dataframe\">\n",
       "  <thead>\n",
       "    <tr style=\"text-align: right;\">\n",
       "      <th></th>\n",
       "      <th>Document_No</th>\n",
       "      <th>Dominant_Topic</th>\n",
       "      <th>Topic_Perc_Contrib</th>\n",
       "      <th>Keywords</th>\n",
       "      <th>Text</th>\n",
       "    </tr>\n",
       "  </thead>\n",
       "  <tbody>\n",
       "    <tr>\n",
       "      <th>0</th>\n",
       "      <td>0</td>\n",
       "      <td>1.0</td>\n",
       "      <td>0.9800</td>\n",
       "      <td>data, project, analysis, experience, skill, wo...</td>\n",
       "      <td>more than technical skills, i would say am goo...</td>\n",
       "    </tr>\n",
       "    <tr>\n",
       "      <th>1</th>\n",
       "      <td>1</td>\n",
       "      <td>6.0</td>\n",
       "      <td>0.5709</td>\n",
       "      <td>data, problem, skill, experience, work, abilit...</td>\n",
       "      <td>in regards to my talents, i have a strong bac...</td>\n",
       "    </tr>\n",
       "    <tr>\n",
       "      <th>2</th>\n",
       "      <td>2</td>\n",
       "      <td>5.0</td>\n",
       "      <td>0.9755</td>\n",
       "      <td>skill, data, analysis, problem, experience, bu...</td>\n",
       "      <td>i have exceptional time management skills. as ...</td>\n",
       "    </tr>\n",
       "    <tr>\n",
       "      <th>3</th>\n",
       "      <td>3</td>\n",
       "      <td>3.0</td>\n",
       "      <td>0.8568</td>\n",
       "      <td>good, project, data, work, people, skill, expe...</td>\n",
       "      <td>i am goo with back-end development and machine...</td>\n",
       "    </tr>\n",
       "    <tr>\n",
       "      <th>4</th>\n",
       "      <td>4</td>\n",
       "      <td>4.0</td>\n",
       "      <td>0.9740</td>\n",
       "      <td>new, skill, data, experience, project, problem...</td>\n",
       "      <td>i'm talented at self-control. i would finish m...</td>\n",
       "    </tr>\n",
       "    <tr>\n",
       "      <th>5</th>\n",
       "      <td>5</td>\n",
       "      <td>4.0</td>\n",
       "      <td>0.9570</td>\n",
       "      <td>new, skill, data, experience, project, problem...</td>\n",
       "      <td>i believe my biggest talent is being flexible...</td>\n",
       "    </tr>\n",
       "    <tr>\n",
       "      <th>6</th>\n",
       "      <td>6</td>\n",
       "      <td>4.0</td>\n",
       "      <td>0.9780</td>\n",
       "      <td>new, skill, data, experience, project, problem...</td>\n",
       "      <td>my name is aprillia and i've always been a cri...</td>\n",
       "    </tr>\n",
       "    <tr>\n",
       "      <th>7</th>\n",
       "      <td>7</td>\n",
       "      <td>0.0</td>\n",
       "      <td>0.9669</td>\n",
       "      <td>work, thing, new, problem, skill, able, projec...</td>\n",
       "      <td>1. i think i am talented at learning new thing...</td>\n",
       "    </tr>\n",
       "    <tr>\n",
       "      <th>8</th>\n",
       "      <td>8</td>\n",
       "      <td>0.0</td>\n",
       "      <td>0.9283</td>\n",
       "      <td>work, thing, new, problem, skill, able, projec...</td>\n",
       "      <td>i would say that my competitive advantage invo...</td>\n",
       "    </tr>\n",
       "    <tr>\n",
       "      <th>9</th>\n",
       "      <td>9</td>\n",
       "      <td>2.0</td>\n",
       "      <td>0.9713</td>\n",
       "      <td>problem, analysis, data, skill, experience, le...</td>\n",
       "      <td>i consider myself an analyst whether it be a ...</td>\n",
       "    </tr>\n",
       "  </tbody>\n",
       "</table>\n",
       "</div>"
      ],
      "text/plain": [
       "   Document_No  Dominant_Topic  Topic_Perc_Contrib  \\\n",
       "0            0             1.0              0.9800   \n",
       "1            1             6.0              0.5709   \n",
       "2            2             5.0              0.9755   \n",
       "3            3             3.0              0.8568   \n",
       "4            4             4.0              0.9740   \n",
       "5            5             4.0              0.9570   \n",
       "6            6             4.0              0.9780   \n",
       "7            7             0.0              0.9669   \n",
       "8            8             0.0              0.9283   \n",
       "9            9             2.0              0.9713   \n",
       "\n",
       "                                            Keywords  \\\n",
       "0  data, project, analysis, experience, skill, wo...   \n",
       "1  data, problem, skill, experience, work, abilit...   \n",
       "2  skill, data, analysis, problem, experience, bu...   \n",
       "3  good, project, data, work, people, skill, expe...   \n",
       "4  new, skill, data, experience, project, problem...   \n",
       "5  new, skill, data, experience, project, problem...   \n",
       "6  new, skill, data, experience, project, problem...   \n",
       "7  work, thing, new, problem, skill, able, projec...   \n",
       "8  work, thing, new, problem, skill, able, projec...   \n",
       "9  problem, analysis, data, skill, experience, le...   \n",
       "\n",
       "                                                Text  \n",
       "0  more than technical skills, i would say am goo...  \n",
       "1   in regards to my talents, i have a strong bac...  \n",
       "2  i have exceptional time management skills. as ...  \n",
       "3  i am goo with back-end development and machine...  \n",
       "4  i'm talented at self-control. i would finish m...  \n",
       "5   i believe my biggest talent is being flexible...  \n",
       "6  my name is aprillia and i've always been a cri...  \n",
       "7  1. i think i am talented at learning new thing...  \n",
       "8  i would say that my competitive advantage invo...  \n",
       "9   i consider myself an analyst whether it be a ...  "
      ]
     },
     "execution_count": 236,
     "metadata": {},
     "output_type": "execute_result"
    }
   ],
   "source": [
    "df_topic_sents_keywords = format_topics_sentences(ldamodel=optimal_model, corpus=corpus, texts=lst_doc)\n",
    "\n",
    "# Format\n",
    "df_dominant_topic = df_topic_sents_keywords.reset_index()\n",
    "df_dominant_topic.columns = ['Document_No', 'Dominant_Topic', 'Topic_Perc_Contrib', 'Keywords', 'Text']\n",
    "\n",
    "# Show\n",
    "df_dominant_topic.head(10)"
   ]
  },
  {
   "cell_type": "markdown",
   "metadata": {},
   "source": [
    "**Find the most representative document for each topic**"
   ]
  },
  {
   "cell_type": "code",
   "execution_count": 237,
   "metadata": {},
   "outputs": [],
   "source": [
    "def sent_topics_sorteddf(df_keyword):\n",
    "    sent_topics_sorteddf_mallet = pd.DataFrame()\n",
    "    sent_topics_outdf_grpd = df_keyword.groupby('Dominant_Topic')\n",
    "\n",
    "    for i, grp in sent_topics_outdf_grpd:\n",
    "        sent_topics_sorteddf_mallet = pd.concat([sent_topics_sorteddf_mallet, \n",
    "                                             grp.sort_values(['Perc_Contribution'], ascending=[0]).head(1)], \n",
    "                                            axis=0)\n",
    "\n",
    "    # Reset Index    \n",
    "    sent_topics_sorteddf_mallet.reset_index(drop=True, inplace=True)\n",
    "\n",
    "    # Format\n",
    "    sent_topics_sorteddf_mallet.columns = ['Topic_Num', \"Topic_Perc_Contrib\", \"Keywords\", \"Text\"]\n",
    "\n",
    "    # Show\n",
    "    return sent_topics_sorteddf_mallet"
   ]
  },
  {
   "cell_type": "code",
   "execution_count": 238,
   "metadata": {},
   "outputs": [
    {
     "data": {
      "text/html": [
       "<div>\n",
       "<style scoped>\n",
       "    .dataframe tbody tr th:only-of-type {\n",
       "        vertical-align: middle;\n",
       "    }\n",
       "\n",
       "    .dataframe tbody tr th {\n",
       "        vertical-align: top;\n",
       "    }\n",
       "\n",
       "    .dataframe thead th {\n",
       "        text-align: right;\n",
       "    }\n",
       "</style>\n",
       "<table border=\"1\" class=\"dataframe\">\n",
       "  <thead>\n",
       "    <tr style=\"text-align: right;\">\n",
       "      <th></th>\n",
       "      <th>Topic_Num</th>\n",
       "      <th>Topic_Perc_Contrib</th>\n",
       "      <th>Keywords</th>\n",
       "      <th>Text</th>\n",
       "    </tr>\n",
       "  </thead>\n",
       "  <tbody>\n",
       "    <tr>\n",
       "      <th>0</th>\n",
       "      <td>0.0</td>\n",
       "      <td>0.9940</td>\n",
       "      <td>work, thing, new, problem, skill, able, projec...</td>\n",
       "      <td>i am talented at working in groups, communicat...</td>\n",
       "    </tr>\n",
       "    <tr>\n",
       "      <th>1</th>\n",
       "      <td>1.0</td>\n",
       "      <td>0.9934</td>\n",
       "      <td>data, project, analysis, experience, skill, wo...</td>\n",
       "      <td>i believe that my one of my main talents is ar...</td>\n",
       "    </tr>\n",
       "    <tr>\n",
       "      <th>2</th>\n",
       "      <td>2.0</td>\n",
       "      <td>0.9908</td>\n",
       "      <td>problem, analysis, data, skill, experience, le...</td>\n",
       "      <td>i'm a quick learner and always eager to learn ...</td>\n",
       "    </tr>\n",
       "    <tr>\n",
       "      <th>3</th>\n",
       "      <td>3.0</td>\n",
       "      <td>0.9945</td>\n",
       "      <td>good, project, data, work, people, skill, expe...</td>\n",
       "      <td>i am a self-starter and i love to learn! to gi...</td>\n",
       "    </tr>\n",
       "    <tr>\n",
       "      <th>4</th>\n",
       "      <td>4.0</td>\n",
       "      <td>0.9907</td>\n",
       "      <td>new, skill, data, experience, project, problem...</td>\n",
       "      <td>as a current freshman studying at the universi...</td>\n",
       "    </tr>\n",
       "    <tr>\n",
       "      <th>5</th>\n",
       "      <td>5.0</td>\n",
       "      <td>0.9943</td>\n",
       "      <td>skill, data, analysis, problem, experience, bu...</td>\n",
       "      <td>i am a passionate programmer with extensive ba...</td>\n",
       "    </tr>\n",
       "    <tr>\n",
       "      <th>6</th>\n",
       "      <td>6.0</td>\n",
       "      <td>0.9907</td>\n",
       "      <td>data, problem, skill, experience, work, abilit...</td>\n",
       "      <td>i believe my main talent is my use of soft ski...</td>\n",
       "    </tr>\n",
       "  </tbody>\n",
       "</table>\n",
       "</div>"
      ],
      "text/plain": [
       "   Topic_Num  Topic_Perc_Contrib  \\\n",
       "0        0.0              0.9940   \n",
       "1        1.0              0.9934   \n",
       "2        2.0              0.9908   \n",
       "3        3.0              0.9945   \n",
       "4        4.0              0.9907   \n",
       "5        5.0              0.9943   \n",
       "6        6.0              0.9907   \n",
       "\n",
       "                                            Keywords  \\\n",
       "0  work, thing, new, problem, skill, able, projec...   \n",
       "1  data, project, analysis, experience, skill, wo...   \n",
       "2  problem, analysis, data, skill, experience, le...   \n",
       "3  good, project, data, work, people, skill, expe...   \n",
       "4  new, skill, data, experience, project, problem...   \n",
       "5  skill, data, analysis, problem, experience, bu...   \n",
       "6  data, problem, skill, experience, work, abilit...   \n",
       "\n",
       "                                                Text  \n",
       "0  i am talented at working in groups, communicat...  \n",
       "1  i believe that my one of my main talents is ar...  \n",
       "2  i'm a quick learner and always eager to learn ...  \n",
       "3  i am a self-starter and i love to learn! to gi...  \n",
       "4  as a current freshman studying at the universi...  \n",
       "5  i am a passionate programmer with extensive ba...  \n",
       "6  i believe my main talent is my use of soft ski...  "
      ]
     },
     "execution_count": 238,
     "metadata": {},
     "output_type": "execute_result"
    }
   ],
   "source": [
    "df_q_topic = sent_topics_sorteddf(df_topic_sents_keywords)\n",
    "df_q_topic"
   ]
  },
  {
   "cell_type": "code",
   "execution_count": 240,
   "metadata": {},
   "outputs": [
    {
     "name": "stdout",
     "output_type": "stream",
     "text": [
      "work, thing, new, problem, skill, able, project, good, experience, computer\n",
      "data, project, analysis, experience, skill, work, problem, team, learning, good\n",
      "problem, analysis, data, skill, experience, learning, good, advantage, team, project\n",
      "good, project, data, work, people, skill, experience, problem, machine, python\n",
      "new, skill, data, experience, project, problem, analysis, thing, competitive, advantage\n",
      "skill, data, analysis, problem, experience, business, project, ability, new, programming\n",
      "data, problem, skill, experience, work, ability, programming, project, research, analysis\n"
     ]
    }
   ],
   "source": [
    "for i in df_q_topic.Keywords:\n",
    "    print(i)"
   ]
  },
  {
   "cell_type": "code",
   "execution_count": 241,
   "metadata": {},
   "outputs": [
    {
     "data": {
      "text/plain": [
       "['i am talented at working in groups, communicating, learning new tasks and operation quickly, and being adaptable when need be. the skills that truly define me as an individual however that gives me a competitive advantage over others is my ability to communicate well and adapt under new circumstances. communication is the backbone of any company. one needs to be able to talk to effectively and efficiently to get their meaning across while also making sure to receive information as well. my ability to adapt is also important as projects or an assignment might change, and the need to adapt to that change smoothly is vital in order to stay on task and get it done in a timely manner.',\n",
       " 'i believe that my one of my main talents is articulating my thoughts well enough to present my analyses objectively and i believe that i can leverage this skill in a data-driven work environment. i can easily adapt to different communication styles, while interacting with management, customers or my peers. my undergraduate degree in mechanical engineering and the multiple advanced math courses i took in college have given me the ability to solve problems using logic and critical thinking. apart from these, i think the most important and valuable talents that i possess are the proclivity to persevere and the curiosity to learn new things. i say this because coming from a mechanical engineering background and having no prior experience in it or data analysis, i still chose to pursue my master’s degree in the field of data science. my desire to explore new things and my fascination with the numerous applications of analysis drove me towards this path. i knew i was taking a risk when i left the comfort of my job at the ford motor company in chennai to move to the united states and start working towards a new career goal. i still find it more challenging than my peers to work through the it-core courses that my program offers, but my determination and willingness to put in the extra effort to learn and excel in the field of analysis have helped me get through my first semester with flying colors and this has given me a lot of confidence to keep going. i believe all these qualities will help me progress in this field and give me a competitive advantage over others.',\n",
       " \"i'm a quick learner and always eager to learn new things including new technologies or programming languages. i'm also good at solving puzzles and identifying patterns in numbers, data, or events, and i've always loved doing this. in regard to interpersonal skills, i think that i work well collaboratively with a team and am always open to feedback and ways to improve.\",\n",
       " 'i am a self-starter and i love to learn! to give you an example, when i was deciding on a major to pursue, i was immensely intrigued by digital communications. i immediately dove into researching the coursework, and was thrilled when i found that a significant portion of the major was devoted to website design. this interest lead me to teaching myself the basic syntax of html, javascript and css. during my first semester at calvin college, i took a website design course and discovered that i loved the content. not only did the class reinforce my knowledge of the aforementioned programming languages, but also taught me how to apply that knowledge in order to create websites that are visually appealing and user-friendly. i intensely enjoyed the challenge of making websites that met these criteria. i am eager to bolster my knowledge and use it to benefit forkaia.',\n",
       " 'as a current freshman studying at the university of california, berkeley, i have long been interested in the field of marketing. currently, i’m working with colourpop through undergraduate marketing association providing them with marketing recommendations. this opportunity of branding and commercializing for colourpop came through with a generous helping of current market understanding while simultaneously fueling my passion for marketing. it is with a keen interest that i am responding to your company for an internship as an marketing intern. i am intended to double major in both economics and psychology with a possible concentration in media studies, and through relevant courses and with my strong attention to detail, organizational and public communication skills, i am eager to intern with forkaia. \\n\\t\\t\\t\\t\\t\\t\\nthroughout my education and club experience, i have developed and applied analytical and marketing skills in a variety of team-based projects. for example, working as a strategy consultant for undergraduate marketing association and conducting market research and creating competitor analysis truly strengthened my knowledge of the marketing field. my fellow consultants and i collaborated on the competitor analysis of cosmetic brands and conducted a quantitative survey and a qualitative focus group. as the publicity chair for hall association, i also designed and distributed means of announcing and promoting for hall association to the community residents. i believe my skills along with my affinity for the marketing field as a whole have prepared me well to make a strong contribution to forkaia.',\n",
       " 'i am a passionate programmer with extensive background in coding, database and systems\\nmanagement. moreover, i have consulting experience that has given me the entrepreneurial passion\\nneeded to fully utilize my skills to work on revolutionary projects such as the ones supported by\\nforkaia. i think what therefore makes gives me a competitive advantage is the diversity of my skill\\nset and experiences. my experience in coding and data analysis is supplemented with knowledge of\\npredictive modeling as an economics minor and as a former human connections intern. at human\\nconnections, i helped small businesses with growth strategies and have since appreciated platforms\\nthat support companies that are working on projects that will eventually change our existing markets.\\nby working on multiple projects during my undergraduate studies, i have developed strong\\nskills in machine learning and predictive modeling that will allow me to test and predict results based\\non consumer data during the internship. i have also worked significantly with c++ while designing\\nvarious algorithms for games, functions and mathematical operations. through my coding experience\\ni can design, test and review codes for forkaia, which is essential for the software development\\nneeds of the company. in addition to programming, my experience in data analysis will allow me to\\nclean, scrap and visualize data for clients to see their progress. i believe my programming experience\\nand my experience in economics makes me a unique candidate for i possess an amalgamation of skills\\nthat define both a programmer as well as an innovator.\\ni also have taken multiple courses in accounting, politics and government and comparative\\nliterature as i am not afraid of taking risks. this also shows the diverse amount of knowledge i will\\nbring to the company, which is what a creative ecosystem such as forkaia demands.\\nalthough programming is my ultimate love, it is not my only passion. during college i have\\n\\nbeen involved in multiple organizations. my love for numbers enabled me to be selected as the vice-\\npresident of finance for my university’s president club. i was involved with budget management of\\n\\nmy club for a year. i recently got selected as the resident assistant of my dormitory; an experience\\nthat will enable me to be operate under pressure and teach me to deal with problems responsibly. all\\nof these experiences have taught me to multitask and work efficiently with teams. hence, i believe\\nthat what makes me a unique candidate is my multifaceted personality and a broad range of skills i\\nhave developed and strengthened through hands-on experiences, ranging from coding and consulting\\nto team management.',\n",
       " 'i believe my main talent is my use of soft skills in any field of work. i see myself as a problem solver and one way in which i believe a problem can be best solved is if all parties involved is satisfied or agrees with a given solution. i am a mediator and i work well in teams and also on my own.']"
      ]
     },
     "execution_count": 241,
     "metadata": {},
     "output_type": "execute_result"
    }
   ],
   "source": [
    "df_q_topic.Text.tolist()"
   ]
  },
  {
   "cell_type": "code",
   "execution_count": null,
   "metadata": {},
   "outputs": [],
   "source": []
  }
 ],
 "metadata": {
  "kernelspec": {
   "display_name": "Python 3",
   "language": "python",
   "name": "python3"
  },
  "language_info": {
   "codemirror_mode": {
    "name": "ipython",
    "version": 3
   },
   "file_extension": ".py",
   "mimetype": "text/x-python",
   "name": "python",
   "nbconvert_exporter": "python",
   "pygments_lexer": "ipython3",
   "version": "3.6.7"
  }
 },
 "nbformat": 4,
 "nbformat_minor": 2
}
