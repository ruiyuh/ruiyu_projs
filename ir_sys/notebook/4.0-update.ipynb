{
 "cells": [
  {
   "cell_type": "code",
   "execution_count": 1,
   "metadata": {},
   "outputs": [
    {
     "name": "stdout",
     "output_type": "stream",
     "text": [
      "Ruiyu Hu 2019-03-17 \n",
      "\n",
      "CPython 3.6.7\n",
      "IPython 7.0.1\n",
      "\n",
      "compiler   : MSC v.1915 64 bit (AMD64)\n",
      "system     : Windows\n",
      "release    : 10\n",
      "machine    : AMD64\n",
      "processor  : Intel64 Family 6 Model 58 Stepping 9, GenuineIntel\n",
      "CPU cores  : 4\n",
      "interpreter: 64bit\n"
     ]
    }
   ],
   "source": [
    "%load_ext watermark\n",
    "%watermark -a \"Ruiyu Hu\" -d -v -m"
   ]
  },
  {
   "cell_type": "code",
   "execution_count": 2,
   "metadata": {},
   "outputs": [],
   "source": [
    "# read the pdf file\n",
    "import PyPDF2 \n",
    "\n",
    "# tokenize\n",
    "import nltk\n",
    "from nltk.corpus import stopwords\n",
    "from nltk.tokenize import sent_tokenize, word_tokenize\n",
    "from textblob import TextBlob\n",
    "\n",
    "# create inverse index\n",
    "\n",
    "import math\n",
    "import glob\n",
    "import json\n",
    "import operator\n",
    "from collections import Counter,defaultdict\n",
    "\n",
    "\n",
    "\n",
    "import numpy as np\n",
    "import pandas as pd\n",
    "\n",
    "from sklearn.feature_extraction.text import CountVectorizer,TfidfTransformer,TfidfVectorizer\n",
    "\n",
    "\n",
    "import warnings\n",
    "warnings.filterwarnings('ignore')"
   ]
  },
  {
   "cell_type": "markdown",
   "metadata": {},
   "source": [
    "**Create Tokenize**"
   ]
  },
  {
   "cell_type": "code",
   "execution_count": 9,
   "metadata": {},
   "outputs": [],
   "source": [
    "#%%file tokenize.py\n",
    "\n",
    "from textblob import TextBlob\n",
    "\n",
    "def get_file_names():\n",
    "    files = []\n",
    "    for file in glob.glob(\"../data/text/*.txt\"):\n",
    "        files.append(file)\n",
    "    return files\n",
    "###########################################################################\n",
    "def convert(file):\n",
    "    text = []\n",
    "    with open(str(file), 'rb') as f:\n",
    "        for line in f.readlines():\n",
    "            text.append(line.decode(\"utf-8\", \"ignore\").strip())\n",
    "    return text\n",
    "\n",
    "###########################################################################     \n",
    "def tokenize(lst):            \n",
    "    # create a list of token\n",
    "    \n",
    "    tokens = [None] * len(lst)\n",
    "    for i in range(len(lst)):\n",
    "        tokens[i] = clean_token(lst[i])\n",
    "    tokens = [t for tok in tokens for t in tok] \n",
    "    return tokens\n",
    "\n",
    "########################################################################### \n",
    "def clean_token(text):\n",
    "    #porter = nltk.PorterStemmer()\n",
    "    lemmatizer = nltk.WordNetLemmatizer()\n",
    "    #snowball = nltk.SnowballStemmer('english')\n",
    "        \n",
    "    stopset = set(stopwords.words('english'))\n",
    "    stopset.update(('less','year'))\n",
    "    \n",
    "    noun_lst = []\n",
    "\n",
    "    for word,tag in (TextBlob(text).tags):\n",
    "        if tag in (\"NN\", \"NNS\", \"NNP\", \"NNPS\",\"JJ\"):\n",
    "            word = word.lower()\n",
    "            word = lemmatizer.lemmatize(word)\n",
    "            #word = porter.stem(word)\n",
    "            #word = snowball.stem(word)\n",
    "            if word not in stopset and word.isalpha() and len(word)>2:\n",
    "                noun_lst.append(word)\n",
    "    return noun_lst"
   ]
  },
  {
   "cell_type": "markdown",
   "metadata": {},
   "source": [
    "**create index**"
   ]
  },
  {
   "cell_type": "code",
   "execution_count": 3,
   "metadata": {},
   "outputs": [
    {
     "data": {
      "text/plain": [
       "['../data/text\\\\100128282NAKUL KUMAR_original.txt',\n",
       " '../data/text\\\\100276799CV_ajoy.txt']"
      ]
     },
     "execution_count": 3,
     "metadata": {},
     "output_type": "execute_result"
    }
   ],
   "source": [
    "def get_file_names():\n",
    "    files = []\n",
    "    for file in glob.glob(\"../data/text/*.txt\"):\n",
    "        files.append(file)\n",
    "    return files\n",
    "\n",
    "get_file_names()[:2]"
   ]
  },
  {
   "cell_type": "code",
   "execution_count": 12,
   "metadata": {},
   "outputs": [],
   "source": [
    "def get_file_names():\n",
    "    files = []\n",
    "    for file in glob.glob(\"../data/text/*.txt\"):\n",
    "        files.append(file)\n",
    "    return files\n",
    "\n",
    "#get_file_names()\n",
    "def make_idx(tokens, doc_name, idx, length):\n",
    "    for term in set(tokens):\n",
    "        idx[term].append([doc_name,tokens.count(term)])\n",
    "        length[doc_name] = len(set(tokens))\n",
    "\n",
    "def write(inverted_idx,len_idx):\n",
    "    inv_idx_file = open(\"../data/indexes/inverted_idx.json\",\"w\")\n",
    "    json.dump(inverted_idx,inv_idx_file)\n",
    "\n",
    "    len_idx_file = open(\"../data/indexes/len_idx.json\",\"w\")\n",
    "    json.dump(len_idx,len_idx_file)\n",
    "    \n",
    "def generate_idx():\n",
    "    resume_files = get_file_names()\n",
    "    inverted_index = defaultdict(list)\n",
    "    length_index = defaultdict(list)\n",
    "    \n",
    "    for file in resume_files:\n",
    "        make_idx(tokenize(convert(file)), file, inverted_index, length_index)\n",
    "        \n",
    "    write(inverted_index,length_index)\n",
    "    print (\"Indexes generated\")\n",
    "    "
   ]
  },
  {
   "cell_type": "code",
   "execution_count": 13,
   "metadata": {},
   "outputs": [
    {
     "name": "stdout",
     "output_type": "stream",
     "text": [
      "Indexes generated\n"
     ]
    }
   ],
   "source": [
    "generate_idx()"
   ]
  },
  {
   "cell_type": "code",
   "execution_count": null,
   "metadata": {},
   "outputs": [],
   "source": [
    "'''inv_idx_file = open(\"../data/indexes/inverted_idx.json\",\"r\")\n",
    "inv_indx = json.load(inv_idx_file)\n",
    "# create dictionary\n",
    "doc_freq ={}\n",
    "for key in sorted(inv_indx.keys()):\n",
    "    doc_freq[key] = sum(Counter(set(doc_id for doc_id, term in inv_indx[key])).values())\n",
    "\n",
    "dictionary = pd.DataFrame.from_dict(doc_freq,orient='index', columns=['DocFreq'])\n",
    "dictionary.head()'''"
   ]
  },
  {
   "cell_type": "code",
   "execution_count": null,
   "metadata": {},
   "outputs": [],
   "source": []
  },
  {
   "cell_type": "markdown",
   "metadata": {},
   "source": [
    "**create retrieval-The BM25 Weighting Scheme**"
   ]
  },
  {
   "cell_type": "code",
   "execution_count": 14,
   "metadata": {},
   "outputs": [],
   "source": [
    "from math import log\n",
    "\n",
    "'''\n",
    "IR Book: 11.4.3\n",
    "Fomula: 11.33\n",
    "'''\n",
    "'''\n",
    "typical TREC value (Text Retrieval Conference (TREC).)\n",
    "f1 = 1.2\n",
    "k2 varies from 0 to 1000\n",
    "b = 0.75\n",
    "'''\n",
    "\n",
    "k1 = 1.2\n",
    "b = 0.75\n",
    "k2 = 300\n",
    "R = 0 # (set it to 0 since no relevancy info is known)\n",
    "\n",
    "\n",
    "\n",
    "def BM25(doc_len, avg_doc_len, n_doc_w_term, n_total_doc, freq_term_doc, freq_term_query, rel_doc_w_term):\n",
    "    \n",
    "    n = n_doc_w_term\n",
    "    N = n_total_doc\n",
    "    f = freq_term_doc\n",
    "    q = freq_term_query\n",
    "    r = rel_doc_w_term\n",
    "    \n",
    "    p1 = ((k2 + 1) * q) / (k2 + q) #Relevance between term and query\n",
    "    p2 = ((k1 + 1) * f) / (getK(doc_len, avg_doc_len) + f) #Relevance between term and document\n",
    "    p3 = log((((r + 0.5)/(R-r+0.5)) / ((n - r + 0.5)/(N - n - R + r + 0.5)))+1) # Term Weight\n",
    "    return p1 * p2 * p3\n",
    "\n",
    "def getK(doc_len, avg_doc_len):\n",
    "    return k1 * ((1 - b) + b * (float(doc_len) / float(avg_doc_len)))\n",
    "    \n",
    "def sigmoid(x):\n",
    "    return 1 / (1 + math.exp(-x))"
   ]
  },
  {
   "cell_type": "code",
   "execution_count": 23,
   "metadata": {},
   "outputs": [],
   "source": [
    "# get average document length\n",
    "def get_avg_doc_len(len_idx):\n",
    "    _length = 0\n",
    "    for doc in len_idx:\n",
    "        _length += len_idx[doc]\n",
    "    return float(_length) / float(len(len_idx))\n",
    "\n",
    "def search(query):\n",
    "    generate_idx()\n",
    "    inv_idx_file = open(\"../data/indexes/inverted_idx.json\",\"r\")\n",
    "    inverted_idx = json.load(inv_idx_file)\n",
    "\n",
    "    len_idx_file = open(\"../data/indexes/len_idx.json\",\"r\")\n",
    "    len_idx = json.load(len_idx_file)\n",
    "\n",
    "    scores = defaultdict(list)\n",
    "    \n",
    "    query_tokens = query.split()\n",
    "    for token in query_tokens:\n",
    "    #for token in query:\n",
    "        if token in inverted_idx.keys():\n",
    "            for entry in inverted_idx[token]:\n",
    "                bm25_val = BM25(len_idx[entry[0]],get_avg_doc_len(len_idx),len(inverted_idx[token]),len(len_idx),entry[1],1,0)\n",
    "                scores[entry[0]] = round(bm25_val,4)\n",
    "    result = sorted(scores.items(),key=operator.itemgetter(1),reverse=True)\n",
    "    return result"
   ]
  },
  {
   "cell_type": "code",
   "execution_count": 24,
   "metadata": {},
   "outputs": [
    {
     "name": "stdout",
     "output_type": "stream",
     "text": [
      "Indexes generated\n"
     ]
    },
    {
     "data": {
      "text/plain": [
       "[('../data/text\\\\105377002jobin resume.txt', 1.6662),\n",
       " ('../data/text\\\\114030789fazle_resume.txt', 1.5096),\n",
       " ('../data/text\\\\105117109GAURAV RESUME.txt', 1.4695),\n",
       " ('../data/text\\\\119391331Arshad cv new 2015.txt', 1.4537),\n",
       " ('../data/text\\\\108877856Resume_-_Iqbal.txt', 1.4284),\n",
       " ('../data/text\\\\116252012oct21myelectricalcv2011.txt', 1.3691),\n",
       " ('../data/text\\\\112216114ehtesham_resume.txt', 1.3211),\n",
       " ('../data/text\\\\100276799CV_ajoy.txt', 1.2701),\n",
       " ('../data/text\\\\114891715selvam_mep.txt', 1.2341),\n",
       " ('../data/text\\\\115876417RESUME.txt', 1.2268)]"
      ]
     },
     "execution_count": 24,
     "metadata": {},
     "output_type": "execute_result"
    }
   ],
   "source": [
    "search('electrical engineer')[:10]"
   ]
  },
  {
   "cell_type": "markdown",
   "metadata": {},
   "source": [
    "**w2v approach**"
   ]
  },
  {
   "cell_type": "code",
   "execution_count": 56,
   "metadata": {},
   "outputs": [
    {
     "name": "stdout",
     "output_type": "stream",
     "text": [
      "-------------------------------------------\n",
      "Loading word2vec model cost 108.422 seconds...\n",
      "\n"
     ]
    }
   ],
   "source": [
    "import time\n",
    "from gensim.models import KeyedVectors\n",
    "t1 = time.time()\n",
    "path = 'C:/Users/RayHu/Downloads/google_w2v/GoogleNews-vectors-negative300.bin'\n",
    "model = KeyedVectors.load_word2vec_format(path, binary=True)\n",
    "print('-------------------------------------------')\n",
    "print(\"Loading word2vec model cost %.3f seconds...\\n\" % (time.time() - t1))"
   ]
  },
  {
   "cell_type": "code",
   "execution_count": 147,
   "metadata": {},
   "outputs": [
    {
     "name": "stdout",
     "output_type": "stream",
     "text": [
      "Overwriting vectorize.py\n"
     ]
    }
   ],
   "source": [
    "%%file vectorize.py\n",
    "\n",
    "import time\n",
    "import numpy as np\n",
    "from numpy import linalg as LA\n",
    "from gensim.models import KeyedVectors\n",
    "import tokenize\n",
    "\n",
    "t1 = time.time()\n",
    "#download link: https://github.com/mmihaltz/word2vec-GoogleNews-vectors\n",
    "path = 'C:/Users/RayHu/Downloads/google_w2v/GoogleNews-vectors-negative300.bin'\n",
    "model = KeyedVectors.load_word2vec_format(path, binary=True)\n",
    "print('-------------------------------------------')\n",
    "print(\"Loading word2vec model cost %.3f seconds...\\n\" % (time.time() - t1))\n",
    "\n",
    "# -------------------------------------------\n",
    "#Loading word2vec model cost 108.422 seconds...\n",
    "\n",
    "def vectorize(words):\n",
    "    '''\n",
    "    transform the doc and query into vectors\n",
    "    '''\n",
    "    word_vec = []\n",
    "    for word in words:\n",
    "        try:\n",
    "            vec = model[word]\n",
    "            word_vec.append(vec)\n",
    "        except KeyError:\n",
    "            # ignore the word if it is not in the w2v vocablary\n",
    "            pass\n",
    "    vector = np.mean(word_vec,axis = 0)\n",
    "    return vector\n",
    "\n",
    "def cos_sim(vector1, vector2):\n",
    "    '''\n",
    "    the fomula to calculte cosine cimilarity \n",
    "    '''\n",
    "    sim = np.dot(vector1, vector2) / (LA.norm(vector1) * LA.norm(vector2))\n",
    "    \n",
    "    if np.isnan(np.sum(sim)):\n",
    "        return 0\n",
    "    \n",
    "    return sim\n",
    "\n",
    "def calc_sim(query, threshold = 0):\n",
    "    '''\n",
    "    calculate similarity scores between documents and the query\n",
    "    '''\n",
    "    query = clean_token(query)\n",
    "    file_list = get_file_names()\n",
    "    documents = {}\n",
    "    \n",
    "    for i in range(len(file_list)):\n",
    "        documents[file_list[i]] = tokenize(convert(file_list[i]))\n",
    "        \n",
    "    query_vec = vectorize(query)\n",
    "    results = {}\n",
    "    \n",
    "    for name, doc in documents.items():\n",
    "        doc_vec = vectorize(doc)\n",
    "        sim_score = cos_sim(query_vec, doc_vec)\n",
    "        if sim_score > threshold:\n",
    "            results[name] = sim_score\n",
    "            sort_result = sorted(results.items(),key=operator.itemgetter(1),reverse=True)\n",
    "    return sort_result"
   ]
  },
  {
   "cell_type": "code",
   "execution_count": null,
   "metadata": {},
   "outputs": [],
   "source": [
    "query = 'define business metric and perform insight analysis'\n",
    "calc_sim(query, 0)[:5]"
   ]
  },
  {
   "cell_type": "markdown",
   "metadata": {},
   "source": [
    "**create Ranker**"
   ]
  },
  {
   "cell_type": "code",
   "execution_count": 138,
   "metadata": {},
   "outputs": [],
   "source": [
    "def matching(query):\n",
    "    results_bm25 = search(query)[:5]\n",
    "    results_cos = calc_sim(query, 0)[:5]\n",
    "    print('Ranking by BM25')\n",
    "    for result in results_bm25:\n",
    "        print(result)\n",
    "    print('Ranking by cosine similarity')\n",
    "    for result in results_cos:\n",
    "        print(result)\n",
    "    #return results_bm25, results_cos"
   ]
  },
  {
   "cell_type": "code",
   "execution_count": 139,
   "metadata": {},
   "outputs": [
    {
     "name": "stdout",
     "output_type": "stream",
     "text": [
      "Indexes generated\n",
      "Ranking by BM25\n",
      "('../data/documents\\\\de002.pdf', 2.5891)\n",
      "('../data/documents\\\\ds004.pdf', 2.4813)\n",
      "('../data/documents\\\\da005.pdf', 1.5244)\n",
      "('../data/documents\\\\ds002.pdf', 1.4832)\n",
      "('../data/documents\\\\ds001.pdf', 1.436)\n",
      "Ranking by cosine similarity\n",
      "('../data/documents\\\\ds002.pdf', 0.657538)\n",
      "('../data/documents\\\\da004.pdf', 0.6372742)\n",
      "('../data/documents\\\\da003.pdf', 0.63445765)\n",
      "('../data/documents\\\\de005.pdf', 0.619592)\n",
      "('../data/documents\\\\ds001.pdf', 0.6021874)\n"
     ]
    }
   ],
   "source": [
    "matching('define business metric, perform insight analysis')"
   ]
  },
  {
   "cell_type": "markdown",
   "metadata": {},
   "source": [
    "## Jd side"
   ]
  },
  {
   "cell_type": "code",
   "execution_count": 131,
   "metadata": {},
   "outputs": [],
   "source": [
    "def clean_jd(jd):\n",
    "    '''\n",
    "    method 2: terms sorted by tf idf weights\n",
    "    '''\n",
    "    doc = clean_token(jd)\n",
    "    \n",
    "    cv=CountVectorizer()\n",
    "    word_count_vector=cv.fit_transform(doc)\n",
    "    \n",
    "    #calculate the weights for each term in each document\n",
    "    tfidf_transformer=TfidfTransformer()\n",
    "    tf_idf_vector = tfidf_transformer.fit_transform(word_count_vector)\n",
    "    #the top 20 terms by average tf-idf weight\n",
    "    weights = np.asarray(tf_idf_vector.mean(axis=0)).ravel().tolist()\n",
    "    weights_df = pd.DataFrame({'term': cv.get_feature_names(), 'weight': weights}).sort_values(by='weight', ascending=False).head(10)\n",
    "    return weights_df.term.tolist()"
   ]
  },
  {
   "cell_type": "markdown",
   "metadata": {},
   "source": [
    "## Search"
   ]
  },
  {
   "cell_type": "code",
   "execution_count": 121,
   "metadata": {},
   "outputs": [],
   "source": [
    "dirt = '../data/job_description/ml-jd-adobe.pdf'"
   ]
  },
  {
   "cell_type": "code",
   "execution_count": 22,
   "metadata": {},
   "outputs": [],
   "source": [
    "# method 2\n",
    "#print(matching(clean_jd(dirt)))"
   ]
  },
  {
   "cell_type": "code",
   "execution_count": 132,
   "metadata": {},
   "outputs": [
    {
     "name": "stdout",
     "output_type": "stream",
     "text": [
      "Enter search query\n"
     ]
    },
    {
     "name": "stdin",
     "output_type": "stream",
     "text": [
      "::  Experience with supervised and unsupervised machine learning algorithms, and ensemble methods\n"
     ]
    },
    {
     "name": "stdout",
     "output_type": "stream",
     "text": [
      "Indexes generated\n"
     ]
    },
    {
     "ename": "AttributeError",
     "evalue": "'list' object has no attribute 'split'",
     "output_type": "error",
     "traceback": [
      "\u001b[1;31m---------------------------------------------------------------------------\u001b[0m",
      "\u001b[1;31mAttributeError\u001b[0m                            Traceback (most recent call last)",
      "\u001b[1;32m<ipython-input-132-09431a1431ec>\u001b[0m in \u001b[0;36m<module>\u001b[1;34m\u001b[0m\n\u001b[0;32m      2\u001b[0m \u001b[0mjd\u001b[0m \u001b[1;33m=\u001b[0m \u001b[0minput\u001b[0m\u001b[1;33m(\u001b[0m\u001b[1;34m\":: \"\u001b[0m\u001b[1;33m)\u001b[0m\u001b[1;33m\u001b[0m\u001b[1;33m\u001b[0m\u001b[0m\n\u001b[0;32m      3\u001b[0m \u001b[0mkeywords\u001b[0m \u001b[1;33m=\u001b[0m \u001b[0mclean_jd\u001b[0m\u001b[1;33m(\u001b[0m\u001b[0mjd\u001b[0m\u001b[1;33m)\u001b[0m\u001b[1;33m\u001b[0m\u001b[1;33m\u001b[0m\u001b[0m\n\u001b[1;32m----> 4\u001b[1;33m \u001b[0mresults\u001b[0m \u001b[1;33m=\u001b[0m \u001b[0mmatching\u001b[0m\u001b[1;33m(\u001b[0m\u001b[0mkeywords\u001b[0m\u001b[1;33m)\u001b[0m\u001b[1;33m\u001b[0m\u001b[1;33m\u001b[0m\u001b[0m\n\u001b[0m\u001b[0;32m      5\u001b[0m \u001b[1;33m\u001b[0m\u001b[0m\n\u001b[0;32m      6\u001b[0m \u001b[1;31m#for result in results:\u001b[0m\u001b[1;33m\u001b[0m\u001b[1;33m\u001b[0m\u001b[1;33m\u001b[0m\u001b[0m\n",
      "\u001b[1;32m<ipython-input-127-dfb0467be21d>\u001b[0m in \u001b[0;36mmatching\u001b[1;34m(query)\u001b[0m\n\u001b[0;32m      1\u001b[0m \u001b[1;32mdef\u001b[0m \u001b[0mmatching\u001b[0m\u001b[1;33m(\u001b[0m\u001b[0mquery\u001b[0m\u001b[1;33m)\u001b[0m\u001b[1;33m:\u001b[0m\u001b[1;33m\u001b[0m\u001b[1;33m\u001b[0m\u001b[0m\n\u001b[1;32m----> 2\u001b[1;33m     \u001b[0mresults_bm25\u001b[0m \u001b[1;33m=\u001b[0m \u001b[0msearch\u001b[0m\u001b[1;33m(\u001b[0m\u001b[0mquery\u001b[0m\u001b[1;33m)\u001b[0m\u001b[1;33m[\u001b[0m\u001b[1;33m:\u001b[0m\u001b[1;36m5\u001b[0m\u001b[1;33m]\u001b[0m\u001b[1;33m\u001b[0m\u001b[1;33m\u001b[0m\u001b[0m\n\u001b[0m\u001b[0;32m      3\u001b[0m     \u001b[0mresults_cos\u001b[0m \u001b[1;33m=\u001b[0m \u001b[0mcalc_sim\u001b[0m\u001b[1;33m(\u001b[0m\u001b[0mquery\u001b[0m\u001b[1;33m,\u001b[0m \u001b[1;36m0\u001b[0m\u001b[1;33m)\u001b[0m\u001b[1;33m[\u001b[0m\u001b[1;33m:\u001b[0m\u001b[1;36m5\u001b[0m\u001b[1;33m]\u001b[0m\u001b[1;33m\u001b[0m\u001b[1;33m\u001b[0m\u001b[0m\n\u001b[0;32m      4\u001b[0m     \u001b[0mprint\u001b[0m\u001b[1;33m(\u001b[0m\u001b[1;34m'bm25 score'\u001b[0m\u001b[1;33m)\u001b[0m\u001b[1;33m\u001b[0m\u001b[1;33m\u001b[0m\u001b[0m\n\u001b[0;32m      5\u001b[0m     \u001b[0mprint\u001b[0m\u001b[1;33m(\u001b[0m\u001b[0mresults_bm25\u001b[0m\u001b[1;33m)\u001b[0m\u001b[1;33m\u001b[0m\u001b[1;33m\u001b[0m\u001b[0m\n",
      "\u001b[1;32m<ipython-input-28-b8bc4caa6614>\u001b[0m in \u001b[0;36msearch\u001b[1;34m(query)\u001b[0m\n\u001b[0;32m     16\u001b[0m     \u001b[0mscores\u001b[0m \u001b[1;33m=\u001b[0m \u001b[0mdefaultdict\u001b[0m\u001b[1;33m(\u001b[0m\u001b[0mlist\u001b[0m\u001b[1;33m)\u001b[0m\u001b[1;33m\u001b[0m\u001b[1;33m\u001b[0m\u001b[0m\n\u001b[0;32m     17\u001b[0m \u001b[1;33m\u001b[0m\u001b[0m\n\u001b[1;32m---> 18\u001b[1;33m     \u001b[0mquery_tokens\u001b[0m \u001b[1;33m=\u001b[0m \u001b[0mquery\u001b[0m\u001b[1;33m.\u001b[0m\u001b[0msplit\u001b[0m\u001b[1;33m(\u001b[0m\u001b[1;33m)\u001b[0m\u001b[1;33m\u001b[0m\u001b[1;33m\u001b[0m\u001b[0m\n\u001b[0m\u001b[0;32m     19\u001b[0m     \u001b[1;32mfor\u001b[0m \u001b[0mtoken\u001b[0m \u001b[1;32min\u001b[0m \u001b[0mquery_tokens\u001b[0m\u001b[1;33m:\u001b[0m\u001b[1;33m\u001b[0m\u001b[1;33m\u001b[0m\u001b[0m\n\u001b[0;32m     20\u001b[0m     \u001b[1;31m#for token in query:\u001b[0m\u001b[1;33m\u001b[0m\u001b[1;33m\u001b[0m\u001b[1;33m\u001b[0m\u001b[0m\n",
      "\u001b[1;31mAttributeError\u001b[0m: 'list' object has no attribute 'split'"
     ]
    }
   ],
   "source": [
    "print (\"Enter search query\")\n",
    "jd = input(\":: \")\n",
    "keywords = clean_jd(jd)\n",
    "results = matching(keywords)\n",
    "print(\"\\nThe Matching Resumes Are:\")\n",
    "#for result in results:\n",
    "    #print (result[0])\n",
    "print(results)"
   ]
  },
  {
   "cell_type": "code",
   "execution_count": null,
   "metadata": {},
   "outputs": [],
   "source": []
  }
 ],
 "metadata": {
  "kernelspec": {
   "display_name": "Python 3",
   "language": "python",
   "name": "python3"
  },
  "language_info": {
   "codemirror_mode": {
    "name": "ipython",
    "version": 3
   },
   "file_extension": ".py",
   "mimetype": "text/x-python",
   "name": "python",
   "nbconvert_exporter": "python",
   "pygments_lexer": "ipython3",
   "version": "3.6.7"
  }
 },
 "nbformat": 4,
 "nbformat_minor": 2
}
