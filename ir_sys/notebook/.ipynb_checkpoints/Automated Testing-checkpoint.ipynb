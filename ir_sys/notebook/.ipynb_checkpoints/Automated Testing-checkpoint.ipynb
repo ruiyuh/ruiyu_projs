{
 "cells": [
  {
   "cell_type": "markdown",
   "metadata": {},
   "source": [
    "# Automated Testing: BM25\n",
    "## 1. Results from live site"
   ]
  },
  {
   "cell_type": "code",
   "execution_count": 4,
   "metadata": {
    "scrolled": true
   },
   "outputs": [
    {
     "name": "stdout",
     "output_type": "stream",
     "text": [
      "https://csc575proj.herokuapp.com/?q=i%20love%20sql\n"
     ]
    },
    {
     "data": {
      "text/plain": [
       "['103872816Pothi.txt',\n",
       " '112423409suresh_1_.txt',\n",
       " '100128282NAKUL KUMAR_original.txt',\n",
       " '104141596arif.txt',\n",
       " '112972477Mohsin_Islam.txt',\n",
       " '114166720arghadip.txt',\n",
       " '106818801mahroos.txt',\n",
       " '116451269CV_-_Nagu.txt',\n",
       " '118152385sunilresume-updated.txt',\n",
       " '102980403Resume Sanjeev.txt',\n",
       " '109582944vipankumar122-1.txt',\n",
       " '108600947Resume.txt']"
      ]
     },
     "execution_count": 4,
     "metadata": {},
     "output_type": "execute_result"
    }
   ],
   "source": [
    "import requests\n",
    "from bs4 import BeautifulSoup\n",
    "\n",
    "def get_sr(keywords):\n",
    "    baseurl='https://csc575proj.herokuapp.com/?q='\n",
    "    url=baseurl+keywords\n",
    "    print(url.replace(' ','%20'))\n",
    "    r = requests.get(url)\n",
    "    # r.text[:200]\n",
    "\n",
    "    soup = BeautifulSoup(r.content, 'html.parser') \n",
    "    docs = soup.findAll('a')\n",
    "    sr=[]\n",
    "    for doc in docs:\n",
    "    #     print(doc.text)\n",
    "        sr.append(doc.text)\n",
    "    return sr\n",
    "\n",
    "keywords='i love sql'\n",
    "get_sr(keywords)"
   ]
  },
  {
   "cell_type": "code",
   "execution_count": 31,
   "metadata": {
    "scrolled": false
   },
   "outputs": [
    {
     "data": {
      "text/plain": [
       "Index(['File Name', 'Key words', 'SQL or Java', 'Mecha or Electr', 'database',\n",
       "       'cad', 'plumber', 'electronics', 'mechanical', 'mba', 'safety', 'java',\n",
       "       'marketing', 'cPlusPlus', 'MATLAB', 'assistant', 'construction',\n",
       "       'finance', 'financemba', 'MarketingMBA', 'sales',\n",
       "       'constructionEngineer', 'telecom', 'office'],\n",
       "      dtype='object')"
      ]
     },
     "execution_count": 31,
     "metadata": {},
     "output_type": "execute_result"
    }
   ],
   "source": [
    "import pandas as pd\n",
    "df = pd.read_csv('testset.csv')\n",
    "search_terms = df.columns[2:]\n",
    "df.columns"
   ]
  },
  {
   "cell_type": "markdown",
   "metadata": {},
   "source": [
    "## 2. Ground Truth from manual lookup on 73 resumes"
   ]
  },
  {
   "cell_type": "code",
   "execution_count": 63,
   "metadata": {},
   "outputs": [
    {
     "name": "stdout",
     "output_type": "stream",
     "text": [
      "SQL or Java\n"
     ]
    },
    {
     "data": {
      "text/plain": [
       "{'100605846NEW SUSHIL me',\n",
       " '101405842n (1)',\n",
       " '106750694Siva Resume',\n",
       " '106831718Tansir new',\n",
       " '114314467viswanadhCV'}"
      ]
     },
     "execution_count": 63,
     "metadata": {},
     "output_type": "execute_result"
    }
   ],
   "source": [
    "# st='SQL or Java'\n",
    "print(st)\n",
    "set(df[df[st]=='R']['File Name'])\n",
    "# set(get_sr(st)).intersection(set(df[st]))"
   ]
  },
  {
   "cell_type": "code",
   "execution_count": 76,
   "metadata": {
    "scrolled": true
   },
   "outputs": [
    {
     "name": "stdout",
     "output_type": "stream",
     "text": [
      "https://csc575proj.herokuapp.com/?q=SQL%20or%20Java\n",
      "https://csc575proj.herokuapp.com/?q=Mecha%20or%20Electr\n",
      "https://csc575proj.herokuapp.com/?q=database\n",
      "https://csc575proj.herokuapp.com/?q=cad\n",
      "https://csc575proj.herokuapp.com/?q=plumber\n",
      "https://csc575proj.herokuapp.com/?q=electronics\n",
      "https://csc575proj.herokuapp.com/?q=mechanical\n",
      "https://csc575proj.herokuapp.com/?q=mba\n",
      "https://csc575proj.herokuapp.com/?q=safety\n",
      "https://csc575proj.herokuapp.com/?q=java\n",
      "https://csc575proj.herokuapp.com/?q=marketing\n",
      "https://csc575proj.herokuapp.com/?q=cPlusPlus\n",
      "https://csc575proj.herokuapp.com/?q=MATLAB\n",
      "https://csc575proj.herokuapp.com/?q=assistant\n",
      "https://csc575proj.herokuapp.com/?q=construction\n",
      "https://csc575proj.herokuapp.com/?q=finance\n",
      "https://csc575proj.herokuapp.com/?q=financemba\n",
      "https://csc575proj.herokuapp.com/?q=MarketingMBA\n",
      "https://csc575proj.herokuapp.com/?q=sales\n",
      "https://csc575proj.herokuapp.com/?q=constructionEngineer\n",
      "https://csc575proj.herokuapp.com/?q=telecom\n",
      "https://csc575proj.herokuapp.com/?q=office\n"
     ]
    }
   ],
   "source": [
    "results={}\n",
    "for st in search_terms:\n",
    "    web_r_doc=set([ x[:-4] for x in get_sr(st)])\n",
    "    test_r_doc=set(df[df[st]=='R']['File Name'])\n",
    "#     print(st)\n",
    "    results.setdefault(st,[len(web_r_doc),len(test_r_doc),len(test_r_doc.intersection(web_r_doc))])\n",
    "#     print(len(web_r_doc))\n",
    "#     print()\n",
    "#     print(len(test_r_doc))\n",
    "#     print(len(test_r_doc.intersection(web_r_doc)))\n",
    "#     print()\n",
    "    "
   ]
  },
  {
   "cell_type": "markdown",
   "metadata": {},
   "source": [
    "## Key: [web,test,intersection]"
   ]
  },
  {
   "cell_type": "code",
   "execution_count": 75,
   "metadata": {},
   "outputs": [
    {
     "data": {
      "text/plain": [
       "{'SQL or Java': [10, 5, 0],\n",
       " 'Mecha or Electr': [23, 26, 10],\n",
       " 'database': [12, 2, 0],\n",
       " 'cad': [13, 5, 2],\n",
       " 'plumber': [22, 1, 0],\n",
       " 'electronics': [25, 5, 3],\n",
       " 'mechanical': [23, 0, 0],\n",
       " 'mba': [7, 0, 0],\n",
       " 'safety': [7, 0, 0],\n",
       " 'java': [7, 0, 0],\n",
       " 'marketing': [17, 0, 0],\n",
       " 'cPlusPlus': [17, 0, 0],\n",
       " 'MATLAB': [0, 0, 0],\n",
       " 'assistant': [5, 0, 0],\n",
       " 'construction': [21, 0, 0],\n",
       " 'finance': [21, 0, 0],\n",
       " 'financemba': [25, 0, 0],\n",
       " 'MarketingMBA': [17, 0, 0],\n",
       " 'sales': [8, 0, 0],\n",
       " 'constructionEngineer': [25, 0, 0],\n",
       " 'telecom': [19, 0, 0],\n",
       " 'office': [18, 0, 0]}"
      ]
     },
     "execution_count": 75,
     "metadata": {},
     "output_type": "execute_result"
    }
   ],
   "source": [
    "results"
   ]
  },
  {
   "cell_type": "code",
   "execution_count": 39,
   "metadata": {
    "scrolled": false
   },
   "outputs": [
    {
     "name": "stdout",
     "output_type": "stream",
     "text": [
      "https://csc575proj.herokuapp.com/?q=office\n"
     ]
    },
    {
     "data": {
      "text/plain": [
       "{'100605846NEW SUSHIL me', '101405842n (1)', '106750694Siva Resume'}"
      ]
     },
     "execution_count": 39,
     "metadata": {},
     "output_type": "execute_result"
    }
   ],
   "source": [
    "# (get_sr('SQL or Java'))\n",
    "sample_relevance = [ x[:-4] for x in get_sr(st)]\n",
    "set(df[df['SQL or Java']=='R']['File Name'])\n",
    "set(sample_relevance).intersection(set(df[df['SQL or Java']=='R']['File Name']))"
   ]
  }
 ],
 "metadata": {
  "kernelspec": {
   "display_name": "Python 3",
   "language": "python",
   "name": "python3"
  },
  "language_info": {
   "codemirror_mode": {
    "name": "ipython",
    "version": 3
   },
   "file_extension": ".py",
   "mimetype": "text/x-python",
   "name": "python",
   "nbconvert_exporter": "python",
   "pygments_lexer": "ipython3",
   "version": "3.6.5"
  }
 },
 "nbformat": 4,
 "nbformat_minor": 2
}
