{
 "cells": [
  {
   "cell_type": "markdown",
   "metadata": {},
   "source": [
    "# A function for excel combination\n",
    "\n",
    "> **Before using it, download all the start-up xlsx from google drive and store them in one folder. To running the function, please do not change the format of those online google sheet. But I will modify the function for sure if any format changes occured**\n",
    "\n",
    "> **The function will export a new excel file-'master_sheet_byTeam.xlsx' and display basic info of this file**"
   ]
  },
  {
   "cell_type": "markdown",
   "metadata": {},
   "source": [
    "### Step 1: Import the Packages"
   ]
  },
  {
   "cell_type": "code",
   "execution_count": 1,
   "metadata": {},
   "outputs": [],
   "source": [
    "import glob\n",
    "import os\n",
    "import pandas as pd"
   ]
  },
  {
   "cell_type": "code",
   "execution_count": 26,
   "metadata": {},
   "outputs": [],
   "source": [
    "dirt = '../data/team_new/*.xlsx'\n",
    "master_sheet = pd.DataFrame() # create an empty dataframe\n",
    "for path in glob.glob(dirt):\n",
    "    dirname, filename = os.path.split(path) # split the dirname and filename\n",
    "    df = pd.read_excel(path, header = 1) # read all xlsx file under path\n",
    "    df['Comp_Name'] = os.path.splitext(filename)[0] # append the filename without extension to the data frame\n",
    "    master_sheet = master_sheet.append(df, ignore_index = True)"
   ]
  },
  {
   "cell_type": "code",
   "execution_count": 28,
   "metadata": {},
   "outputs": [
    {
     "data": {
      "text/html": [
       "<div>\n",
       "<style scoped>\n",
       "    .dataframe tbody tr th:only-of-type {\n",
       "        vertical-align: middle;\n",
       "    }\n",
       "\n",
       "    .dataframe tbody tr th {\n",
       "        vertical-align: top;\n",
       "    }\n",
       "\n",
       "    .dataframe thead th {\n",
       "        text-align: right;\n",
       "    }\n",
       "</style>\n",
       "<table border=\"1\" class=\"dataframe\">\n",
       "  <thead>\n",
       "    <tr style=\"text-align: right;\">\n",
       "      <th></th>\n",
       "      <th>Back-End</th>\n",
       "      <th>Business Development</th>\n",
       "      <th>Comp_Name</th>\n",
       "      <th>Content Writer / Editor</th>\n",
       "      <th>Customer Service</th>\n",
       "      <th>Front-End</th>\n",
       "      <th>Graphic Design</th>\n",
       "      <th>Inight</th>\n",
       "      <th>Mining</th>\n",
       "      <th>Public Relations</th>\n",
       "      <th>Social Media</th>\n",
       "      <th>UX Design</th>\n",
       "      <th>Unnamed: 5</th>\n",
       "    </tr>\n",
       "  </thead>\n",
       "  <tbody>\n",
       "    <tr>\n",
       "      <th>0</th>\n",
       "      <td>NaN</td>\n",
       "      <td>NaN</td>\n",
       "      <td>Augmented</td>\n",
       "      <td>karinanguyen@berkeley.edu</td>\n",
       "      <td>NaN</td>\n",
       "      <td>NaN</td>\n",
       "      <td>NaN</td>\n",
       "      <td>tp27@rice.edu</td>\n",
       "      <td>tp27@rice.edu</td>\n",
       "      <td>NaN</td>\n",
       "      <td>NaN</td>\n",
       "      <td>tp27@rice.edu</td>\n",
       "      <td>NaN</td>\n",
       "    </tr>\n",
       "    <tr>\n",
       "      <th>1</th>\n",
       "      <td>haoran.wen@rutgers.edu</td>\n",
       "      <td>NaN</td>\n",
       "      <td>Augmented</td>\n",
       "      <td>NaN</td>\n",
       "      <td>NaN</td>\n",
       "      <td>NaN</td>\n",
       "      <td>NaN</td>\n",
       "      <td>haoran.wen@rutgers.edu</td>\n",
       "      <td>NaN</td>\n",
       "      <td>NaN</td>\n",
       "      <td>NaN</td>\n",
       "      <td>haoran.wen@rutgers.edu</td>\n",
       "      <td>NaN</td>\n",
       "    </tr>\n",
       "    <tr>\n",
       "      <th>2</th>\n",
       "      <td>NaN</td>\n",
       "      <td>NaN</td>\n",
       "      <td>Aura App</td>\n",
       "      <td>NaN</td>\n",
       "      <td>NaN</td>\n",
       "      <td>NaN</td>\n",
       "      <td>NaN</td>\n",
       "      <td>(Ziyang Sun) zis080@eng.ucsd.edu</td>\n",
       "      <td>(Ziyang Sun) zis080@eng.ucsd.edu</td>\n",
       "      <td>NaN</td>\n",
       "      <td>NaN</td>\n",
       "      <td>NaN</td>\n",
       "      <td>NaN</td>\n",
       "    </tr>\n",
       "    <tr>\n",
       "      <th>3</th>\n",
       "      <td>nshao@macalester.edu</td>\n",
       "      <td>NaN</td>\n",
       "      <td>Aura App</td>\n",
       "      <td>NaN</td>\n",
       "      <td>NaN</td>\n",
       "      <td>NaN</td>\n",
       "      <td>NaN</td>\n",
       "      <td>asingh45@syr.edu</td>\n",
       "      <td>asingh45@syr.edu</td>\n",
       "      <td>NaN</td>\n",
       "      <td>NaN</td>\n",
       "      <td>NaN</td>\n",
       "      <td>NaN</td>\n",
       "    </tr>\n",
       "    <tr>\n",
       "      <th>4</th>\n",
       "      <td>dovranovs@berea.edu</td>\n",
       "      <td>NaN</td>\n",
       "      <td>Aura App</td>\n",
       "      <td>NaN</td>\n",
       "      <td>NaN</td>\n",
       "      <td>NaN</td>\n",
       "      <td>dovranovs@berea.edu</td>\n",
       "      <td>nshao@macalester.edu</td>\n",
       "      <td>nshao@macalester.edu</td>\n",
       "      <td>NaN</td>\n",
       "      <td>NaN</td>\n",
       "      <td>dovranovs@berea.edu</td>\n",
       "      <td>NaN</td>\n",
       "    </tr>\n",
       "  </tbody>\n",
       "</table>\n",
       "</div>"
      ],
      "text/plain": [
       "                 Back-End Business Development  Comp_Name  \\\n",
       "0                     NaN                  NaN  Augmented   \n",
       "1  haoran.wen@rutgers.edu                  NaN  Augmented   \n",
       "2                     NaN                  NaN   Aura App   \n",
       "3    nshao@macalester.edu                  NaN   Aura App   \n",
       "4     dovranovs@berea.edu                  NaN   Aura App   \n",
       "\n",
       "     Content Writer / Editor Customer Service Front-End       Graphic Design  \\\n",
       "0  karinanguyen@berkeley.edu              NaN       NaN                  NaN   \n",
       "1                        NaN              NaN       NaN                  NaN   \n",
       "2                        NaN              NaN       NaN                  NaN   \n",
       "3                        NaN              NaN       NaN                  NaN   \n",
       "4                        NaN              NaN       NaN  dovranovs@berea.edu   \n",
       "\n",
       "                             Inight                            Mining  \\\n",
       "0                     tp27@rice.edu                     tp27@rice.edu   \n",
       "1            haoran.wen@rutgers.edu                               NaN   \n",
       "2  (Ziyang Sun) zis080@eng.ucsd.edu  (Ziyang Sun) zis080@eng.ucsd.edu   \n",
       "3                  asingh45@syr.edu                  asingh45@syr.edu   \n",
       "4              nshao@macalester.edu              nshao@macalester.edu   \n",
       "\n",
       "  Public Relations Social Media               UX Design  Unnamed: 5  \n",
       "0              NaN          NaN           tp27@rice.edu         NaN  \n",
       "1              NaN          NaN  haoran.wen@rutgers.edu         NaN  \n",
       "2              NaN          NaN                     NaN         NaN  \n",
       "3              NaN          NaN                     NaN         NaN  \n",
       "4              NaN          NaN     dovranovs@berea.edu         NaN  "
      ]
     },
     "execution_count": 28,
     "metadata": {},
     "output_type": "execute_result"
    }
   ],
   "source": [
    "master_sheet.head()"
   ]
  },
  {
   "cell_type": "code",
   "execution_count": 29,
   "metadata": {},
   "outputs": [],
   "source": [
    "df = pd.melt(master_sheet, id_vars=['Comp_Name']) #reshape the data frrame"
   ]
  },
  {
   "cell_type": "code",
   "execution_count": 30,
   "metadata": {},
   "outputs": [
    {
     "data": {
      "text/html": [
       "<div>\n",
       "<style scoped>\n",
       "    .dataframe tbody tr th:only-of-type {\n",
       "        vertical-align: middle;\n",
       "    }\n",
       "\n",
       "    .dataframe tbody tr th {\n",
       "        vertical-align: top;\n",
       "    }\n",
       "\n",
       "    .dataframe thead th {\n",
       "        text-align: right;\n",
       "    }\n",
       "</style>\n",
       "<table border=\"1\" class=\"dataframe\">\n",
       "  <thead>\n",
       "    <tr style=\"text-align: right;\">\n",
       "      <th></th>\n",
       "      <th>Comp_Name</th>\n",
       "      <th>variable</th>\n",
       "      <th>value</th>\n",
       "    </tr>\n",
       "  </thead>\n",
       "  <tbody>\n",
       "    <tr>\n",
       "      <th>0</th>\n",
       "      <td>Augmented</td>\n",
       "      <td>Back-End</td>\n",
       "      <td>NaN</td>\n",
       "    </tr>\n",
       "    <tr>\n",
       "      <th>1</th>\n",
       "      <td>Augmented</td>\n",
       "      <td>Back-End</td>\n",
       "      <td>haoran.wen@rutgers.edu</td>\n",
       "    </tr>\n",
       "    <tr>\n",
       "      <th>2</th>\n",
       "      <td>Aura App</td>\n",
       "      <td>Back-End</td>\n",
       "      <td>NaN</td>\n",
       "    </tr>\n",
       "    <tr>\n",
       "      <th>3</th>\n",
       "      <td>Aura App</td>\n",
       "      <td>Back-End</td>\n",
       "      <td>nshao@macalester.edu</td>\n",
       "    </tr>\n",
       "    <tr>\n",
       "      <th>4</th>\n",
       "      <td>Aura App</td>\n",
       "      <td>Back-End</td>\n",
       "      <td>dovranovs@berea.edu</td>\n",
       "    </tr>\n",
       "  </tbody>\n",
       "</table>\n",
       "</div>"
      ],
      "text/plain": [
       "   Comp_Name  variable                   value\n",
       "0  Augmented  Back-End                     NaN\n",
       "1  Augmented  Back-End  haoran.wen@rutgers.edu\n",
       "2   Aura App  Back-End                     NaN\n",
       "3   Aura App  Back-End    nshao@macalester.edu\n",
       "4   Aura App  Back-End     dovranovs@berea.edu"
      ]
     },
     "execution_count": 30,
     "metadata": {},
     "output_type": "execute_result"
    }
   ],
   "source": [
    "df.head()"
   ]
  },
  {
   "cell_type": "code",
   "execution_count": 31,
   "metadata": {},
   "outputs": [
    {
     "data": {
      "text/plain": [
       "2916"
      ]
     },
     "execution_count": 31,
     "metadata": {},
     "output_type": "execute_result"
    }
   ],
   "source": [
    "len(df)"
   ]
  },
  {
   "cell_type": "code",
   "execution_count": 32,
   "metadata": {},
   "outputs": [
    {
     "data": {
      "text/plain": [
       "752"
      ]
     },
     "execution_count": 32,
     "metadata": {},
     "output_type": "execute_result"
    }
   ],
   "source": [
    "df = df.dropna(how = 'any')\n",
    "len(df)"
   ]
  },
  {
   "cell_type": "code",
   "execution_count": 34,
   "metadata": {},
   "outputs": [],
   "source": [
    "df.rename(columns={'variable': 'Team','value': 'Email'}, inplace=True) #rename the col\n",
    "df= df[['Team','Email','Comp_Name']] #re-order the col"
   ]
  },
  {
   "cell_type": "code",
   "execution_count": 35,
   "metadata": {},
   "outputs": [
    {
     "data": {
      "text/html": [
       "<div>\n",
       "<style scoped>\n",
       "    .dataframe tbody tr th:only-of-type {\n",
       "        vertical-align: middle;\n",
       "    }\n",
       "\n",
       "    .dataframe tbody tr th {\n",
       "        vertical-align: top;\n",
       "    }\n",
       "\n",
       "    .dataframe thead th {\n",
       "        text-align: right;\n",
       "    }\n",
       "</style>\n",
       "<table border=\"1\" class=\"dataframe\">\n",
       "  <thead>\n",
       "    <tr style=\"text-align: right;\">\n",
       "      <th></th>\n",
       "      <th>Team</th>\n",
       "      <th>Email</th>\n",
       "      <th>Comp_Name</th>\n",
       "    </tr>\n",
       "  </thead>\n",
       "  <tbody>\n",
       "    <tr>\n",
       "      <th>1</th>\n",
       "      <td>Back-End</td>\n",
       "      <td>haoran.wen@rutgers.edu</td>\n",
       "      <td>Augmented</td>\n",
       "    </tr>\n",
       "    <tr>\n",
       "      <th>3</th>\n",
       "      <td>Back-End</td>\n",
       "      <td>nshao@macalester.edu</td>\n",
       "      <td>Aura App</td>\n",
       "    </tr>\n",
       "    <tr>\n",
       "      <th>4</th>\n",
       "      <td>Back-End</td>\n",
       "      <td>dovranovs@berea.edu</td>\n",
       "      <td>Aura App</td>\n",
       "    </tr>\n",
       "    <tr>\n",
       "      <th>9</th>\n",
       "      <td>Back-End</td>\n",
       "      <td>nshao@macalester.edu</td>\n",
       "      <td>B4Usend</td>\n",
       "    </tr>\n",
       "    <tr>\n",
       "      <th>11</th>\n",
       "      <td>Back-End</td>\n",
       "      <td>dovranovs@berea.edu</td>\n",
       "      <td>B4Usend</td>\n",
       "    </tr>\n",
       "  </tbody>\n",
       "</table>\n",
       "</div>"
      ],
      "text/plain": [
       "        Team                   Email  Comp_Name\n",
       "1   Back-End  haoran.wen@rutgers.edu  Augmented\n",
       "3   Back-End    nshao@macalester.edu   Aura App\n",
       "4   Back-End     dovranovs@berea.edu   Aura App\n",
       "9   Back-End    nshao@macalester.edu    B4Usend\n",
       "11  Back-End     dovranovs@berea.edu    B4Usend"
      ]
     },
     "execution_count": 35,
     "metadata": {},
     "output_type": "execute_result"
    }
   ],
   "source": [
    "df.head()"
   ]
  },
  {
   "cell_type": "code",
   "execution_count": 36,
   "metadata": {},
   "outputs": [],
   "source": [
    "df.to_excel('master_sheet_Feb22.xlsx')"
   ]
  },
  {
   "cell_type": "markdown",
   "metadata": {},
   "source": [
    "### Step 2: Running the xlsx_combine function"
   ]
  },
  {
   "cell_type": "code",
   "execution_count": null,
   "metadata": {},
   "outputs": [],
   "source": [
    "def xlsx_combine(directory):\n",
    "    master_sheet = pd.DataFrame() # create an empty dataframe\n",
    "    for path in glob.glob(directory):\n",
    "        dirname, filename = os.path.split(path) # split the dirname and filename\n",
    "        df = pd.read_excel(path) # read all xlsx file under path\n",
    "        df['Comp_Name'] = os.path.splitext(filename)[0] # append the filename without extension to the data frame\n",
    "        master_sheet = master_sheet.append(df, ignore_index = True)\n",
    "        \n",
    "    #rename the columns \n",
    "    master_sheet.rename(columns={'Team 1: Developers': 'T1_Dev_FE', \n",
    "                   'Unnamed: 1': 'T1_Dev_BE',\n",
    "                   'Team 2: Creative': 'T2_Cre_ED',\n",
    "                   'Unnamed: 3': 'T2_Cre_UI',\n",
    "                   'Unnamed: 4': 'T2_Cre_UX',\n",
    "                   '                                      Team 3: Marketing': 'T3_Mkt_SM',\n",
    "                   'Unnamed: 6': 'T3_Mkt_CS',\n",
    "                   'Unnamed: 7': 'T3_Mkt_PR',\n",
    "                   'Unnamed: 8': 'T3_Mkr_BD',\n",
    "                   '                          Team 4: Data': 'T4_Data_M',\n",
    "                   'Unnamed: 10': 'T4_Data_I',}, inplace=True)\n",
    "    \n",
    "    master_sheet = master_sheet.drop(master_sheet[master_sheet.T1_Dev_FE == 'Front-End'].index)# remove all subtitles\n",
    "    \n",
    "    df = pd.melt(master_sheet, id_vars=['Comp_Name']) #reshape the data frrame\n",
    "    df = df.dropna(how = 'any')\n",
    "    df.rename(columns={'variable': 'Team','value': 'Email'}, inplace=True) #rename the col\n",
    "    df= df[['Team','Email','Comp_Name']] #re-order the col\n",
    "    \n",
    "    print('----------------File Preview----------------')\n",
    "    print(df.head())\n",
    "    print('----------------Basic Info------------------')\n",
    "    print(df.Team.value_counts())\n",
    "    print('--------------------------------------------')\n",
    "    #sns.countplot(y='Team', data = df) \n",
    "    \n",
    "    df.to_excel('master_sheet_Feb22.xlsx') #export the new excel\n",
    "       "
   ]
  },
  {
   "cell_type": "markdown",
   "metadata": {},
   "source": [
    "### Step 3: Modify the dictory as you needed"
   ]
  },
  {
   "cell_type": "code",
   "execution_count": null,
   "metadata": {
    "scrolled": false
   },
   "outputs": [],
   "source": [
    "dictory = '../data/team_new/*.xlsx' # you can change the part '/data/TEAMS/' to your file path.\n",
    "xlsx_combine(dictory)"
   ]
  },
  {
   "cell_type": "markdown",
   "metadata": {},
   "source": [
    "## Final Step: Check the 'master_sheet_byTeam.xlsx' which generated in the same folder with this notebook"
   ]
  },
  {
   "cell_type": "code",
   "execution_count": null,
   "metadata": {
    "scrolled": true
   },
   "outputs": [],
   "source": [
    "#df = pd.read_excel('master_sheet_byTeam.xlsx')\n",
    "df.tail(90)"
   ]
  },
  {
   "cell_type": "code",
   "execution_count": null,
   "metadata": {},
   "outputs": [],
   "source": [
    "df_1 = df[['Team','Email']]\n",
    "len(df_1)"
   ]
  },
  {
   "cell_type": "code",
   "execution_count": null,
   "metadata": {
    "scrolled": true
   },
   "outputs": [],
   "source": [
    "df_1.head(100)"
   ]
  },
  {
   "cell_type": "code",
   "execution_count": null,
   "metadata": {
    "scrolled": true
   },
   "outputs": [],
   "source": [
    "df_1.drop_duplicates(subset=['Email'], inplace=True)\n",
    "df_1"
   ]
  },
  {
   "cell_type": "code",
   "execution_count": null,
   "metadata": {},
   "outputs": [],
   "source": [
    "df_1.to_excel('master_sheet_Email.xlsx')"
   ]
  },
  {
   "cell_type": "markdown",
   "metadata": {},
   "source": []
  },
  {
   "cell_type": "markdown",
   "metadata": {},
   "source": [
    "# lab selection sheet"
   ]
  },
  {
   "cell_type": "code",
   "execution_count": 63,
   "metadata": {},
   "outputs": [
    {
     "data": {
      "text/html": [
       "<div>\n",
       "<style scoped>\n",
       "    .dataframe tbody tr th:only-of-type {\n",
       "        vertical-align: middle;\n",
       "    }\n",
       "\n",
       "    .dataframe tbody tr th {\n",
       "        vertical-align: top;\n",
       "    }\n",
       "\n",
       "    .dataframe thead th {\n",
       "        text-align: right;\n",
       "    }\n",
       "</style>\n",
       "<table border=\"1\" class=\"dataframe\">\n",
       "  <thead>\n",
       "    <tr style=\"text-align: right;\">\n",
       "      <th></th>\n",
       "      <th>Submitted On</th>\n",
       "      <th>Pick your Startups</th>\n",
       "      <th>Pick your Teams</th>\n",
       "      <th>Email Address</th>\n",
       "    </tr>\n",
       "  </thead>\n",
       "  <tbody>\n",
       "    <tr>\n",
       "      <th>0</th>\n",
       "      <td>2019-02-01 10:48:50</td>\n",
       "      <td>PARADISIO</td>\n",
       "      <td>TEAM 1 - Developers App/Site - Back End</td>\n",
       "      <td>yuejunm@andrew.cmu.edu</td>\n",
       "    </tr>\n",
       "    <tr>\n",
       "      <th>1</th>\n",
       "      <td>2019-01-31 08:07:50</td>\n",
       "      <td>XPR, Aura App, Rise Capital, Second Chances, M...</td>\n",
       "      <td>TEAM 1 - Developers App/Site - Back End, TEAM ...</td>\n",
       "      <td>zhaolingmei0@outlook.com</td>\n",
       "    </tr>\n",
       "  </tbody>\n",
       "</table>\n",
       "</div>"
      ],
      "text/plain": [
       "         Submitted On                                 Pick your Startups  \\\n",
       "0 2019-02-01 10:48:50                                          PARADISIO   \n",
       "1 2019-01-31 08:07:50  XPR, Aura App, Rise Capital, Second Chances, M...   \n",
       "\n",
       "                                     Pick your Teams             Email Address  \n",
       "0            TEAM 1 - Developers App/Site - Back End    yuejunm@andrew.cmu.edu  \n",
       "1  TEAM 1 - Developers App/Site - Back End, TEAM ...  zhaolingmei0@outlook.com  "
      ]
     },
     "execution_count": 63,
     "metadata": {},
     "output_type": "execute_result"
    }
   ],
   "source": [
    "df = pd.read_excel('../data/lab_selection_new.xlsx')\n",
    "df.head(2)"
   ]
  },
  {
   "cell_type": "code",
   "execution_count": 64,
   "metadata": {},
   "outputs": [
    {
     "data": {
      "text/html": [
       "<div>\n",
       "<style scoped>\n",
       "    .dataframe tbody tr th:only-of-type {\n",
       "        vertical-align: middle;\n",
       "    }\n",
       "\n",
       "    .dataframe tbody tr th {\n",
       "        vertical-align: top;\n",
       "    }\n",
       "\n",
       "    .dataframe thead th {\n",
       "        text-align: right;\n",
       "    }\n",
       "</style>\n",
       "<table border=\"1\" class=\"dataframe\">\n",
       "  <thead>\n",
       "    <tr style=\"text-align: right;\">\n",
       "      <th></th>\n",
       "      <th>Email</th>\n",
       "      <th>Team</th>\n",
       "    </tr>\n",
       "  </thead>\n",
       "  <tbody>\n",
       "    <tr>\n",
       "      <th>0</th>\n",
       "      <td>yuejunm@andrew.cmu.edu</td>\n",
       "      <td>TEAM 1 - Developers App/Site - Back End</td>\n",
       "    </tr>\n",
       "    <tr>\n",
       "      <th>1</th>\n",
       "      <td>zhaolingmei0@outlook.com</td>\n",
       "      <td>TEAM 1 - Developers App/Site - Back End, TEAM ...</td>\n",
       "    </tr>\n",
       "  </tbody>\n",
       "</table>\n",
       "</div>"
      ],
      "text/plain": [
       "                      Email                                               Team\n",
       "0    yuejunm@andrew.cmu.edu            TEAM 1 - Developers App/Site - Back End\n",
       "1  zhaolingmei0@outlook.com  TEAM 1 - Developers App/Site - Back End, TEAM ..."
      ]
     },
     "execution_count": 64,
     "metadata": {},
     "output_type": "execute_result"
    }
   ],
   "source": [
    "df.rename(columns={'Pick your Teams': 'Team','Email Address': 'Email'}, inplace=True)\n",
    "df = df[['Email','Team']]\n",
    "df.head(2)"
   ]
  },
  {
   "cell_type": "code",
   "execution_count": 44,
   "metadata": {
    "collapsed": true
   },
   "outputs": [
    {
     "data": {
      "text/html": [
       "<div>\n",
       "<style scoped>\n",
       "    .dataframe tbody tr th:only-of-type {\n",
       "        vertical-align: middle;\n",
       "    }\n",
       "\n",
       "    .dataframe tbody tr th {\n",
       "        vertical-align: top;\n",
       "    }\n",
       "\n",
       "    .dataframe thead th {\n",
       "        text-align: right;\n",
       "    }\n",
       "</style>\n",
       "<table border=\"1\" class=\"dataframe\">\n",
       "  <thead>\n",
       "    <tr style=\"text-align: right;\">\n",
       "      <th></th>\n",
       "      <th>Team</th>\n",
       "      <th>Email</th>\n",
       "      <th>Comp_Name</th>\n",
       "    </tr>\n",
       "  </thead>\n",
       "  <tbody>\n",
       "    <tr>\n",
       "      <th>1</th>\n",
       "      <td>Back-End</td>\n",
       "      <td>haoran.wen@rutgers.edu</td>\n",
       "      <td>Augmented</td>\n",
       "    </tr>\n",
       "    <tr>\n",
       "      <th>3</th>\n",
       "      <td>Back-End</td>\n",
       "      <td>nshao@macalester.edu</td>\n",
       "      <td>Aura App</td>\n",
       "    </tr>\n",
       "    <tr>\n",
       "      <th>4</th>\n",
       "      <td>Back-End</td>\n",
       "      <td>dovranovs@berea.edu</td>\n",
       "      <td>Aura App</td>\n",
       "    </tr>\n",
       "    <tr>\n",
       "      <th>9</th>\n",
       "      <td>Back-End</td>\n",
       "      <td>nshao@macalester.edu</td>\n",
       "      <td>B4Usend</td>\n",
       "    </tr>\n",
       "    <tr>\n",
       "      <th>11</th>\n",
       "      <td>Back-End</td>\n",
       "      <td>dovranovs@berea.edu</td>\n",
       "      <td>B4Usend</td>\n",
       "    </tr>\n",
       "  </tbody>\n",
       "</table>\n",
       "</div>"
      ],
      "text/plain": [
       "        Team                   Email  Comp_Name\n",
       "1   Back-End  haoran.wen@rutgers.edu  Augmented\n",
       "3   Back-End    nshao@macalester.edu   Aura App\n",
       "4   Back-End     dovranovs@berea.edu   Aura App\n",
       "9   Back-End    nshao@macalester.edu    B4Usend\n",
       "11  Back-End     dovranovs@berea.edu    B4Usend"
      ]
     },
     "execution_count": 44,
     "metadata": {},
     "output_type": "execute_result"
    }
   ],
   "source": [
    "task = pd.read_excel('master_sheet_Feb22.xlsx')\n",
    "task.head()"
   ]
  },
  {
   "cell_type": "code",
   "execution_count": 45,
   "metadata": {
    "collapsed": true
   },
   "outputs": [
    {
     "data": {
      "text/plain": [
       "{'Back-End',\n",
       " 'Business Development',\n",
       " 'Content Writer / Editor',\n",
       " 'Customer Service',\n",
       " 'Front-End',\n",
       " 'Graphic Design',\n",
       " 'Inight',\n",
       " 'Mining',\n",
       " 'Public Relations',\n",
       " 'Social Media',\n",
       " 'UX Design'}"
      ]
     },
     "execution_count": 45,
     "metadata": {},
     "output_type": "execute_result"
    }
   ],
   "source": [
    "set(task['Team'])"
   ]
  },
  {
   "cell_type": "code",
   "execution_count": 46,
   "metadata": {},
   "outputs": [
    {
     "data": {
      "text/html": [
       "<div>\n",
       "<style scoped>\n",
       "    .dataframe tbody tr th:only-of-type {\n",
       "        vertical-align: middle;\n",
       "    }\n",
       "\n",
       "    .dataframe tbody tr th {\n",
       "        vertical-align: top;\n",
       "    }\n",
       "\n",
       "    .dataframe thead th {\n",
       "        text-align: right;\n",
       "    }\n",
       "</style>\n",
       "<table border=\"1\" class=\"dataframe\">\n",
       "  <thead>\n",
       "    <tr style=\"text-align: right;\">\n",
       "      <th></th>\n",
       "      <th>Email</th>\n",
       "      <th>Team</th>\n",
       "    </tr>\n",
       "  </thead>\n",
       "  <tbody>\n",
       "    <tr>\n",
       "      <th>0</th>\n",
       "      <td>yuejunm@andrew.cmu.edu</td>\n",
       "      <td>TEAM 1 - Developers App/Site - Back End</td>\n",
       "    </tr>\n",
       "    <tr>\n",
       "      <th>1</th>\n",
       "      <td>zhaolingmei0@outlook.com</td>\n",
       "      <td>TEAM 1 - Developers App/Site - Back End, TEAM ...</td>\n",
       "    </tr>\n",
       "    <tr>\n",
       "      <th>2</th>\n",
       "      <td>ywang552@syr.edu</td>\n",
       "      <td>TEAM 1 - Developers App/Site - Back End, TEAM ...</td>\n",
       "    </tr>\n",
       "    <tr>\n",
       "      <th>3</th>\n",
       "      <td>akash.nitian@gmail.com</td>\n",
       "      <td>TEAM 1 - Developers App/Site - Back End, TEAM ...</td>\n",
       "    </tr>\n",
       "    <tr>\n",
       "      <th>4</th>\n",
       "      <td>connie.j.chi@gmail.com</td>\n",
       "      <td>TEAM 1 - Developers App/Site - Front End, TEAM...</td>\n",
       "    </tr>\n",
       "  </tbody>\n",
       "</table>\n",
       "</div>"
      ],
      "text/plain": [
       "                      Email                                               Team\n",
       "0    yuejunm@andrew.cmu.edu            TEAM 1 - Developers App/Site - Back End\n",
       "1  zhaolingmei0@outlook.com  TEAM 1 - Developers App/Site - Back End, TEAM ...\n",
       "2          ywang552@syr.edu  TEAM 1 - Developers App/Site - Back End, TEAM ...\n",
       "3    akash.nitian@gmail.com  TEAM 1 - Developers App/Site - Back End, TEAM ...\n",
       "4    connie.j.chi@gmail.com  TEAM 1 - Developers App/Site - Front End, TEAM..."
      ]
     },
     "execution_count": 46,
     "metadata": {},
     "output_type": "execute_result"
    }
   ],
   "source": [
    "df.head()"
   ]
  },
  {
   "cell_type": "code",
   "execution_count": 65,
   "metadata": {},
   "outputs": [],
   "source": [
    "team_email = [[],[]]\n",
    "for email, team in df.values:\n",
    "    if ('Front End' in team):\n",
    "        team_email[0].append('Front-End')\n",
    "        team_email[1].append(email)\n",
    "    if ('Back End' in team):\n",
    "        team_email[0].append('Back-End')\n",
    "        team_email[1].append(email)\n",
    "    if ('Editor' in team):\n",
    "        team_email[0].append('Content Writer / Editor')\n",
    "        team_email[1].append(email)\n",
    "    if ('Graphic' in team):\n",
    "        team_email[0].append('Graphic Design')\n",
    "        team_email[1].append(email)\n",
    "    if ('UX' in team):\n",
    "        team_email[0].append('UX Design')\n",
    "        team_email[1].append(email)\n",
    "    if ('Business' in team):\n",
    "        team_email[0].append('Business Development')\n",
    "        team_email[1].append(email)\n",
    "    if ('Public' in team):\n",
    "        team_email[0].append('Public Relations')\n",
    "        team_email[1].append(email)\n",
    "    if ('Service' in team):\n",
    "        team_email[0].append('Customer Service')\n",
    "        team_email[1].append(email)\n",
    "    if ('Social' in team):\n",
    "        team_email[0].append('Social Media')\n",
    "        team_email[1].append(email)\n",
    "    if ('Insight' in team):\n",
    "        team_email[0].append('Inight')\n",
    "        team_email[1].append(email)\n",
    "    if ('Mining' in team):\n",
    "        team_email[0].append('Mining')\n",
    "        team_email[1].append(email)"
   ]
  },
  {
   "cell_type": "code",
   "execution_count": 66,
   "metadata": {},
   "outputs": [
    {
     "data": {
      "text/html": [
       "<div>\n",
       "<style scoped>\n",
       "    .dataframe tbody tr th:only-of-type {\n",
       "        vertical-align: middle;\n",
       "    }\n",
       "\n",
       "    .dataframe tbody tr th {\n",
       "        vertical-align: top;\n",
       "    }\n",
       "\n",
       "    .dataframe thead th {\n",
       "        text-align: right;\n",
       "    }\n",
       "</style>\n",
       "<table border=\"1\" class=\"dataframe\">\n",
       "  <thead>\n",
       "    <tr style=\"text-align: right;\">\n",
       "      <th></th>\n",
       "      <th>0</th>\n",
       "      <th>1</th>\n",
       "    </tr>\n",
       "  </thead>\n",
       "  <tbody>\n",
       "    <tr>\n",
       "      <th>0</th>\n",
       "      <td>Back-End</td>\n",
       "      <td>yuejunm@andrew.cmu.edu</td>\n",
       "    </tr>\n",
       "    <tr>\n",
       "      <th>1</th>\n",
       "      <td>Back-End</td>\n",
       "      <td>zhaolingmei0@outlook.com</td>\n",
       "    </tr>\n",
       "    <tr>\n",
       "      <th>2</th>\n",
       "      <td>Inight</td>\n",
       "      <td>zhaolingmei0@outlook.com</td>\n",
       "    </tr>\n",
       "    <tr>\n",
       "      <th>3</th>\n",
       "      <td>Mining</td>\n",
       "      <td>zhaolingmei0@outlook.com</td>\n",
       "    </tr>\n",
       "    <tr>\n",
       "      <th>4</th>\n",
       "      <td>Back-End</td>\n",
       "      <td>ywang552@syr.edu</td>\n",
       "    </tr>\n",
       "  </tbody>\n",
       "</table>\n",
       "</div>"
      ],
      "text/plain": [
       "          0                         1\n",
       "0  Back-End    yuejunm@andrew.cmu.edu\n",
       "1  Back-End  zhaolingmei0@outlook.com\n",
       "2    Inight  zhaolingmei0@outlook.com\n",
       "3    Mining  zhaolingmei0@outlook.com\n",
       "4  Back-End          ywang552@syr.edu"
      ]
     },
     "execution_count": 66,
     "metadata": {},
     "output_type": "execute_result"
    }
   ],
   "source": [
    "data = pd.DataFrame(team_email).T\n",
    "data.head()"
   ]
  },
  {
   "cell_type": "code",
   "execution_count": 67,
   "metadata": {},
   "outputs": [
    {
     "data": {
      "text/plain": [
       "238"
      ]
     },
     "execution_count": 67,
     "metadata": {},
     "output_type": "execute_result"
    }
   ],
   "source": [
    "len(data)"
   ]
  },
  {
   "cell_type": "code",
   "execution_count": 68,
   "metadata": {},
   "outputs": [],
   "source": [
    "data.to_excel('lab_selection_Feb22.xlsx')"
   ]
  },
  {
   "cell_type": "code",
   "execution_count": 58,
   "metadata": {},
   "outputs": [
    {
     "data": {
      "text/html": [
       "<div>\n",
       "<style scoped>\n",
       "    .dataframe tbody tr th:only-of-type {\n",
       "        vertical-align: middle;\n",
       "    }\n",
       "\n",
       "    .dataframe tbody tr th {\n",
       "        vertical-align: top;\n",
       "    }\n",
       "\n",
       "    .dataframe thead th {\n",
       "        text-align: right;\n",
       "    }\n",
       "</style>\n",
       "<table border=\"1\" class=\"dataframe\">\n",
       "  <thead>\n",
       "    <tr style=\"text-align: right;\">\n",
       "      <th></th>\n",
       "      <th>Team</th>\n",
       "      <th>Email</th>\n",
       "    </tr>\n",
       "  </thead>\n",
       "  <tbody>\n",
       "    <tr>\n",
       "      <th>1</th>\n",
       "      <td>Back-End</td>\n",
       "      <td>haoran.wen@rutgers.edu</td>\n",
       "    </tr>\n",
       "    <tr>\n",
       "      <th>3</th>\n",
       "      <td>Back-End</td>\n",
       "      <td>nshao@macalester.edu</td>\n",
       "    </tr>\n",
       "    <tr>\n",
       "      <th>4</th>\n",
       "      <td>Back-End</td>\n",
       "      <td>dovranovs@berea.edu</td>\n",
       "    </tr>\n",
       "    <tr>\n",
       "      <th>9</th>\n",
       "      <td>Back-End</td>\n",
       "      <td>nshao@macalester.edu</td>\n",
       "    </tr>\n",
       "    <tr>\n",
       "      <th>11</th>\n",
       "      <td>Back-End</td>\n",
       "      <td>dovranovs@berea.edu</td>\n",
       "    </tr>\n",
       "  </tbody>\n",
       "</table>\n",
       "</div>"
      ],
      "text/plain": [
       "        Team                   Email\n",
       "1   Back-End  haoran.wen@rutgers.edu\n",
       "3   Back-End    nshao@macalester.edu\n",
       "4   Back-End     dovranovs@berea.edu\n",
       "9   Back-End    nshao@macalester.edu\n",
       "11  Back-End     dovranovs@berea.edu"
      ]
     },
     "execution_count": 58,
     "metadata": {},
     "output_type": "execute_result"
    }
   ],
   "source": [
    "task = task[['Team','Email']]\n",
    "task.head()"
   ]
  },
  {
   "cell_type": "code",
   "execution_count": 69,
   "metadata": {},
   "outputs": [
    {
     "data": {
      "text/html": [
       "<div>\n",
       "<style scoped>\n",
       "    .dataframe tbody tr th:only-of-type {\n",
       "        vertical-align: middle;\n",
       "    }\n",
       "\n",
       "    .dataframe tbody tr th {\n",
       "        vertical-align: top;\n",
       "    }\n",
       "\n",
       "    .dataframe thead th {\n",
       "        text-align: right;\n",
       "    }\n",
       "</style>\n",
       "<table border=\"1\" class=\"dataframe\">\n",
       "  <thead>\n",
       "    <tr style=\"text-align: right;\">\n",
       "      <th></th>\n",
       "      <th>Team</th>\n",
       "      <th>Email</th>\n",
       "    </tr>\n",
       "  </thead>\n",
       "  <tbody>\n",
       "    <tr>\n",
       "      <th>0</th>\n",
       "      <td>Back-End</td>\n",
       "      <td>yuejunm@andrew.cmu.edu</td>\n",
       "    </tr>\n",
       "    <tr>\n",
       "      <th>1</th>\n",
       "      <td>Back-End</td>\n",
       "      <td>zhaolingmei0@outlook.com</td>\n",
       "    </tr>\n",
       "    <tr>\n",
       "      <th>2</th>\n",
       "      <td>Inight</td>\n",
       "      <td>zhaolingmei0@outlook.com</td>\n",
       "    </tr>\n",
       "    <tr>\n",
       "      <th>3</th>\n",
       "      <td>Mining</td>\n",
       "      <td>zhaolingmei0@outlook.com</td>\n",
       "    </tr>\n",
       "    <tr>\n",
       "      <th>4</th>\n",
       "      <td>Back-End</td>\n",
       "      <td>ywang552@syr.edu</td>\n",
       "    </tr>\n",
       "  </tbody>\n",
       "</table>\n",
       "</div>"
      ],
      "text/plain": [
       "       Team                     Email\n",
       "0  Back-End    yuejunm@andrew.cmu.edu\n",
       "1  Back-End  zhaolingmei0@outlook.com\n",
       "2    Inight  zhaolingmei0@outlook.com\n",
       "3    Mining  zhaolingmei0@outlook.com\n",
       "4  Back-End          ywang552@syr.edu"
      ]
     },
     "execution_count": 69,
     "metadata": {},
     "output_type": "execute_result"
    }
   ],
   "source": [
    "lab = pd.read_excel('lab_selection_Feb22.xlsx')\n",
    "lab.head()"
   ]
  },
  {
   "cell_type": "code",
   "execution_count": 70,
   "metadata": {},
   "outputs": [
    {
     "data": {
      "text/plain": [
       "{'Back-End',\n",
       " 'Business Development',\n",
       " 'Content Writer / Editor',\n",
       " 'Customer Service',\n",
       " 'Front-End',\n",
       " 'Graphic Design',\n",
       " 'Inight',\n",
       " 'Mining',\n",
       " 'Public Relations',\n",
       " 'Social Media',\n",
       " 'UX Design'}"
      ]
     },
     "execution_count": 70,
     "metadata": {},
     "output_type": "execute_result"
    }
   ],
   "source": [
    "set(lab['Team'])"
   ]
  },
  {
   "cell_type": "code",
   "execution_count": 71,
   "metadata": {},
   "outputs": [
    {
     "data": {
      "text/plain": [
       "{'Back-End',\n",
       " 'Business Development',\n",
       " 'Content Writer / Editor',\n",
       " 'Customer Service',\n",
       " 'Front-End',\n",
       " 'Graphic Design',\n",
       " 'Inight',\n",
       " 'Mining',\n",
       " 'Public Relations',\n",
       " 'Social Media',\n",
       " 'UX Design'}"
      ]
     },
     "execution_count": 71,
     "metadata": {},
     "output_type": "execute_result"
    }
   ],
   "source": [
    "set(task['Team'])"
   ]
  },
  {
   "cell_type": "code",
   "execution_count": 74,
   "metadata": {},
   "outputs": [
    {
     "data": {
      "text/plain": [
       "990"
      ]
     },
     "execution_count": 74,
     "metadata": {},
     "output_type": "execute_result"
    }
   ],
   "source": [
    "len(lab)+len(task)"
   ]
  },
  {
   "cell_type": "code",
   "execution_count": 77,
   "metadata": {},
   "outputs": [],
   "source": [
    "frames = [lab, task]\n",
    "result = pd.concat(frames)"
   ]
  },
  {
   "cell_type": "code",
   "execution_count": 78,
   "metadata": {},
   "outputs": [
    {
     "data": {
      "text/plain": [
       "990"
      ]
     },
     "execution_count": 78,
     "metadata": {},
     "output_type": "execute_result"
    }
   ],
   "source": [
    "len(result)"
   ]
  },
  {
   "cell_type": "code",
   "execution_count": 80,
   "metadata": {},
   "outputs": [],
   "source": [
    "result.to_excel('new_Feb22.xlsx')"
   ]
  },
  {
   "cell_type": "markdown",
   "metadata": {},
   "source": [
    "# UPWORKER"
   ]
  },
  {
   "cell_type": "code",
   "execution_count": null,
   "metadata": {},
   "outputs": [],
   "source": [
    "import pandas as pd"
   ]
  },
  {
   "cell_type": "code",
   "execution_count": null,
   "metadata": {},
   "outputs": [],
   "source": [
    "df1 = pd.read_excel('../data/UPWORK_APPL.xlsx')\n",
    "#df1 = pd.read_csv('../data/UPWORK_APPL_2.csv')\n",
    "#df1.head(2)"
   ]
  },
  {
   "cell_type": "code",
   "execution_count": null,
   "metadata": {},
   "outputs": [],
   "source": [
    "df1['Name'] = df1['Student First Name'] + ' ' +df1['Student Last Name']\n",
    "df1_sub = df1[['Name','Student Email']].astype(str)\n",
    "df1_sub.head(2)"
   ]
  },
  {
   "cell_type": "code",
   "execution_count": null,
   "metadata": {},
   "outputs": [],
   "source": [
    "df1_sub.Name = df1_sub.Name.str.strip()"
   ]
  },
  {
   "cell_type": "code",
   "execution_count": null,
   "metadata": {},
   "outputs": [],
   "source": [
    "df1_sub[df1_sub.Name == 'Doyle Chung']"
   ]
  },
  {
   "cell_type": "code",
   "execution_count": null,
   "metadata": {},
   "outputs": [],
   "source": [
    "df2 = pd.read_excel('../data/UPWORKERS.xlsx')\n",
    "df2 = df2.astype(str)\n",
    "df2.head(2)"
   ]
  },
  {
   "cell_type": "code",
   "execution_count": null,
   "metadata": {},
   "outputs": [],
   "source": [
    "df2[df2.Name == 'Abhi Patel']"
   ]
  },
  {
   "cell_type": "code",
   "execution_count": null,
   "metadata": {},
   "outputs": [],
   "source": [
    "#https://stackoverflow.com/questions/41476150/removing-space-from-dataframe-columns-in-pandas\n",
    "df2.Name = df2.Name.str.strip()\n",
    "df2[df2.Name == 'Abhi Patel']"
   ]
  },
  {
   "cell_type": "code",
   "execution_count": null,
   "metadata": {},
   "outputs": [],
   "source": [
    "df2['Name'].isin(df1_sub['Name']).value_counts()"
   ]
  },
  {
   "cell_type": "code",
   "execution_count": null,
   "metadata": {},
   "outputs": [],
   "source": [
    "#df2.drop_duplicates(subset=['Name'], inplace=True)\n",
    "#df1_sub.drop_duplicates(subset=['Name'], inplace=True)"
   ]
  },
  {
   "cell_type": "code",
   "execution_count": null,
   "metadata": {},
   "outputs": [],
   "source": [
    "result = pd.merge(df1_sub, df2, how = 'inner', left_on = 'Name', right_on = 'Name')\n",
    "result.head()"
   ]
  },
  {
   "cell_type": "code",
   "execution_count": null,
   "metadata": {},
   "outputs": [],
   "source": [
    "len(result)"
   ]
  },
  {
   "cell_type": "code",
   "execution_count": null,
   "metadata": {},
   "outputs": [],
   "source": [
    "#pd.value_counts(result.Name)[:5]"
   ]
  },
  {
   "cell_type": "code",
   "execution_count": null,
   "metadata": {},
   "outputs": [],
   "source": [
    "result.drop_duplicates(subset=['Name'], inplace=True)\n",
    "len(result)"
   ]
  },
  {
   "cell_type": "code",
   "execution_count": null,
   "metadata": {},
   "outputs": [],
   "source": [
    "result.head()"
   ]
  },
  {
   "cell_type": "code",
   "execution_count": null,
   "metadata": {},
   "outputs": [],
   "source": [
    "result2 = pd.merge(df1_sub, df2, how = 'left', left_on = 'Name', right_on = 'Name')\n",
    "result2.head()"
   ]
  },
  {
   "cell_type": "code",
   "execution_count": null,
   "metadata": {},
   "outputs": [],
   "source": [
    "len(result2)"
   ]
  },
  {
   "cell_type": "code",
   "execution_count": null,
   "metadata": {},
   "outputs": [],
   "source": [
    "result2.drop_duplicates(subset=['Name'], inplace=True)\n",
    "len(result2)"
   ]
  },
  {
   "cell_type": "code",
   "execution_count": null,
   "metadata": {},
   "outputs": [],
   "source": [
    "null_data = result2[result2.isnull().any(axis=1)]\n",
    "len(null_data)"
   ]
  },
  {
   "cell_type": "code",
   "execution_count": null,
   "metadata": {},
   "outputs": [],
   "source": [
    "null_data.head()"
   ]
  },
  {
   "cell_type": "code",
   "execution_count": null,
   "metadata": {},
   "outputs": [],
   "source": [
    "null_data[null_data.Name == 'Ruiyu Hu']"
   ]
  },
  {
   "cell_type": "code",
   "execution_count": null,
   "metadata": {},
   "outputs": [],
   "source": [
    "result.drop_duplicates(subset=['Name'], inplace=True)\n",
    "len(result)"
   ]
  },
  {
   "cell_type": "code",
   "execution_count": null,
   "metadata": {},
   "outputs": [],
   "source": [
    "result.to_excel('Upwork_Email.xlsx')"
   ]
  },
  {
   "cell_type": "code",
   "execution_count": null,
   "metadata": {},
   "outputs": [],
   "source": [
    "null_data.to_excel('Upwork_Email_UnSign.xlsx')"
   ]
  },
  {
   "cell_type": "code",
   "execution_count": null,
   "metadata": {},
   "outputs": [],
   "source": []
  }
 ],
 "metadata": {
  "kernelspec": {
   "display_name": "Python 3",
   "language": "python",
   "name": "python3"
  },
  "language_info": {
   "codemirror_mode": {
    "name": "ipython",
    "version": 3
   },
   "file_extension": ".py",
   "mimetype": "text/x-python",
   "name": "python",
   "nbconvert_exporter": "python",
   "pygments_lexer": "ipython3",
   "version": "3.6.7"
  }
 },
 "nbformat": 4,
 "nbformat_minor": 2
}
