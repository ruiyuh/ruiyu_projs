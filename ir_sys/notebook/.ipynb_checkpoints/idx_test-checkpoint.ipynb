{
 "cells": [
  {
   "cell_type": "code",
   "execution_count": 8,
   "metadata": {},
   "outputs": [],
   "source": [
    "import nltk\n",
    "from nltk.corpus import stopwords\n",
    "from nltk.tokenize import word_tokenize\n",
    "from textblob import TextBlob\n",
    "\n",
    "def open_file(path):\n",
    "    text = []\n",
    "    with open(str(path), 'r') as f:\n",
    "        text.append(f.read())\n",
    "    return text\n",
    "\n",
    "def clean_token(text):\n",
    "    #porter = nltk.PorterStemmer()\n",
    "    lemmatizer = nltk.WordNetLemmatizer()\n",
    "\n",
    "    noun_lst = []\n",
    "    for word,tag in (TextBlob(text).tags):\n",
    "        if tag in (\"NN\", \"NNS\", \"NNP\", \"NNPS\"):\n",
    "            word = word.lower()\n",
    "            word = lemmatizer.lemmatize(word)\n",
    "            #word = porter.stem(word)\n",
    "            if word not in stopwords.words('english') and word.isalpha() and len(word)>2:\n",
    "                noun_lst.append(word)\n",
    "    return noun_lst\n",
    "\n",
    "def tokenize(path):\n",
    "    text = []\n",
    "    with open(str(path), 'r') as f:\n",
    "        text.append(f.read())\n",
    "        #for line in f.readlines():\n",
    "            #text.append(line.strip())\n",
    "    \n",
    "    # create a list of token\n",
    "    tokens = [None] * len(text)\n",
    "    for i in range(len(text)):\n",
    "        tokens[i] = clean_token(text[i])\n",
    "    tokens = [t for tok in tokens for t in tok] \n",
    "    return tokens"
   ]
  },
  {
   "cell_type": "code",
   "execution_count": 2,
   "metadata": {},
   "outputs": [],
   "source": [
    "import glob\n",
    "def get_file_names():\n",
    "    files = []\n",
    "    for file in glob.glob(\"../data/text/test/*.txt\"):\n",
    "        files.append(file)\n",
    "    return files"
   ]
  },
  {
   "cell_type": "code",
   "execution_count": 9,
   "metadata": {},
   "outputs": [
    {
     "name": "stdout",
     "output_type": "stream",
     "text": [
      "['curriculum', 'vitae', 'santosh', 'kumar', 'dist', 'bihar', 'pin', 'code', 'mobile', 'mail', 'objective', 'job', 'organization', 'learning', 'ability', 'growth', 'organization', 'goal', 'skill', 'problem', 'ability', 'ability', 'people', 'willingness', 'hard', 'work', 'qualification', 'graduate', 'branch', 'electronics', 'engineering', 'academic', 'grade', 'sheet', 'qualification', 'pcm', 'university', 'rgpv', 'bseb', 'bseb', 'year', 'passing', 'percentage', 'technical', 'skill', 'operating', 'system', 'application', 'software', 'microsoft', 'office', 'internet', 'explorer', 'technical', 'hardware', 'design', 'panel', 'work', 'project', 'project', 'power', 'failure', 'alarm', 'major', 'project', 'power', 'generation', 'speed', 'breaker', 'area', 'interest', 'machine', 'power', 'system', 'switchgear', 'panel', 'design', 'electrical', 'automation', 'industrial', 'training', 'plc', 'allen', 'bradley', 'intouch', 'wonderware', 'scada', 'industrial', 'automation', 'month', 'automation', 'pvt', 'ltd', 'hobby', 'cricket', 'playing', 'card', 'personal', 'detail', 'father', 'name', 'status', 'language', 'passport', 'detail', 'mukhtar', 'unmarried', 'hindi', 'english', 'bhojpuri', 'passport', 'declaration', 'information', 'knowledge', 'belief', 'place', 'date', 'signature', 'santosh', 'kumar']\n",
      "['curriculum', 'vitae', 'santosh', 'kumar', 'dist', 'bihar', 'pin', 'code', 'mobile', 'mail', 'objective', 'job', 'organization', 'learning', 'ability', 'growth', 'organization', 'goal', 'skill', 'problem', 'ability', 'ability', 'people', 'willingness', 'hard', 'work', 'qualification', 'graduate', 'branch', 'electronics', 'engineering', 'academic', 'grade', 'sheet', 'qualification', 'pcm', 'university', 'rgpv', 'bseb', 'bseb', 'year', 'passing', 'percentage', 'technical', 'skill', 'operating', 'system', 'application', 'software', 'microsoft', 'office', 'internet', 'explorer', 'technical', 'hardware', 'design', 'panel', 'work', 'project', 'project', 'power', 'failure', 'alarm', 'major', 'project', 'power', 'generation', 'speed', 'breaker', 'area', 'interest', 'machine', 'power', 'system', 'switchgear', 'panel', 'design', 'electrical', 'automation', 'industrial', 'training', 'plc', 'allen', 'bradley', 'intouch', 'wonderware', 'scada', 'industrial', 'automation', 'month', 'automation', 'pvt', 'ltd', 'hobby', 'cricket', 'playing', 'card', 'personal', 'detail', 'father', 'name', 'status', 'language', 'passport', 'detail', 'mukhtar', 'unmarried', 'hindi', 'english', 'bhojpuri', 'passport', 'declaration', 'information', 'knowledge', 'belief', 'place', 'date', 'signature', 'santosh', 'kumar']\n",
      "['ritesh', 'kumar', 'sharma', 'electrical', 'engg', 'antyodaya', 'nagar', 'bikaner', 'raj', 'email', 'riteshnitb', 'objective', 'career', 'organistion', 'approach', 'work', 'knowledge', 'skill', 'contribution', 'towards', 'company', 'growth', 'objective', 'career', 'excel', 'field', 'academic', 'electrical', 'secondary', 'secondary', 'iit', 'bombay', 'year', 'result', 'air', 'field', 'interest', 'energy', 'plant', 'designing', 'installation', 'maintainence', 'solar', 'tendering', 'process', 'technology', 'market', 'situation', 'india', 'system', 'project', 'designing', 'lim', 'model', 'ansys', 'maxwell', 'prototype', 'induction', 'motor', 'training', 'duration', 'organization', 'nevyeli', 'lignite', 'power', 'plant', 'bikaner', 'crompton', 'ltd', 'bhopal', 'crompton', 'ltd', 'bhopal', 'area', 'elect', 'power', 'production', 'elect', 'drive', 'elect', 'motor', 'manufacturing', 'achievement', 'rank', 'student', 'student', 'student', 'student', 'student', 'student', 'competition', 'class', 'bharat', 'jano', 'competition', 'aieee', 'activity', 'college', 'member', 'ieee', 'science', 'conclave', 'mhrd', 'iit', 'jodhpur', 'lcad', 'device', 'aakash', 'member', 'vision', 'society', 'manit', 'bhopal', 'activity', 'member', 'rotract', 'club', 'bhopal', 'committee', 'member', 'event', 'rajneeti', 'member', 'core', 'sponsorship', 'team', 'technosearch', 'maffic', 'member', 'branch', 'football', 'team', 'captain', 'school', 'football', 'team', 'computer', 'skill', 'computer', 'experience', 'excel', 'matlab', 'catia', 'detail', 'name', 'father', 'name', 'date', 'birth', 'language', 'proficiency', 'permanent', 'address', 'contact', 'ritesh', 'kumar', 'sharma', 'satyanarayan', 'sharma', 'december', 'english', 'hindi', 'antyodaya', 'nagar', 'bikaner', 'raj', 'declaration', 'belief', 'particular', 'knowledge']\n",
      "['ritesh', 'kumar', 'sharma', 'electrical', 'engg', 'antyodaya', 'nagar', 'bikaner', 'raj', 'email', 'riteshnitb', 'objective', 'career', 'organistion', 'approach', 'work', 'knowledge', 'skill', 'contribution', 'towards', 'company', 'growth', 'objective', 'career', 'excel', 'field', 'academic', 'electrical', 'secondary', 'secondary', 'iit', 'bombay', 'year', 'result', 'air', 'field', 'interest', 'energy', 'plant', 'designing', 'installation', 'maintainence', 'solar', 'tendering', 'process', 'technology', 'market', 'situation', 'india', 'system', 'project', 'designing', 'lim', 'model', 'ansys', 'maxwell', 'prototype', 'induction', 'motor', 'training', 'duration', 'organization', 'nevyeli', 'lignite', 'power', 'plant', 'bikaner', 'crompton', 'ltd', 'bhopal', 'crompton', 'ltd', 'bhopal', 'area', 'elect', 'power', 'production', 'elect', 'drive', 'elect', 'motor', 'manufacturing', 'achievement', 'rank', 'student', 'student', 'student', 'student', 'student', 'student', 'competition', 'class', 'bharat', 'jano', 'competition', 'aieee', 'activity', 'college', 'member', 'ieee', 'science', 'conclave', 'mhrd', 'iit', 'jodhpur', 'lcad', 'device', 'aakash', 'member', 'vision', 'society', 'manit', 'bhopal', 'activity', 'member', 'rotract', 'club', 'bhopal', 'committee', 'member', 'event', 'rajneeti', 'member', 'core', 'sponsorship', 'team', 'technosearch', 'maffic', 'member', 'branch', 'football', 'team', 'captain', 'school', 'football', 'team', 'computer', 'skill', 'computer', 'experience', 'excel', 'matlab', 'catia', 'detail', 'name', 'father', 'name', 'date', 'birth', 'language', 'proficiency', 'permanent', 'address', 'contact', 'ritesh', 'kumar', 'sharma', 'satyanarayan', 'sharma', 'december', 'english', 'hindi', 'antyodaya', 'nagar', 'bikaner', 'raj', 'declaration', 'belief', 'particular', 'knowledge']\n"
     ]
    }
   ],
   "source": [
    "for file in get_file_names():\n",
    "    print(tokenize(file))"
   ]
  },
  {
   "cell_type": "code",
   "execution_count": 6,
   "metadata": {},
   "outputs": [],
   "source": [
    "from collections import defaultdict\n",
    "import json\n",
    "def make_idx(tokens, doc_name, idx, length):\n",
    "    for term in set(tokens):\n",
    "        idx[term].append([doc_name,tokens.count(term)])\n",
    "        length[doc_name] = len(set(tokens))\n",
    "\n",
    "def write(inverted_idx,len_idx):\n",
    "    inv_idx_file = open(\"../data/txt_idx/inverted_idx.json\",\"w\")\n",
    "    json.dump(inverted_idx,inv_idx_file)\n",
    "\n",
    "    len_idx_file = open(\"../data/txt_idx/len_idx.json\",\"w\")\n",
    "    json.dump(len_idx,len_idx_file)\n",
    "    \n",
    "def generate_idx():\n",
    "    resume_files = get_file_names()\n",
    "    inverted_index = defaultdict(list)\n",
    "    length_index = defaultdict(list)\n",
    "    for file in resume_files:\n",
    "        make_idx(tokenize(file), file, inverted_index, length_index)\n",
    "    write(inverted_index,length_index)\n",
    "    print (\"Indexes generated\")"
   ]
  },
  {
   "cell_type": "code",
   "execution_count": 7,
   "metadata": {},
   "outputs": [
    {
     "name": "stdout",
     "output_type": "stream",
     "text": [
      "Indexes generated\n"
     ]
    }
   ],
   "source": [
    "generate_idx()"
   ]
  },
  {
   "cell_type": "code",
   "execution_count": null,
   "metadata": {},
   "outputs": [],
   "source": []
  }
 ],
 "metadata": {
  "kernelspec": {
   "display_name": "Python 3",
   "language": "python",
   "name": "python3"
  },
  "language_info": {
   "codemirror_mode": {
    "name": "ipython",
    "version": 3
   },
   "file_extension": ".py",
   "mimetype": "text/x-python",
   "name": "python",
   "nbconvert_exporter": "python",
   "pygments_lexer": "ipython3",
   "version": "3.6.7"
  }
 },
 "nbformat": 4,
 "nbformat_minor": 2
}
