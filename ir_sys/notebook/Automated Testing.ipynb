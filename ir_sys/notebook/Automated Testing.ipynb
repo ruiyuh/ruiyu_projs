{
 "cells": [
  {
   "cell_type": "markdown",
   "metadata": {},
   "source": [
    "# Automated Testing: BM25\n",
    "## 1. Results from live site"
   ]
  },
  {
   "cell_type": "code",
   "execution_count": 1,
   "metadata": {
    "scrolled": true
   },
   "outputs": [
    {
     "name": "stderr",
     "output_type": "stream",
     "text": [
      "C:\\Users\\RayHu\\Anaconda3\\lib\\site-packages\\requests\\__init__.py:91: RequestsDependencyWarning: urllib3 (1.23) or chardet (2.3.0) doesn't match a supported version!\n",
      "  RequestsDependencyWarning)\n"
     ]
    }
   ],
   "source": [
    "import requests\n",
    "from bs4 import BeautifulSoup\n",
    "\n",
    "def get_sr(keywords):\n",
    "    baseurl='https://csc575proj.herokuapp.com/?q='\n",
    "    url=baseurl+keywords\n",
    "    print(url.replace(' ','%20'))\n",
    "    r = requests.get(url)\n",
    "    # r.text[:200]\n",
    "\n",
    "    soup = BeautifulSoup(r.content, 'html.parser') \n",
    "    docs = soup.findAll('a')\n",
    "    sr=[]\n",
    "    for doc in docs:\n",
    "    #     print(doc.text)\n",
    "        sr.append(doc.text)\n",
    "    return sr\n",
    "\n",
    "#keywords='i love sql'\n",
    "#get_sr(keywords)"
   ]
  },
  {
   "cell_type": "code",
   "execution_count": 2,
   "metadata": {
    "scrolled": false
   },
   "outputs": [],
   "source": [
    "import pandas as pd\n",
    "df = pd.read_csv('testset_new.csv')\n",
    "search_terms = df.columns[2:]"
   ]
  },
  {
   "cell_type": "markdown",
   "metadata": {},
   "source": [
    "## 2. Ground Truth from manual lookup on 73 resumes"
   ]
  },
  {
   "cell_type": "code",
   "execution_count": 3,
   "metadata": {
    "scrolled": true
   },
   "outputs": [
    {
     "name": "stdout",
     "output_type": "stream",
     "text": [
      "https://csc575proj.herokuapp.com/?q=sql%20or%20Java\n",
      "https://csc575proj.herokuapp.com/?q=electrical\n",
      "https://csc575proj.herokuapp.com/?q=database\n",
      "https://csc575proj.herokuapp.com/?q=cad\n",
      "https://csc575proj.herokuapp.com/?q=plumber\n",
      "https://csc575proj.herokuapp.com/?q=electronics\n",
      "https://csc575proj.herokuapp.com/?q=mechanical\n",
      "https://csc575proj.herokuapp.com/?q=mba\n",
      "https://csc575proj.herokuapp.com/?q=safety\n",
      "https://csc575proj.herokuapp.com/?q=java\n",
      "https://csc575proj.herokuapp.com/?q=marketing\n",
      "https://csc575proj.herokuapp.com/?q=c++\n",
      "https://csc575proj.herokuapp.com/?q=matlab\n",
      "https://csc575proj.herokuapp.com/?q=assistant\n",
      "https://csc575proj.herokuapp.com/?q=construction\n",
      "https://csc575proj.herokuapp.com/?q=finance\n",
      "https://csc575proj.herokuapp.com/?q=finance%20mba\n",
      "https://csc575proj.herokuapp.com/?q=marketing%20mba\n",
      "https://csc575proj.herokuapp.com/?q=sales\n",
      "https://csc575proj.herokuapp.com/?q=construction%20engineer\n",
      "https://csc575proj.herokuapp.com/?q=telecom\n",
      "https://csc575proj.herokuapp.com/?q=office\n"
     ]
    }
   ],
   "source": [
    "results={}\n",
    "for st in search_terms:\n",
    "    web_r_doc=set([ x[:-4] for x in get_sr(st)])\n",
    "    test_r_doc=set(df[df[st]=='R']['File Name'])\n",
    "#     print(st)\n",
    "    results.setdefault(st,[len(web_r_doc),len(test_r_doc),len(test_r_doc.intersection(web_r_doc))])\n",
    "#     print(len(web_r_doc))\n",
    "#     print()\n",
    "#     print(len(test_r_doc))\n",
    "#     print(len(test_r_doc.intersection(web_r_doc)))\n",
    "#     print()\n",
    "    "
   ]
  },
  {
   "cell_type": "markdown",
   "metadata": {},
   "source": [
    "## Key: [web,test,intersection]"
   ]
  },
  {
   "cell_type": "code",
   "execution_count": 5,
   "metadata": {},
   "outputs": [
    {
     "data": {
      "text/html": [
       "<div>\n",
       "<style scoped>\n",
       "    .dataframe tbody tr th:only-of-type {\n",
       "        vertical-align: middle;\n",
       "    }\n",
       "\n",
       "    .dataframe tbody tr th {\n",
       "        vertical-align: top;\n",
       "    }\n",
       "\n",
       "    .dataframe thead th {\n",
       "        text-align: right;\n",
       "    }\n",
       "</style>\n",
       "<table border=\"1\" class=\"dataframe\">\n",
       "  <thead>\n",
       "    <tr style=\"text-align: right;\">\n",
       "      <th></th>\n",
       "      <th>0</th>\n",
       "      <th>1</th>\n",
       "      <th>2</th>\n",
       "    </tr>\n",
       "  </thead>\n",
       "  <tbody>\n",
       "    <tr>\n",
       "      <th>sql or Java</th>\n",
       "      <td>13</td>\n",
       "      <td>6</td>\n",
       "      <td>3</td>\n",
       "    </tr>\n",
       "    <tr>\n",
       "      <th>electrical</th>\n",
       "      <td>90</td>\n",
       "      <td>25</td>\n",
       "      <td>17</td>\n",
       "    </tr>\n",
       "    <tr>\n",
       "      <th>database</th>\n",
       "      <td>19</td>\n",
       "      <td>2</td>\n",
       "      <td>2</td>\n",
       "    </tr>\n",
       "    <tr>\n",
       "      <th>cad</th>\n",
       "      <td>31</td>\n",
       "      <td>6</td>\n",
       "      <td>4</td>\n",
       "    </tr>\n",
       "    <tr>\n",
       "      <th>plumber</th>\n",
       "      <td>2</td>\n",
       "      <td>1</td>\n",
       "      <td>1</td>\n",
       "    </tr>\n",
       "    <tr>\n",
       "      <th>electronics</th>\n",
       "      <td>50</td>\n",
       "      <td>6</td>\n",
       "      <td>5</td>\n",
       "    </tr>\n",
       "    <tr>\n",
       "      <th>mechanical</th>\n",
       "      <td>54</td>\n",
       "      <td>5</td>\n",
       "      <td>4</td>\n",
       "    </tr>\n",
       "    <tr>\n",
       "      <th>mba</th>\n",
       "      <td>23</td>\n",
       "      <td>9</td>\n",
       "      <td>9</td>\n",
       "    </tr>\n",
       "    <tr>\n",
       "      <th>safety</th>\n",
       "      <td>70</td>\n",
       "      <td>16</td>\n",
       "      <td>16</td>\n",
       "    </tr>\n",
       "    <tr>\n",
       "      <th>java</th>\n",
       "      <td>8</td>\n",
       "      <td>3</td>\n",
       "      <td>2</td>\n",
       "    </tr>\n",
       "    <tr>\n",
       "      <th>marketing</th>\n",
       "      <td>32</td>\n",
       "      <td>8</td>\n",
       "      <td>8</td>\n",
       "    </tr>\n",
       "    <tr>\n",
       "      <th>c++</th>\n",
       "      <td>0</td>\n",
       "      <td>3</td>\n",
       "      <td>0</td>\n",
       "    </tr>\n",
       "    <tr>\n",
       "      <th>matlab</th>\n",
       "      <td>6</td>\n",
       "      <td>2</td>\n",
       "      <td>1</td>\n",
       "    </tr>\n",
       "    <tr>\n",
       "      <th>assistant</th>\n",
       "      <td>31</td>\n",
       "      <td>2</td>\n",
       "      <td>2</td>\n",
       "    </tr>\n",
       "    <tr>\n",
       "      <th>construction</th>\n",
       "      <td>71</td>\n",
       "      <td>3</td>\n",
       "      <td>3</td>\n",
       "    </tr>\n",
       "    <tr>\n",
       "      <th>finance</th>\n",
       "      <td>25</td>\n",
       "      <td>4</td>\n",
       "      <td>4</td>\n",
       "    </tr>\n",
       "    <tr>\n",
       "      <th>finance mba</th>\n",
       "      <td>39</td>\n",
       "      <td>3</td>\n",
       "      <td>3</td>\n",
       "    </tr>\n",
       "    <tr>\n",
       "      <th>marketing mba</th>\n",
       "      <td>42</td>\n",
       "      <td>7</td>\n",
       "      <td>7</td>\n",
       "    </tr>\n",
       "    <tr>\n",
       "      <th>sales</th>\n",
       "      <td>0</td>\n",
       "      <td>6</td>\n",
       "      <td>0</td>\n",
       "    </tr>\n",
       "    <tr>\n",
       "      <th>construction engineer</th>\n",
       "      <td>153</td>\n",
       "      <td>2</td>\n",
       "      <td>2</td>\n",
       "    </tr>\n",
       "    <tr>\n",
       "      <th>telecom</th>\n",
       "      <td>8</td>\n",
       "      <td>2</td>\n",
       "      <td>0</td>\n",
       "    </tr>\n",
       "    <tr>\n",
       "      <th>office</th>\n",
       "      <td>135</td>\n",
       "      <td>3</td>\n",
       "      <td>3</td>\n",
       "    </tr>\n",
       "  </tbody>\n",
       "</table>\n",
       "</div>"
      ],
      "text/plain": [
       "                         0   1   2\n",
       "sql or Java             13   6   3\n",
       "electrical              90  25  17\n",
       "database                19   2   2\n",
       "cad                     31   6   4\n",
       "plumber                  2   1   1\n",
       "electronics             50   6   5\n",
       "mechanical              54   5   4\n",
       "mba                     23   9   9\n",
       "safety                  70  16  16\n",
       "java                     8   3   2\n",
       "marketing               32   8   8\n",
       "c++                      0   3   0\n",
       "matlab                   6   2   1\n",
       "assistant               31   2   2\n",
       "construction            71   3   3\n",
       "finance                 25   4   4\n",
       "finance mba             39   3   3\n",
       "marketing mba           42   7   7\n",
       "sales                    0   6   0\n",
       "construction engineer  153   2   2\n",
       "telecom                  8   2   0\n",
       "office                 135   3   3"
      ]
     },
     "execution_count": 5,
     "metadata": {},
     "output_type": "execute_result"
    }
   ],
   "source": [
    "pd.DataFrame.from_dict(results, orient='index')"
   ]
  },
  {
   "cell_type": "code",
   "execution_count": null,
   "metadata": {
    "scrolled": false
   },
   "outputs": [],
   "source": [
    "'''# (get_sr('SQL or Java'))\n",
    "sample_relevance = [ x[:-4] for x in get_sr(st)]\n",
    "set(df[df['SQL or Java']=='R']['File Name'])\n",
    "set(sample_relevance).intersection(set(df[df['SQL or Java']=='R']['File Name']))'''"
   ]
  }
 ],
 "metadata": {
  "kernelspec": {
   "display_name": "Python 3",
   "language": "python",
   "name": "python3"
  },
  "language_info": {
   "codemirror_mode": {
    "name": "ipython",
    "version": 3
   },
   "file_extension": ".py",
   "mimetype": "text/x-python",
   "name": "python",
   "nbconvert_exporter": "python",
   "pygments_lexer": "ipython3",
   "version": "3.6.7"
  }
 },
 "nbformat": 4,
 "nbformat_minor": 2
}
