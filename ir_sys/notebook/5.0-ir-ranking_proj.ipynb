{
 "cells": [
  {
   "cell_type": "code",
   "execution_count": 6,
   "metadata": {},
   "outputs": [
    {
     "name": "stdout",
     "output_type": "stream",
     "text": [
      "The watermark extension is already loaded. To reload it, use:\n",
      "  %reload_ext watermark\n",
      "Ruiyu Hu 2019-03-17 \n",
      "\n",
      "CPython 3.6.7\n",
      "IPython 7.0.1\n",
      "\n",
      "compiler   : MSC v.1915 64 bit (AMD64)\n",
      "system     : Windows\n",
      "release    : 10\n",
      "machine    : AMD64\n",
      "processor  : Intel64 Family 6 Model 58 Stepping 9, GenuineIntel\n",
      "CPU cores  : 4\n",
      "interpreter: 64bit\n"
     ]
    }
   ],
   "source": [
    "%load_ext watermark\n",
    "%watermark -a \"Ruiyu Hu\" -d -v -m"
   ]
  },
  {
   "cell_type": "code",
   "execution_count": 2,
   "metadata": {},
   "outputs": [],
   "source": [
    "# read the pdf file\n",
    "import PyPDF2 \n",
    "\n",
    "# tokenize\n",
    "import nltk\n",
    "from nltk.corpus import stopwords\n",
    "from nltk.tokenize import sent_tokenize, word_tokenize\n",
    "from textblob import TextBlob\n",
    "\n",
    "# create inverse index\n",
    "\n",
    "import math\n",
    "import glob\n",
    "import json\n",
    "import operator\n",
    "from collections import Counter,defaultdict\n",
    "\n",
    "\n",
    "\n",
    "import numpy as np\n",
    "import pandas as pd\n",
    "\n",
    "from sklearn.feature_extraction.text import CountVectorizer,TfidfTransformer,TfidfVectorizer\n",
    "\n",
    "\n",
    "import warnings\n",
    "warnings.filterwarnings('ignore')"
   ]
  },
  {
   "cell_type": "markdown",
   "metadata": {},
   "source": [
    "**Create Tokenize**"
   ]
  },
  {
   "cell_type": "code",
   "execution_count": 57,
   "metadata": {},
   "outputs": [],
   "source": [
    "#%%file tokenize.py\n",
    "#%%file tokenize.py\n",
    "\n",
    "from textblob import TextBlob\n",
    "\n",
    "def get_file_names():\n",
    "    files = []\n",
    "    for file in glob.glob(\"../data/text/*.txt\"):\n",
    "        files.append(file)\n",
    "    return files\n",
    "###########################################################################\n",
    "def convert(file):\n",
    "    text = []\n",
    "    with open(str(file), 'rb') as f:\n",
    "        for line in f.readlines():\n",
    "            text.append(line.decode(\"utf-8\", \"ignore\").strip())\n",
    "    return text\n",
    "\n",
    "'''def convert_pdf(file):\n",
    "    pdf_content = []\n",
    "\n",
    "    pdf = PyPDF2.PdfFileReader(open(str(file),\"rb\"))\n",
    "    # pdf may be more than one page\n",
    "    num_pages = pdf.numPages\n",
    "    count = 0\n",
    "    text = ''\n",
    "    while count < num_pages:\n",
    "        pageObj = pdf.getPage(count)\n",
    "        count +=1\n",
    "        text += pageObj.extractText().replace('\\n','')\n",
    "    if text != '':\n",
    "        text = text\n",
    "            \n",
    "    pdf_content.append(text)   \n",
    "    return pdf_content'''\n",
    "###########################################################################     \n",
    "def tokenize(lst):            \n",
    "    # create a list of token\n",
    "    \n",
    "    tokens = [None] * len(lst)\n",
    "    for i in range(len(lst)):\n",
    "        tokens[i] = clean_token(lst[i])\n",
    "    tokens = [t for tok in tokens for t in tok] \n",
    "    return tokens\n",
    "\n",
    "########################################################################### \n",
    "def clean_token(text):\n",
    "    #porter = nltk.PorterStemmer()\n",
    "    lemmatizer = nltk.WordNetLemmatizer()\n",
    "    #snowball = nltk.SnowballStemmer('english')\n",
    "        \n",
    "    stopset = set(stopwords.words('english'))\n",
    "    stopset.update(('less','year'))\n",
    "    \n",
    "    noun_lst = []\n",
    "\n",
    "    for word,tag in (TextBlob(text).tags):\n",
    "        if tag in (\"NN\", \"NNS\", \"NNP\", \"NNPS\",\"JJ\"):\n",
    "            word = word.lower()\n",
    "            word = lemmatizer.lemmatize(word)\n",
    "            #word = porter.stem(word)\n",
    "            #word = snowball.stem(word)\n",
    "            if word not in stopset and word.isalpha():\n",
    "                noun_lst.append(word)\n",
    "    return noun_lst"
   ]
  },
  {
   "cell_type": "markdown",
   "metadata": {},
   "source": [
    "**create index**"
   ]
  },
  {
   "cell_type": "code",
   "execution_count": 58,
   "metadata": {},
   "outputs": [],
   "source": [
    "def make_idx(tokens, doc_name, idx, length):\n",
    "    for term in set(tokens):\n",
    "        idx[term].append([doc_name,tokens.count(term)])\n",
    "        length[doc_name] = len(set(tokens))\n",
    "\n",
    "def write(inverted_idx,len_idx):\n",
    "    inv_idx_file = open(\"../data/indexes/inverted_idx.json\",\"w\")\n",
    "    json.dump(inverted_idx,inv_idx_file)\n",
    "\n",
    "    len_idx_file = open(\"../data/indexes/len_idx.json\",\"w\")\n",
    "    json.dump(len_idx,len_idx_file)\n",
    "    \n",
    "def generate_idx():\n",
    "    resume_files = get_file_names()\n",
    "    inverted_index = defaultdict(list)\n",
    "    length_index = defaultdict(list)\n",
    "    \n",
    "    for file in resume_files:\n",
    "        make_idx(tokenize(convert(file)), file, inverted_index, length_index)\n",
    "        \n",
    "    write(inverted_index,length_index)\n",
    "    print (\"Indexes generated\")\n",
    "    "
   ]
  },
  {
   "cell_type": "code",
   "execution_count": 59,
   "metadata": {},
   "outputs": [
    {
     "name": "stdout",
     "output_type": "stream",
     "text": [
      "Indexes generated\n"
     ]
    }
   ],
   "source": [
    "generate_idx()"
   ]
  },
  {
   "cell_type": "code",
   "execution_count": null,
   "metadata": {},
   "outputs": [],
   "source": [
    "'''inv_idx_file = open(\"../data/indexes/inverted_idx.json\",\"r\")\n",
    "inv_indx = json.load(inv_idx_file)\n",
    "# create dictionary\n",
    "doc_freq ={}\n",
    "for key in sorted(inv_indx.keys()):\n",
    "    doc_freq[key] = sum(Counter(set(doc_id for doc_id, term in inv_indx[key])).values())\n",
    "\n",
    "dictionary = pd.DataFrame.from_dict(doc_freq,orient='index', columns=['DocFreq'])\n",
    "dictionary.head()'''"
   ]
  },
  {
   "cell_type": "code",
   "execution_count": null,
   "metadata": {},
   "outputs": [],
   "source": []
  },
  {
   "cell_type": "markdown",
   "metadata": {},
   "source": [
    "**create retrieval-The BM25 Weighting Scheme**"
   ]
  },
  {
   "cell_type": "code",
   "execution_count": 60,
   "metadata": {},
   "outputs": [],
   "source": [
    "from math import log\n",
    "\n",
    "'''\n",
    "IR Book: 11.4.3\n",
    "Fomula: 11.33\n",
    "'''\n",
    "'''\n",
    "typical TREC value (Text Retrieval Conference (TREC).)\n",
    "f1 = 1.2\n",
    "k2 varies from 0 to 1000\n",
    "b = 0.75\n",
    "'''\n",
    "\n",
    "k1 = 1.2\n",
    "b = 0.75\n",
    "k2 = 100\n",
    "R = 0 # (set it to 0 since no relevancy info is known)\n",
    "\n",
    "\n",
    "\n",
    "def BM25(doc_len, avg_doc_len, n_doc_w_term, n_total_doc, freq_term_doc, freq_term_query, rel_doc_w_term):\n",
    "    \n",
    "    n = n_doc_w_term\n",
    "    N = n_total_doc\n",
    "    f = freq_term_doc\n",
    "    q = freq_term_query\n",
    "    r = rel_doc_w_term\n",
    "    \n",
    "    p1 = ((k2 + 1) * q) / (k2 + q) #Relevance between term and query\n",
    "    p2 = ((k1 + 1) * f) / (getK(doc_len, avg_doc_len) + f) #Relevance between term and document\n",
    "    p3 = log((((r + 0.5)/(R-r+0.5)) / ((n - r + 0.5)/(N - n - R + r + 0.5)))+1) # Term Weight\n",
    "    return p1 * p2 * p3\n",
    "\n",
    "def getK(doc_len, avg_doc_len):\n",
    "    return k1 * ((1 - b) + b * (float(doc_len) / float(avg_doc_len)))\n",
    "    \n",
    "def sigmoid(x):\n",
    "    return 1 / (1 + math.exp(-x))"
   ]
  },
  {
   "cell_type": "code",
   "execution_count": 99,
   "metadata": {},
   "outputs": [],
   "source": [
    "# get average document length\n",
    "def get_avg_doc_len(len_idx):\n",
    "    _length = 0\n",
    "    for doc in len_idx:\n",
    "        _length += len_idx[doc]\n",
    "    return float(_length) / float(len(len_idx))\n",
    "\n",
    "def search(query):\n",
    "    inv_idx_file = open(\"../data/indexes/inverted_idx.json\",\"r\")\n",
    "    inverted_idx = json.load(inv_idx_file)\n",
    "\n",
    "    len_idx_file = open(\"../data/indexes/len_idx.json\",\"r\")\n",
    "    len_idx = json.load(len_idx_file)\n",
    "\n",
    "    scores = defaultdict(list)\n",
    "    \n",
    "    query_tokens = query.split()\n",
    "    for token in query_tokens:\n",
    "    #for token in query:\n",
    "        #token = token.lower()\n",
    "        for tok in clean_token(token):\n",
    "            if tok in inverted_idx.keys():\n",
    "                for entry in inverted_idx[tok]:\n",
    "                    bm25_val = BM25(len_idx[entry[0]],get_avg_doc_len(len_idx),len(inverted_idx[tok]),len(len_idx),entry[1],1,0)\n",
    "                #scores[entry[0]] = round(10* sigmoid(bm25_val)-5,4)\n",
    "                    scores[entry[0]] = round(bm25_val,4)\n",
    "    result = sorted(scores.items(),key=operator.itemgetter(1),reverse=True)\n",
    "    return result"
   ]
  },
  {
   "cell_type": "code",
   "execution_count": 102,
   "metadata": {},
   "outputs": [
    {
     "data": {
      "text/plain": [
       "[('../data/text\\\\106750694Siva Resume.txt', 4.2557),\n",
       " ('../data/text\\\\114314467viswanadhCV.txt', 3.3382)]"
      ]
     },
     "execution_count": 102,
     "metadata": {},
     "output_type": "execute_result"
    }
   ],
   "source": [
    "query = 'JAVA'\n",
    "search(query)"
   ]
  },
  {
   "cell_type": "markdown",
   "metadata": {},
   "source": [
    "**w2v approach**"
   ]
  },
  {
   "cell_type": "code",
   "execution_count": 10,
   "metadata": {},
   "outputs": [
    {
     "name": "stdout",
     "output_type": "stream",
     "text": [
      "-------------------------------------------\n",
      "Loading word2vec model cost 93.678 seconds...\n",
      "\n"
     ]
    }
   ],
   "source": [
    "import time\n",
    "from gensim.models import KeyedVectors\n",
    "t1 = time.time()\n",
    "#download link: https://github.com/mmihaltz/word2vec-GoogleNews-vectors\n",
    "path = 'C:/Users/RayHu/Downloads/google_w2v/GoogleNews-vectors-negative300.bin'\n",
    "w2v_model = KeyedVectors.load_word2vec_format(path, binary=True)\n",
    "print('-------------------------------------------')\n",
    "print(\"Loading word2vec model cost %.3f seconds...\\n\" % (time.time() - t1))\n",
    "\n",
    "# -------------------------------------------\n",
    "#Loading word2vec model cost 108.422 seconds..."
   ]
  },
  {
   "cell_type": "code",
   "execution_count": 49,
   "metadata": {},
   "outputs": [],
   "source": [
    "#%%file vectorize.py\n",
    "import numpy as np\n",
    "from numpy import linalg as LA\n",
    "\n",
    "def vectorize(words):\n",
    "    '''\n",
    "    transform the doc and query into vectors\n",
    "    '''\n",
    "    word_vec = []\n",
    "    for word in words:\n",
    "        try:\n",
    "            vec = w2v_model[word]\n",
    "            word_vec.append(vec)\n",
    "        except KeyError:\n",
    "            # ignore the word if it is not in the w2v vocablary\n",
    "            pass\n",
    "    vector = np.mean(word_vec,axis = 0)\n",
    "    return vector\n",
    "\n",
    "def cos_sim(vector1, vector2):\n",
    "    '''\n",
    "    the fomula to calculte cosine cimilarity \n",
    "    '''\n",
    "    sim = np.dot(vector1, vector2) / (LA.norm(vector1) * LA.norm(vector2))\n",
    "    \n",
    "    if np.isnan(np.sum(sim)):\n",
    "        return 0\n",
    "    \n",
    "    return sim\n",
    "\n",
    "def calc_sim(query):\n",
    "    '''\n",
    "    calculate similarity scores between documents and the query\n",
    "    '''\n",
    "    query = clean_token(query)\n",
    "    file_list = get_file_names()\n",
    "    documents = {}\n",
    "    \n",
    "    for i in range(len(file_list)):\n",
    "        documents[file_list[i]] = tokenize(convert(file_list[i]))\n",
    "        \n",
    "    query_vec = vectorize(query)\n",
    "    results = {}\n",
    "    \n",
    "    for name, doc in documents.items():\n",
    "        doc_vec = vectorize(doc)\n",
    "        sim_score = cos_sim(query_vec, doc_vec)\n",
    "        #threshold = 0.55\n",
    "        if sim_score > 0:\n",
    "            results[name] = sim_score\n",
    "            sort_result = sorted(results.items(),key=operator.itemgetter(1),reverse=True)\n",
    "    return sort_result"
   ]
  },
  {
   "cell_type": "markdown",
   "metadata": {},
   "source": [
    "**jaccard**"
   ]
  },
  {
   "cell_type": "code",
   "execution_count": 70,
   "metadata": {},
   "outputs": [],
   "source": [
    "def jaccard(query, documents):\n",
    "    s1 = set(query)\n",
    "    s2 = set(documents)\n",
    "    lst1 = s1.intersection(s2)\n",
    "    lst2 = s1.union(s2)\n",
    "    jaccard = 1.0 * len(lst1)/len(lst2)\n",
    "    \n",
    "    return jaccard\n",
    "\n",
    "def calc_jac(query):\n",
    "    query = set(clean_token(query))\n",
    "    \n",
    "    file_list = get_file_names()\n",
    "    documents = {}\n",
    "    \n",
    "    for i in range(len(file_list)):\n",
    "        documents[file_list[i]] = set(tokenize(convert(file_list[i])))\n",
    "    \n",
    "    results = {}\n",
    "    \n",
    "    for name, doc in documents.items():\n",
    "        jac = jaccard(query, doc)\n",
    "        if jac > 0:\n",
    "            results[name] = round(jac,4)\n",
    "            sort_result = sorted(results.items(),key=operator.itemgetter(1),reverse=True)\n",
    "    return sort_result"
   ]
  },
  {
   "cell_type": "markdown",
   "metadata": {},
   "source": [
    "**Search**"
   ]
  },
  {
   "cell_type": "code",
   "execution_count": 74,
   "metadata": {},
   "outputs": [],
   "source": [
    "def matching(query):\n",
    "    #print(query)\n",
    "    print('-------------------------------------------------------')\n",
    "    t1 = time.time()\n",
    "    results_bm25 = search(query)[:5]\n",
    "    print('bm25 result')\n",
    "    for result in results_bm25:\n",
    "        print(result)\n",
    "    print('The computing cost %.3f seconds\\n'% (time.time() - t1))\n",
    "    print('-------------------------------------------------------')\n",
    "    t2 = time.time()\n",
    "    results_cos = calc_sim(query)[:5]\n",
    "    print('cosine result')\n",
    "    for result in results_cos:\n",
    "        print(result)\n",
    "    print('The computing cost %.3f seconds\\n'% (time.time() - t2))   \n",
    "    print('-------------------------------------------------------')\n",
    "    t3 = time.time()\n",
    "    results_jac = calc_jac(query)[:5]\n",
    "    print('jacarrd result')\n",
    "    for result in results_jac:\n",
    "        print(result)\n",
    "    print('The computing cost %.3f seconds\\n'% (time.time() - t3))\n",
    "    print('-------------------------------------------------------')"
   ]
  },
  {
   "cell_type": "code",
   "execution_count": 75,
   "metadata": {},
   "outputs": [
    {
     "name": "stdout",
     "output_type": "stream",
     "text": [
      "-------------------------------------------------------\n",
      "bm25 result\n",
      "('../data/text\\\\106750694Siva Resume.txt', 4.2557)\n",
      "('../data/text\\\\114314467viswanadhCV.txt', 3.3382)\n",
      "The computing cost 0.024 seconds\n",
      "\n",
      "-------------------------------------------------------\n",
      "cosine result\n",
      "('../data/text\\\\105903931resume__Atanu.txt', 0.33573505)\n",
      "('../data/text\\\\114314467viswanadhCV.txt', 0.32138988)\n",
      "('../data/text\\\\103645689naushad new final.txt', 0.30411604)\n",
      "('../data/text\\\\106750694Siva Resume.txt', 0.29796073)\n",
      "('../data/text\\\\107279656Copy_of_Water_soluble_oils.txt', 0.2946744)\n",
      "The computing cost 16.804 seconds\n",
      "\n",
      "-------------------------------------------------------\n",
      "jacarrd result\n",
      "('../data/text\\\\106750694Siva Resume.txt', 0.0111)\n",
      "('../data/text\\\\114314467viswanadhCV.txt', 0.0054)\n",
      "The computing cost 17.496 seconds\n",
      "\n",
      "-------------------------------------------------------\n"
     ]
    }
   ],
   "source": [
    "matching('java')"
   ]
  },
  {
   "cell_type": "code",
   "execution_count": null,
   "metadata": {},
   "outputs": [],
   "source": [
    "#matching('define business metric, perform insight analysis')"
   ]
  },
  {
   "cell_type": "markdown",
   "metadata": {},
   "source": [
    "**auto test**"
   ]
  },
  {
   "cell_type": "code",
   "execution_count": 142,
   "metadata": {},
   "outputs": [],
   "source": [
    "lst = ['sql or Java', 'electrical', 'database', 'cad', 'plumber',\n",
    "       'electronics', 'mechanical', 'mba', 'safety', 'java', 'marketing',\n",
    "       'matlab', 'assistant', 'construction', 'finance', 'finance mba',\n",
    "       'marketing mba', 'sales', 'construction engineer', 'telecom', 'office']"
   ]
  },
  {
   "cell_type": "code",
   "execution_count": 143,
   "metadata": {},
   "outputs": [],
   "source": [
    "import pandas as pd\n",
    "def auto_test():\n",
    "    df = pd.read_csv('testset_new.csv')\n",
    "    dict1 = {}\n",
    "    dict2 = {}\n",
    "    for i in lst:\n",
    "        dict1[i] = len(df[df[i]=='R'])\n",
    "        dict2[i] = len(calc_jac(i))\n",
    "                  \n",
    "    pd1 = pd.DataFrame.from_dict(dict1, orient='index')\n",
    "    pd2 = pd.DataFrame.from_dict(dict2, orient='index')\n",
    "    return pd.concat([pd1,pd2], axis = 1)"
   ]
  },
  {
   "cell_type": "code",
   "execution_count": 144,
   "metadata": {},
   "outputs": [],
   "source": [
    "auto_test().to_csv('test_result_jac.csv')"
   ]
  }
 ],
 "metadata": {
  "kernelspec": {
   "display_name": "Python 3",
   "language": "python",
   "name": "python3"
  },
  "language_info": {
   "codemirror_mode": {
    "name": "ipython",
    "version": 3
   },
   "file_extension": ".py",
   "mimetype": "text/x-python",
   "name": "python",
   "nbconvert_exporter": "python",
   "pygments_lexer": "ipython3",
   "version": "3.6.7"
  }
 },
 "nbformat": 4,
 "nbformat_minor": 2
}
