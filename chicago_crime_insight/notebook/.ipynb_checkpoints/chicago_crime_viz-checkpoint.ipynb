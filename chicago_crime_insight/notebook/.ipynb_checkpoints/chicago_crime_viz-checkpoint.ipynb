{
 "cells": [
  {
   "cell_type": "markdown",
   "metadata": {},
   "source": [
    "## Chicago Violent Crime Analysis \n",
    ">**What happened after CPD launching the Strategic Decision Support Centers?**\n",
    "\n",
    "2011-2015,2015-Feb 2017, After 2017 \n"
   ]
  },
  {
   "cell_type": "markdown",
   "metadata": {},
   "source": [
    "## Package import & Environment Setup "
   ]
  },
  {
   "cell_type": "code",
   "execution_count": 1,
   "metadata": {},
   "outputs": [],
   "source": [
    "import pandas as pd\n",
    "import numpy as np\n",
    "import seaborn as sns\n",
    "import matplotlib.pyplot as plt\n",
    "%matplotlib inline\n",
    "plt.style.use('seaborn')\n",
    "\n",
    "import warnings\n",
    "warnings.filterwarnings('ignore')"
   ]
  },
  {
   "cell_type": "code",
   "execution_count": 2,
   "metadata": {},
   "outputs": [],
   "source": [
    "# set up env locally\n",
    "import os\n",
    "os.environ[\"GOOGLE_APPLICATION_CREDENTIALS\"] = r'C:\\Users\\RayHu\\Documents\\ruiyu-gcp-466772ca17d3.json'\n",
    "#%env GOOGLE_APPLICATION_CREDENTIALS=\"C:\\Users\\RayHu\\Documents\\ruiyu-gcp-466772ca17d3.json\"\n",
    "\n",
    "\n",
    "from google.cloud import bigquery\n",
    "# Explicitly use service account credentials by specifying the private key file. \n",
    "#All clients in google-cloud-python have this helper.\n",
    "client = bigquery.Client.from_service_account_json(r'C:\\Users\\RayHu\\Documents\\ruiyu-gcp-466772ca17d3.json')"
   ]
  },
  {
   "cell_type": "code",
   "execution_count": 3,
   "metadata": {},
   "outputs": [],
   "source": [
    "from google.cloud import bigquery as bq\n",
    "client = bq.Client(project='ruiyu-gcp') # set up project ID"
   ]
  },
  {
   "cell_type": "code",
   "execution_count": 4,
   "metadata": {},
   "outputs": [],
   "source": [
    "%load_ext google.cloud.bigquery"
   ]
  },
  {
   "cell_type": "markdown",
   "metadata": {},
   "source": [
    "**check connection**"
   ]
  },
  {
   "cell_type": "code",
   "execution_count": 5,
   "metadata": {},
   "outputs": [
    {
     "data": {
      "text/html": [
       "<div>\n",
       "<style scoped>\n",
       "    .dataframe tbody tr th:only-of-type {\n",
       "        vertical-align: middle;\n",
       "    }\n",
       "\n",
       "    .dataframe tbody tr th {\n",
       "        vertical-align: top;\n",
       "    }\n",
       "\n",
       "    .dataframe thead th {\n",
       "        text-align: right;\n",
       "    }\n",
       "</style>\n",
       "<table border=\"1\" class=\"dataframe\">\n",
       "  <thead>\n",
       "    <tr style=\"text-align: right;\">\n",
       "      <th></th>\n",
       "      <th>unique_key</th>\n",
       "      <th>case_number</th>\n",
       "      <th>date</th>\n",
       "      <th>block</th>\n",
       "      <th>iucr</th>\n",
       "      <th>primary_type</th>\n",
       "      <th>description</th>\n",
       "      <th>location_description</th>\n",
       "      <th>arrest</th>\n",
       "      <th>domestic</th>\n",
       "      <th>...</th>\n",
       "      <th>ward</th>\n",
       "      <th>community_area</th>\n",
       "      <th>fbi_code</th>\n",
       "      <th>x_coordinate</th>\n",
       "      <th>y_coordinate</th>\n",
       "      <th>year</th>\n",
       "      <th>updated_on</th>\n",
       "      <th>latitude</th>\n",
       "      <th>longitude</th>\n",
       "      <th>location</th>\n",
       "    </tr>\n",
       "  </thead>\n",
       "  <tbody>\n",
       "    <tr>\n",
       "      <th>0</th>\n",
       "      <td>21778</td>\n",
       "      <td>HY177958</td>\n",
       "      <td>2015-03-09 19:41:00+00:00</td>\n",
       "      <td>002XX W 105TH ST</td>\n",
       "      <td>0110</td>\n",
       "      <td>HOMICIDE</td>\n",
       "      <td>FIRST DEGREE MURDER</td>\n",
       "      <td>STREET</td>\n",
       "      <td>True</td>\n",
       "      <td>False</td>\n",
       "      <td>...</td>\n",
       "      <td>34</td>\n",
       "      <td>49</td>\n",
       "      <td>01A</td>\n",
       "      <td>1176504.0</td>\n",
       "      <td>1835313.0</td>\n",
       "      <td>2015</td>\n",
       "      <td>2015-08-31 15:38:55+00:00</td>\n",
       "      <td>41.703445</td>\n",
       "      <td>-87.629292</td>\n",
       "      <td>(41.703445434, -87.629291729)</td>\n",
       "    </tr>\n",
       "  </tbody>\n",
       "</table>\n",
       "<p>1 rows × 22 columns</p>\n",
       "</div>"
      ],
      "text/plain": [
       "   unique_key case_number                      date             block  iucr  \\\n",
       "0       21778    HY177958 2015-03-09 19:41:00+00:00  002XX W 105TH ST  0110   \n",
       "\n",
       "  primary_type          description location_description  arrest  domestic  \\\n",
       "0     HOMICIDE  FIRST DEGREE MURDER               STREET    True     False   \n",
       "\n",
       "               ...                ward  community_area  fbi_code  \\\n",
       "0              ...                  34              49       01A   \n",
       "\n",
       "   x_coordinate y_coordinate  year                updated_on   latitude  \\\n",
       "0     1176504.0    1835313.0  2015 2015-08-31 15:38:55+00:00  41.703445   \n",
       "\n",
       "   longitude                       location  \n",
       "0 -87.629292  (41.703445434, -87.629291729)  \n",
       "\n",
       "[1 rows x 22 columns]"
      ]
     },
     "execution_count": 5,
     "metadata": {},
     "output_type": "execute_result"
    }
   ],
   "source": [
    "%%bigquery \n",
    "SELECT * FROM `bigquery-public-data.chicago_crime.crime` LIMIT 1\n",
    "\n",
    "# %%bigquery--project ruiyu-gcp tb \n",
    "# which export query to pd dataframe tb"
   ]
  },
  {
   "cell_type": "markdown",
   "metadata": {},
   "source": [
    "## Import data"
   ]
  },
  {
   "cell_type": "code",
   "execution_count": 7,
   "metadata": {
    "scrolled": true
   },
   "outputs": [
    {
     "name": "stdout",
     "output_type": "stream",
     "text": [
      "[['unique_key' 'INTEGER' 'REQUIRED' 'Unique identifier for the record.']\n",
      " ['case_number' 'STRING' 'NULLABLE'\n",
      "  'The Chicago Police Department RD Number (Records Division Number), which is unique to the incident.']\n",
      " ['date' 'TIMESTAMP' 'NULLABLE'\n",
      "  'Date when the incident occurred. this is sometimes a best estimate.']\n",
      " ['block' 'STRING' 'NULLABLE'\n",
      "  'The partially redacted address where the incident occurred, placing it on the same block as the actual address.']\n",
      " ['iucr' 'STRING' 'NULLABLE'\n",
      "  'The Illinois Unifrom Crime Reporting code. This is directly linked to the Primary Type and Description. See the list of IUCR codes at https://data.cityofchicago.org/d/c7ck-438e.']\n",
      " ['primary_type' 'STRING' 'NULLABLE'\n",
      "  'The primary description of the IUCR code.']\n",
      " ['description' 'STRING' 'NULLABLE'\n",
      "  'The secondary description of the IUCR code, a subcategory of the primary description.']\n",
      " ['location_description' 'STRING' 'NULLABLE'\n",
      "  'Description of the location where the incident occurred.']\n",
      " ['arrest' 'BOOLEAN' 'NULLABLE' 'Indicates whether an arrest was made.']\n",
      " ['domestic' 'BOOLEAN' 'NULLABLE'\n",
      "  'Indicates whether the incident was domestic-related as defined by the Illinois Domestic Violence Act.']\n",
      " ['beat' 'INTEGER' 'NULLABLE'\n",
      "  'Indicates the beat where the incident occurred. A beat is the smallest police geographic area – each beat has a dedicated police beat car. Three to five beats make up a police sector, and three sectors make up a police district. The Chicago Police Department has 22 police districts. See the beats at https://data.cityofchicago.org/d/aerh-rz74.']\n",
      " ['district' 'INTEGER' 'NULLABLE'\n",
      "  'Indicates the police district where the incident occurred. See the districts at https://data.cityofchicago.org/d/fthy-xz3r.']\n",
      " ['ward' 'INTEGER' 'NULLABLE'\n",
      "  'The ward (City Council district) where the incident occurred. See the wards at https://data.cityofchicago.org/d/sp34-6z76.']\n",
      " ['community_area' 'INTEGER' 'NULLABLE'\n",
      "  'Indicates the community area where the incident occurred. Chicago has 77 community areas. See the community areas at https://data.cityofchicago.org/d/cauq-8yn6.']\n",
      " ['fbi_code' 'STRING' 'NULLABLE'\n",
      "  \"Indicates the crime classification as outlined in the FBI's National Incident-Based Reporting System (NIBRS). See the Chicago Police Department listing of these classifications at http://gis.chicagopolice.org/clearmap_crime_sums/crime_types.html.\"]\n",
      " ['x_coordinate' 'FLOAT' 'NULLABLE'\n",
      "  'The x coordinate of the location where the incident occurred in State Plane Illinois East NAD 1983 projection. This location is shifted from the actual location for partial redaction but falls on the same block.']\n",
      " ['y_coordinate' 'FLOAT' 'NULLABLE'\n",
      "  'The y coordinate of the location where the incident occurred in State Plane Illinois East NAD 1983 projection. This location is shifted from the actual location for partial redaction but falls on the same block.']\n",
      " ['year' 'INTEGER' 'NULLABLE' 'Year the incident occurred.']\n",
      " ['updated_on' 'TIMESTAMP' 'NULLABLE'\n",
      "  'Date and time the record was last updated.']\n",
      " ['latitude' 'FLOAT' 'NULLABLE'\n",
      "  'The latitude of the location where the incident occurred. This location is shifted from the actual location for partial redaction but falls on the same block.']\n",
      " ['longitude' 'FLOAT' 'NULLABLE'\n",
      "  'The longitude of the location where the incident occurred. This location is shifted from the actual location for partial redaction but falls on the same block.']\n",
      " ['location' 'STRING' 'NULLABLE'\n",
      "  'The location where the incident occurred in a format that allows for creation of maps and other geographic operations on this data portal. This location is shifted from the actual location for partial redaction but falls on the same block.']]\n"
     ]
    }
   ],
   "source": [
    "from bq_helper import BigQueryHelper\n",
    "\n",
    "# chicago_crime -> cc\n",
    "cc = BigQueryHelper(\"bigquery-public-data\", \"chicago_crime\")\n",
    "cc.list_tables()\n",
    "print(cc.table_schema(\"crime\").values)"
   ]
  },
  {
   "cell_type": "code",
   "execution_count": 8,
   "metadata": {},
   "outputs": [
    {
     "data": {
      "text/html": [
       "<div>\n",
       "<style scoped>\n",
       "    .dataframe tbody tr th:only-of-type {\n",
       "        vertical-align: middle;\n",
       "    }\n",
       "\n",
       "    .dataframe tbody tr th {\n",
       "        vertical-align: top;\n",
       "    }\n",
       "\n",
       "    .dataframe thead th {\n",
       "        text-align: right;\n",
       "    }\n",
       "</style>\n",
       "<table border=\"1\" class=\"dataframe\">\n",
       "  <thead>\n",
       "    <tr style=\"text-align: right;\">\n",
       "      <th></th>\n",
       "      <th>name</th>\n",
       "      <th>type</th>\n",
       "      <th>mode</th>\n",
       "      <th>description</th>\n",
       "    </tr>\n",
       "  </thead>\n",
       "  <tbody>\n",
       "    <tr>\n",
       "      <th>0</th>\n",
       "      <td>unique_key</td>\n",
       "      <td>INTEGER</td>\n",
       "      <td>REQUIRED</td>\n",
       "      <td>Unique identifier for the record.</td>\n",
       "    </tr>\n",
       "    <tr>\n",
       "      <th>1</th>\n",
       "      <td>case_number</td>\n",
       "      <td>STRING</td>\n",
       "      <td>NULLABLE</td>\n",
       "      <td>The Chicago Police Department RD Number (Recor...</td>\n",
       "    </tr>\n",
       "    <tr>\n",
       "      <th>2</th>\n",
       "      <td>date</td>\n",
       "      <td>TIMESTAMP</td>\n",
       "      <td>NULLABLE</td>\n",
       "      <td>Date when the incident occurred. this is somet...</td>\n",
       "    </tr>\n",
       "    <tr>\n",
       "      <th>3</th>\n",
       "      <td>block</td>\n",
       "      <td>STRING</td>\n",
       "      <td>NULLABLE</td>\n",
       "      <td>The partially redacted address where the incid...</td>\n",
       "    </tr>\n",
       "    <tr>\n",
       "      <th>4</th>\n",
       "      <td>iucr</td>\n",
       "      <td>STRING</td>\n",
       "      <td>NULLABLE</td>\n",
       "      <td>The Illinois Unifrom Crime Reporting code. Thi...</td>\n",
       "    </tr>\n",
       "    <tr>\n",
       "      <th>5</th>\n",
       "      <td>primary_type</td>\n",
       "      <td>STRING</td>\n",
       "      <td>NULLABLE</td>\n",
       "      <td>The primary description of the IUCR code.</td>\n",
       "    </tr>\n",
       "    <tr>\n",
       "      <th>6</th>\n",
       "      <td>description</td>\n",
       "      <td>STRING</td>\n",
       "      <td>NULLABLE</td>\n",
       "      <td>The secondary description of the IUCR code, a ...</td>\n",
       "    </tr>\n",
       "    <tr>\n",
       "      <th>7</th>\n",
       "      <td>location_description</td>\n",
       "      <td>STRING</td>\n",
       "      <td>NULLABLE</td>\n",
       "      <td>Description of the location where the incident...</td>\n",
       "    </tr>\n",
       "    <tr>\n",
       "      <th>8</th>\n",
       "      <td>arrest</td>\n",
       "      <td>BOOLEAN</td>\n",
       "      <td>NULLABLE</td>\n",
       "      <td>Indicates whether an arrest was made.</td>\n",
       "    </tr>\n",
       "    <tr>\n",
       "      <th>9</th>\n",
       "      <td>domestic</td>\n",
       "      <td>BOOLEAN</td>\n",
       "      <td>NULLABLE</td>\n",
       "      <td>Indicates whether the incident was domestic-re...</td>\n",
       "    </tr>\n",
       "    <tr>\n",
       "      <th>10</th>\n",
       "      <td>beat</td>\n",
       "      <td>INTEGER</td>\n",
       "      <td>NULLABLE</td>\n",
       "      <td>Indicates the beat where the incident occurred...</td>\n",
       "    </tr>\n",
       "    <tr>\n",
       "      <th>11</th>\n",
       "      <td>district</td>\n",
       "      <td>INTEGER</td>\n",
       "      <td>NULLABLE</td>\n",
       "      <td>Indicates the police district where the incide...</td>\n",
       "    </tr>\n",
       "    <tr>\n",
       "      <th>12</th>\n",
       "      <td>ward</td>\n",
       "      <td>INTEGER</td>\n",
       "      <td>NULLABLE</td>\n",
       "      <td>The ward (City Council district) where the inc...</td>\n",
       "    </tr>\n",
       "    <tr>\n",
       "      <th>13</th>\n",
       "      <td>community_area</td>\n",
       "      <td>INTEGER</td>\n",
       "      <td>NULLABLE</td>\n",
       "      <td>Indicates the community area where the inciden...</td>\n",
       "    </tr>\n",
       "    <tr>\n",
       "      <th>14</th>\n",
       "      <td>fbi_code</td>\n",
       "      <td>STRING</td>\n",
       "      <td>NULLABLE</td>\n",
       "      <td>Indicates the crime classification as outlined...</td>\n",
       "    </tr>\n",
       "    <tr>\n",
       "      <th>15</th>\n",
       "      <td>x_coordinate</td>\n",
       "      <td>FLOAT</td>\n",
       "      <td>NULLABLE</td>\n",
       "      <td>The x coordinate of the location where the inc...</td>\n",
       "    </tr>\n",
       "    <tr>\n",
       "      <th>16</th>\n",
       "      <td>y_coordinate</td>\n",
       "      <td>FLOAT</td>\n",
       "      <td>NULLABLE</td>\n",
       "      <td>The y coordinate of the location where the inc...</td>\n",
       "    </tr>\n",
       "    <tr>\n",
       "      <th>17</th>\n",
       "      <td>year</td>\n",
       "      <td>INTEGER</td>\n",
       "      <td>NULLABLE</td>\n",
       "      <td>Year the incident occurred.</td>\n",
       "    </tr>\n",
       "    <tr>\n",
       "      <th>18</th>\n",
       "      <td>updated_on</td>\n",
       "      <td>TIMESTAMP</td>\n",
       "      <td>NULLABLE</td>\n",
       "      <td>Date and time the record was last updated.</td>\n",
       "    </tr>\n",
       "    <tr>\n",
       "      <th>19</th>\n",
       "      <td>latitude</td>\n",
       "      <td>FLOAT</td>\n",
       "      <td>NULLABLE</td>\n",
       "      <td>The latitude of the location where the inciden...</td>\n",
       "    </tr>\n",
       "    <tr>\n",
       "      <th>20</th>\n",
       "      <td>longitude</td>\n",
       "      <td>FLOAT</td>\n",
       "      <td>NULLABLE</td>\n",
       "      <td>The longitude of the location where the incide...</td>\n",
       "    </tr>\n",
       "    <tr>\n",
       "      <th>21</th>\n",
       "      <td>location</td>\n",
       "      <td>STRING</td>\n",
       "      <td>NULLABLE</td>\n",
       "      <td>The location where the incident occurred in a ...</td>\n",
       "    </tr>\n",
       "  </tbody>\n",
       "</table>\n",
       "</div>"
      ],
      "text/plain": [
       "                    name       type      mode  \\\n",
       "0             unique_key    INTEGER  REQUIRED   \n",
       "1            case_number     STRING  NULLABLE   \n",
       "2                   date  TIMESTAMP  NULLABLE   \n",
       "3                  block     STRING  NULLABLE   \n",
       "4                   iucr     STRING  NULLABLE   \n",
       "5           primary_type     STRING  NULLABLE   \n",
       "6            description     STRING  NULLABLE   \n",
       "7   location_description     STRING  NULLABLE   \n",
       "8                 arrest    BOOLEAN  NULLABLE   \n",
       "9               domestic    BOOLEAN  NULLABLE   \n",
       "10                  beat    INTEGER  NULLABLE   \n",
       "11              district    INTEGER  NULLABLE   \n",
       "12                  ward    INTEGER  NULLABLE   \n",
       "13        community_area    INTEGER  NULLABLE   \n",
       "14              fbi_code     STRING  NULLABLE   \n",
       "15          x_coordinate      FLOAT  NULLABLE   \n",
       "16          y_coordinate      FLOAT  NULLABLE   \n",
       "17                  year    INTEGER  NULLABLE   \n",
       "18            updated_on  TIMESTAMP  NULLABLE   \n",
       "19              latitude      FLOAT  NULLABLE   \n",
       "20             longitude      FLOAT  NULLABLE   \n",
       "21              location     STRING  NULLABLE   \n",
       "\n",
       "                                          description  \n",
       "0                   Unique identifier for the record.  \n",
       "1   The Chicago Police Department RD Number (Recor...  \n",
       "2   Date when the incident occurred. this is somet...  \n",
       "3   The partially redacted address where the incid...  \n",
       "4   The Illinois Unifrom Crime Reporting code. Thi...  \n",
       "5           The primary description of the IUCR code.  \n",
       "6   The secondary description of the IUCR code, a ...  \n",
       "7   Description of the location where the incident...  \n",
       "8               Indicates whether an arrest was made.  \n",
       "9   Indicates whether the incident was domestic-re...  \n",
       "10  Indicates the beat where the incident occurred...  \n",
       "11  Indicates the police district where the incide...  \n",
       "12  The ward (City Council district) where the inc...  \n",
       "13  Indicates the community area where the inciden...  \n",
       "14  Indicates the crime classification as outlined...  \n",
       "15  The x coordinate of the location where the inc...  \n",
       "16  The y coordinate of the location where the inc...  \n",
       "17                        Year the incident occurred.  \n",
       "18         Date and time the record was last updated.  \n",
       "19  The latitude of the location where the inciden...  \n",
       "20  The longitude of the location where the incide...  \n",
       "21  The location where the incident occurred in a ...  "
      ]
     },
     "execution_count": 8,
     "metadata": {},
     "output_type": "execute_result"
    }
   ],
   "source": [
    "cc.table_schema(\"crime\")"
   ]
  },
  {
   "cell_type": "markdown",
   "metadata": {},
   "source": [
    "**Crime Type Categories: Definition & Description & Illinois Uniform Crime Reporting (IUCR) Codes** \n",
    "\n",
    "http://gis.chicagopolice.org/clearmap_crime_sums/crime_types.html\n",
    "\n",
    "https://data.cityofchicago.org/Public-Safety/Chicago-Police-Department-Illinois-Uniform-Crime-R/c7ck-438e\n",
    "\n",
    "Based on crime type categories and IUCR code (four digit codes that law enforcement agencies use to classify criminal incidents when taking individual reports), filter the data and select the Violent Crimes include: \n",
    "\n",
    "* Homicide 1st & 2nd Degree (01A) (Index)\n",
    "* Criminal Sexual Assault (02) (Index)\n",
    "* Robbery (03) (Index)\n",
    "* Aggravated Assault (04A) (Index)\n",
    "* Aggravated Battery (04B) (Index)\n"
   ]
  },
  {
   "cell_type": "code",
   "execution_count": 9,
   "metadata": {},
   "outputs": [
    {
     "data": {
      "text/html": [
       "<div>\n",
       "<style scoped>\n",
       "    .dataframe tbody tr th:only-of-type {\n",
       "        vertical-align: middle;\n",
       "    }\n",
       "\n",
       "    .dataframe tbody tr th {\n",
       "        vertical-align: top;\n",
       "    }\n",
       "\n",
       "    .dataframe thead th {\n",
       "        text-align: right;\n",
       "    }\n",
       "</style>\n",
       "<table border=\"1\" class=\"dataframe\">\n",
       "  <thead>\n",
       "    <tr style=\"text-align: right;\">\n",
       "      <th></th>\n",
       "      <th>IUCR</th>\n",
       "      <th>PRIMARY_DESCRIPTION</th>\n",
       "      <th>SECONDARY_DESCRIPTION</th>\n",
       "      <th>INDEX_CODE</th>\n",
       "    </tr>\n",
       "  </thead>\n",
       "  <tbody>\n",
       "    <tr>\n",
       "      <th>0</th>\n",
       "      <td>110</td>\n",
       "      <td>HOMICIDE</td>\n",
       "      <td>FIRST DEGREE MURDER</td>\n",
       "      <td>I</td>\n",
       "    </tr>\n",
       "    <tr>\n",
       "      <th>1</th>\n",
       "      <td>130</td>\n",
       "      <td>HOMICIDE</td>\n",
       "      <td>SECOND DEGREE MURDER</td>\n",
       "      <td>I</td>\n",
       "    </tr>\n",
       "    <tr>\n",
       "      <th>2</th>\n",
       "      <td>141</td>\n",
       "      <td>HOMICIDE</td>\n",
       "      <td>INVOLUNTARY MANSLAUGHTER</td>\n",
       "      <td>N</td>\n",
       "    </tr>\n",
       "    <tr>\n",
       "      <th>3</th>\n",
       "      <td>142</td>\n",
       "      <td>HOMICIDE</td>\n",
       "      <td>RECKLESS HOMICIDE</td>\n",
       "      <td>N</td>\n",
       "    </tr>\n",
       "    <tr>\n",
       "      <th>4</th>\n",
       "      <td>261</td>\n",
       "      <td>CRIM SEXUAL ASSAULT</td>\n",
       "      <td>AGGRAVATED: HANDGUN</td>\n",
       "      <td>I</td>\n",
       "    </tr>\n",
       "  </tbody>\n",
       "</table>\n",
       "</div>"
      ],
      "text/plain": [
       "  IUCR  PRIMARY_DESCRIPTION     SECONDARY_DESCRIPTION INDEX_CODE\n",
       "0  110             HOMICIDE       FIRST DEGREE MURDER          I\n",
       "1  130             HOMICIDE      SECOND DEGREE MURDER          I\n",
       "2  141             HOMICIDE  INVOLUNTARY MANSLAUGHTER          N\n",
       "3  142             HOMICIDE         RECKLESS HOMICIDE          N\n",
       "4  261  CRIM SEXUAL ASSAULT       AGGRAVATED: HANDGUN          I"
      ]
     },
     "execution_count": 9,
     "metadata": {},
     "output_type": "execute_result"
    }
   ],
   "source": [
    "# IUCR\n",
    "# https://data.cityofchicago.org/Public-Safety/Chicago-Police-Department-Illinois-Uniform-Crime-R/c7ck-438e\n",
    "iucr = pd.read_csv(\"../data/Chicago_Police_Department_-_Illinois_Uniform_Crime_Reporting__IUCR__Codes.csv\")\n",
    "iucr.head()"
   ]
  },
  {
   "cell_type": "code",
   "execution_count": 10,
   "metadata": {
    "scrolled": false
   },
   "outputs": [
    {
     "data": {
      "text/plain": [
       "<matplotlib.axes._subplots.AxesSubplot at 0x1f304a28fd0>"
      ]
     },
     "execution_count": 10,
     "metadata": {},
     "output_type": "execute_result"
    },
    {
     "data": {
      "image/png": "[encoded data removed]",
      "text/plain": [
       "<Figure size 432x288 with 1 Axes>"
      ]
     },
     "metadata": {
      "needs_background": "light"
     },
     "output_type": "display_data"
    }
   ],
   "source": [
    "sns.countplot('INDEX_CODE', data=iucr)"
   ]
  },
  {
   "cell_type": "code",
   "execution_count": 11,
   "metadata": {},
   "outputs": [
    {
     "name": "stdout",
     "output_type": "stream",
     "text": [
      "{'HOMICIDE', 'THEFT', 'ARSON', 'MOTOR VEHICLE THEFT', 'ROBBERY', 'CRIM SEXUAL ASSAULT', 'RITUALISM', 'BURGLARY', 'BATTERY', 'OFFENSE INVOLVING CHILDREN', 'ASSAULT'}\n"
     ]
    }
   ],
   "source": [
    "index_crime = iucr[iucr.INDEX_CODE == 'I']\n",
    "obj_col = ['PRIMARY_DESCRIPTION']\n",
    "for _ in obj_col:\n",
    "    print(set(index_crime[_]))"
   ]
  },
  {
   "cell_type": "code",
   "execution_count": 12,
   "metadata": {},
   "outputs": [],
   "source": [
    "#select only violent_crime\n",
    "lst = ['HOMICIDE','CRIM SEXUAL ASSAULT','ROBBERY','ASSAULT','BATTERY']\n",
    "violent_crime = index_crime[index_crime['PRIMARY_DESCRIPTION'].isin(lst)]"
   ]
  },
  {
   "cell_type": "code",
   "execution_count": 13,
   "metadata": {},
   "outputs": [
    {
     "name": "stdout",
     "output_type": "stream",
     "text": [
      "['0110', '0130', '0261', '0262', '0263', '0264', '0265', '0266', '0271', '0272', '0273', '0274', '0275', '0281', '0291', '0312', '0313', '031A', '031B', '0320', '0325', '0326', '0330', '0331', '0334', '0337', '033A', '033B', '0340', '041A', '041B', '0420', '0430', '0450', '0451', '0452', '0453', '0461', '0462', '0479', '0480', '0481', '0482', '0483', '0485', '0487', '0488', '0489', '0495', '0496', '0497', '0498', '051A', '051B', '0520', '0530', '0550', '0551', '0552', '0553', '0555', '0556', '0557', '0558']\n"
     ]
    }
   ],
   "source": [
    "#BigQuery: 4 digit ICUR\n",
    "#CPD: lots of 3 digit ICUR (no 0 in front)\n",
    "#fill the 0\n",
    "select_iucr = []\n",
    "for _ in violent_crime.IUCR.values:\n",
    "    _=_.zfill(4)\n",
    "    select_iucr.append(_)\n",
    "print(select_iucr)"
   ]
  },
  {
   "cell_type": "code",
   "execution_count": 14,
   "metadata": {},
   "outputs": [],
   "source": [
    "# select the data of violent crime using BigQuery\n",
    "query = '''\n",
    "SELECT \n",
    "  case_number, date,year, block, iucr, \n",
    "  primary_type, description, location_description, \n",
    "  arrest, domestic, district, community_area, \n",
    "  latitude, longitude\n",
    "FROM \n",
    "  `bigquery-public-data.chicago_crime.crime`\n",
    "WHERE iucr in ('0110', '0130', '0261', '0262', '0263', '0264', \n",
    "               '0265', '0266', '0271', '0272', '0273', '0274', \n",
    "               '0275', '0281', '0291', '0312', '0313', '031A', \n",
    "               '031B', '0320', '0325', '0326', '0330', '0331', \n",
    "               '0334', '0337', '033A', '033B', '0340', '041A', \n",
    "               '041B', '0420', '0430', '0450', '0451', '0452', \n",
    "               '0453', '0461', '0462', '0479', '0480', '0481', \n",
    "               '0482', '0483', '0485', '0487', '0488', '0489', \n",
    "               '0495', '0496', '0497', '0498', '051A', '051B', \n",
    "               '0520', '0530', '0550', '0551', '0552', '0553', \n",
    "               '0555', '0556', '0557', '0558') and year >= 2011\n",
    "ORDER BY \n",
    "  year ASC\n",
    "'''\n",
    "\n",
    "df = client.query(query).to_dataframe()\n",
    "df.to_csv(r'../data/chicago_violent_crime.csv')"
   ]
  },
  {
   "cell_type": "markdown",
   "metadata": {},
   "source": [
    "################################################################"
   ]
  },
  {
   "cell_type": "markdown",
   "metadata": {},
   "source": [
    "## clean the data"
   ]
  },
  {
   "cell_type": "code",
   "execution_count": 18,
   "metadata": {},
   "outputs": [
    {
     "name": "stdout",
     "output_type": "stream",
     "text": [
      "<class 'pandas.core.frame.DataFrame'>\n",
      "RangeIndex: 207413 entries, 0 to 207412\n",
      "Data columns (total 14 columns):\n",
      "case_number             207413 non-null object\n",
      "date                    207413 non-null datetime64[ns, UTC]\n",
      "year                    207413 non-null int64\n",
      "block                   207413 non-null object\n",
      "iucr                    207413 non-null object\n",
      "primary_type            207413 non-null object\n",
      "description             207413 non-null object\n",
      "location_description    207409 non-null object\n",
      "arrest                  207413 non-null bool\n",
      "domestic                207413 non-null bool\n",
      "district                207413 non-null int64\n",
      "community_area          207406 non-null float64\n",
      "latitude                206869 non-null float64\n",
      "longitude               206869 non-null float64\n",
      "dtypes: bool(2), datetime64[ns, UTC](1), float64(3), int64(2), object(6)\n",
      "memory usage: 19.4+ MB\n"
     ]
    }
   ],
   "source": [
    "#df = pd.read_csv('../data/chicago_violent_crime.csv',index_col=0)\n",
    "df.info()"
   ]
  },
  {
   "cell_type": "code",
   "execution_count": 16,
   "metadata": {
    "scrolled": true
   },
   "outputs": [
    {
     "data": {
      "text/plain": [
       "HZ140230    6\n",
       "HZ554936    4\n",
       "JA206252    4\n",
       "HZ403466    4\n",
       "JA432970    4\n",
       "Name: case_number, dtype: int64"
      ]
     },
     "execution_count": 16,
     "metadata": {},
     "output_type": "execute_result"
    }
   ],
   "source": [
    "#check duplicates\n",
    "pd.value_counts(df.case_number)[:5]"
   ]
  },
  {
   "cell_type": "code",
   "execution_count": 17,
   "metadata": {},
   "outputs": [
    {
     "data": {
      "text/html": [
       "<div>\n",
       "<style scoped>\n",
       "    .dataframe tbody tr th:only-of-type {\n",
       "        vertical-align: middle;\n",
       "    }\n",
       "\n",
       "    .dataframe tbody tr th {\n",
       "        vertical-align: top;\n",
       "    }\n",
       "\n",
       "    .dataframe thead th {\n",
       "        text-align: right;\n",
       "    }\n",
       "</style>\n",
       "<table border=\"1\" class=\"dataframe\">\n",
       "  <thead>\n",
       "    <tr style=\"text-align: right;\">\n",
       "      <th></th>\n",
       "      <th>case_number</th>\n",
       "      <th>date</th>\n",
       "      <th>year</th>\n",
       "      <th>block</th>\n",
       "      <th>iucr</th>\n",
       "      <th>primary_type</th>\n",
       "      <th>description</th>\n",
       "      <th>location_description</th>\n",
       "      <th>arrest</th>\n",
       "      <th>domestic</th>\n",
       "      <th>district</th>\n",
       "      <th>community_area</th>\n",
       "      <th>latitude</th>\n",
       "      <th>longitude</th>\n",
       "    </tr>\n",
       "  </thead>\n",
       "  <tbody>\n",
       "    <tr>\n",
       "      <th>128236</th>\n",
       "      <td>HZ140230</td>\n",
       "      <td>2016-02-04 13:00:00+00:00</td>\n",
       "      <td>2016</td>\n",
       "      <td>057XX S CALIFORNIA AVE</td>\n",
       "      <td>0110</td>\n",
       "      <td>HOMICIDE</td>\n",
       "      <td>FIRST DEGREE MURDER</td>\n",
       "      <td>HOUSE</td>\n",
       "      <td>True</td>\n",
       "      <td>False</td>\n",
       "      <td>8</td>\n",
       "      <td>63.0</td>\n",
       "      <td>41.789518</td>\n",
       "      <td>-87.69368</td>\n",
       "    </tr>\n",
       "    <tr>\n",
       "      <th>136695</th>\n",
       "      <td>HZ140230</td>\n",
       "      <td>2016-02-04 13:00:00+00:00</td>\n",
       "      <td>2016</td>\n",
       "      <td>057XX S CALIFORNIA AVE</td>\n",
       "      <td>0110</td>\n",
       "      <td>HOMICIDE</td>\n",
       "      <td>FIRST DEGREE MURDER</td>\n",
       "      <td>HOUSE</td>\n",
       "      <td>True</td>\n",
       "      <td>False</td>\n",
       "      <td>8</td>\n",
       "      <td>63.0</td>\n",
       "      <td>41.789518</td>\n",
       "      <td>-87.69368</td>\n",
       "    </tr>\n",
       "    <tr>\n",
       "      <th>143957</th>\n",
       "      <td>HZ140230</td>\n",
       "      <td>2016-02-04 13:00:00+00:00</td>\n",
       "      <td>2016</td>\n",
       "      <td>057XX S CALIFORNIA AVE</td>\n",
       "      <td>0110</td>\n",
       "      <td>HOMICIDE</td>\n",
       "      <td>FIRST DEGREE MURDER</td>\n",
       "      <td>HOUSE</td>\n",
       "      <td>True</td>\n",
       "      <td>False</td>\n",
       "      <td>8</td>\n",
       "      <td>63.0</td>\n",
       "      <td>41.789518</td>\n",
       "      <td>-87.69368</td>\n",
       "    </tr>\n",
       "    <tr>\n",
       "      <th>147139</th>\n",
       "      <td>HZ140230</td>\n",
       "      <td>2016-02-04 13:00:00+00:00</td>\n",
       "      <td>2016</td>\n",
       "      <td>057XX S CALIFORNIA AVE</td>\n",
       "      <td>0110</td>\n",
       "      <td>HOMICIDE</td>\n",
       "      <td>FIRST DEGREE MURDER</td>\n",
       "      <td>HOUSE</td>\n",
       "      <td>True</td>\n",
       "      <td>False</td>\n",
       "      <td>8</td>\n",
       "      <td>63.0</td>\n",
       "      <td>41.789518</td>\n",
       "      <td>-87.69368</td>\n",
       "    </tr>\n",
       "    <tr>\n",
       "      <th>149854</th>\n",
       "      <td>HZ140230</td>\n",
       "      <td>2016-02-04 13:00:00+00:00</td>\n",
       "      <td>2016</td>\n",
       "      <td>057XX S CALIFORNIA AVE</td>\n",
       "      <td>0110</td>\n",
       "      <td>HOMICIDE</td>\n",
       "      <td>FIRST DEGREE MURDER</td>\n",
       "      <td>HOUSE</td>\n",
       "      <td>True</td>\n",
       "      <td>False</td>\n",
       "      <td>8</td>\n",
       "      <td>63.0</td>\n",
       "      <td>41.789518</td>\n",
       "      <td>-87.69368</td>\n",
       "    </tr>\n",
       "    <tr>\n",
       "      <th>149855</th>\n",
       "      <td>HZ140230</td>\n",
       "      <td>2016-02-04 13:00:00+00:00</td>\n",
       "      <td>2016</td>\n",
       "      <td>057XX S CALIFORNIA AVE</td>\n",
       "      <td>0110</td>\n",
       "      <td>HOMICIDE</td>\n",
       "      <td>FIRST DEGREE MURDER</td>\n",
       "      <td>HOUSE</td>\n",
       "      <td>True</td>\n",
       "      <td>False</td>\n",
       "      <td>8</td>\n",
       "      <td>63.0</td>\n",
       "      <td>41.789518</td>\n",
       "      <td>-87.69368</td>\n",
       "    </tr>\n",
       "  </tbody>\n",
       "</table>\n",
       "</div>"
      ],
      "text/plain": [
       "       case_number                      date  year                   block  \\\n",
       "128236    HZ140230 2016-02-04 13:00:00+00:00  2016  057XX S CALIFORNIA AVE   \n",
       "136695    HZ140230 2016-02-04 13:00:00+00:00  2016  057XX S CALIFORNIA AVE   \n",
       "143957    HZ140230 2016-02-04 13:00:00+00:00  2016  057XX S CALIFORNIA AVE   \n",
       "147139    HZ140230 2016-02-04 13:00:00+00:00  2016  057XX S CALIFORNIA AVE   \n",
       "149854    HZ140230 2016-02-04 13:00:00+00:00  2016  057XX S CALIFORNIA AVE   \n",
       "149855    HZ140230 2016-02-04 13:00:00+00:00  2016  057XX S CALIFORNIA AVE   \n",
       "\n",
       "        iucr primary_type          description location_description  arrest  \\\n",
       "128236  0110     HOMICIDE  FIRST DEGREE MURDER                HOUSE    True   \n",
       "136695  0110     HOMICIDE  FIRST DEGREE MURDER                HOUSE    True   \n",
       "143957  0110     HOMICIDE  FIRST DEGREE MURDER                HOUSE    True   \n",
       "147139  0110     HOMICIDE  FIRST DEGREE MURDER                HOUSE    True   \n",
       "149854  0110     HOMICIDE  FIRST DEGREE MURDER                HOUSE    True   \n",
       "149855  0110     HOMICIDE  FIRST DEGREE MURDER                HOUSE    True   \n",
       "\n",
       "        domestic  district  community_area   latitude  longitude  \n",
       "128236     False         8            63.0  41.789518  -87.69368  \n",
       "136695     False         8            63.0  41.789518  -87.69368  \n",
       "143957     False         8            63.0  41.789518  -87.69368  \n",
       "147139     False         8            63.0  41.789518  -87.69368  \n",
       "149854     False         8            63.0  41.789518  -87.69368  \n",
       "149855     False         8            63.0  41.789518  -87.69368  "
      ]
     },
     "execution_count": 17,
     "metadata": {},
     "output_type": "execute_result"
    }
   ],
   "source": [
    "df[df.case_number == 'HZ140230']"
   ]
  },
  {
   "cell_type": "markdown",
   "metadata": {},
   "source": [
    "same case_number may occured several time. We can drop it directly."
   ]
  },
  {
   "cell_type": "code",
   "execution_count": 19,
   "metadata": {},
   "outputs": [],
   "source": [
    "df.drop_duplicates(subset=['case_number'], inplace=True)"
   ]
  },
  {
   "cell_type": "code",
   "execution_count": 21,
   "metadata": {},
   "outputs": [
    {
     "data": {
      "text/html": [
       "<div>\n",
       "<style scoped>\n",
       "    .dataframe tbody tr th:only-of-type {\n",
       "        vertical-align: middle;\n",
       "    }\n",
       "\n",
       "    .dataframe tbody tr th {\n",
       "        vertical-align: top;\n",
       "    }\n",
       "\n",
       "    .dataframe thead th {\n",
       "        text-align: right;\n",
       "    }\n",
       "</style>\n",
       "<table border=\"1\" class=\"dataframe\">\n",
       "  <thead>\n",
       "    <tr style=\"text-align: right;\">\n",
       "      <th></th>\n",
       "      <th>case_number</th>\n",
       "      <th>date</th>\n",
       "      <th>year</th>\n",
       "      <th>block</th>\n",
       "      <th>iucr</th>\n",
       "      <th>primary_type</th>\n",
       "      <th>description</th>\n",
       "      <th>location_description</th>\n",
       "      <th>arrest</th>\n",
       "      <th>domestic</th>\n",
       "      <th>district</th>\n",
       "      <th>community_area</th>\n",
       "      <th>latitude</th>\n",
       "      <th>longitude</th>\n",
       "    </tr>\n",
       "  </thead>\n",
       "  <tbody>\n",
       "    <tr>\n",
       "      <th>128236</th>\n",
       "      <td>HZ140230</td>\n",
       "      <td>2016-02-04 13:00:00+00:00</td>\n",
       "      <td>2016</td>\n",
       "      <td>057XX S CALIFORNIA AVE</td>\n",
       "      <td>0110</td>\n",
       "      <td>HOMICIDE</td>\n",
       "      <td>FIRST DEGREE MURDER</td>\n",
       "      <td>HOUSE</td>\n",
       "      <td>True</td>\n",
       "      <td>False</td>\n",
       "      <td>8</td>\n",
       "      <td>63.0</td>\n",
       "      <td>41.789518</td>\n",
       "      <td>-87.69368</td>\n",
       "    </tr>\n",
       "  </tbody>\n",
       "</table>\n",
       "</div>"
      ],
      "text/plain": [
       "       case_number                      date  year                   block  \\\n",
       "128236    HZ140230 2016-02-04 13:00:00+00:00  2016  057XX S CALIFORNIA AVE   \n",
       "\n",
       "        iucr primary_type          description location_description  arrest  \\\n",
       "128236  0110     HOMICIDE  FIRST DEGREE MURDER                HOUSE    True   \n",
       "\n",
       "        domestic  district  community_area   latitude  longitude  \n",
       "128236     False         8            63.0  41.789518  -87.69368  "
      ]
     },
     "execution_count": 21,
     "metadata": {},
     "output_type": "execute_result"
    }
   ],
   "source": [
    "df[df.case_number == 'HZ140230']"
   ]
  },
  {
   "cell_type": "markdown",
   "metadata": {},
   "source": [
    "**Missing values analysis**"
   ]
  },
  {
   "cell_type": "code",
   "execution_count": 25,
   "metadata": {},
   "outputs": [
    {
     "name": "stdout",
     "output_type": "stream",
     "text": [
      "Your selected dataframe has 14 columns.\n",
      "There are 4 columns that have missing values.\n"
     ]
    },
    {
     "data": {
      "text/html": [
       "<div>\n",
       "<style scoped>\n",
       "    .dataframe tbody tr th:only-of-type {\n",
       "        vertical-align: middle;\n",
       "    }\n",
       "\n",
       "    .dataframe tbody tr th {\n",
       "        vertical-align: top;\n",
       "    }\n",
       "\n",
       "    .dataframe thead th {\n",
       "        text-align: right;\n",
       "    }\n",
       "</style>\n",
       "<table border=\"1\" class=\"dataframe\">\n",
       "  <thead>\n",
       "    <tr style=\"text-align: right;\">\n",
       "      <th></th>\n",
       "      <th>Missing Values</th>\n",
       "      <th>% of Total Values</th>\n",
       "    </tr>\n",
       "  </thead>\n",
       "  <tbody>\n",
       "    <tr>\n",
       "      <th>latitude</th>\n",
       "      <td>544</td>\n",
       "      <td>0.3</td>\n",
       "    </tr>\n",
       "    <tr>\n",
       "      <th>longitude</th>\n",
       "      <td>544</td>\n",
       "      <td>0.3</td>\n",
       "    </tr>\n",
       "    <tr>\n",
       "      <th>community_area</th>\n",
       "      <td>7</td>\n",
       "      <td>0.0</td>\n",
       "    </tr>\n",
       "    <tr>\n",
       "      <th>location_description</th>\n",
       "      <td>4</td>\n",
       "      <td>0.0</td>\n",
       "    </tr>\n",
       "  </tbody>\n",
       "</table>\n",
       "</div>"
      ],
      "text/plain": [
       "                      Missing Values  % of Total Values\n",
       "latitude                         544                0.3\n",
       "longitude                        544                0.3\n",
       "community_area                     7                0.0\n",
       "location_description               4                0.0"
      ]
     },
     "execution_count": 25,
     "metadata": {},
     "output_type": "execute_result"
    }
   ],
   "source": [
    "def missing_values_table(df):\n",
    "        # Total missing values\n",
    "        mis_val = df.isnull().sum()\n",
    "        \n",
    "        # Percentage of missing values\n",
    "        mis_val_percent = 100 * df.isnull().sum() / len(df)\n",
    "        \n",
    "        # Make a table with the results\n",
    "        mis_val_table = pd.concat([mis_val, mis_val_percent], axis=1)\n",
    "        \n",
    "        # Rename the columns\n",
    "        mis_val_table_ren_columns = mis_val_table.rename(\n",
    "        columns = {0 : 'Missing Values', 1 : '% of Total Values'})\n",
    "        \n",
    "        # Sort the table by percentage of missing descending\n",
    "        mis_val_table_ren_columns = mis_val_table_ren_columns[\n",
    "            mis_val_table_ren_columns.iloc[:,1] != 0].sort_values(\n",
    "        '% of Total Values', ascending=False).round(1)\n",
    "        \n",
    "        # Print some summary information\n",
    "        print (\"Your selected dataframe has \" + str(df.shape[1]) + \" columns.\\n\"      \n",
    "            \"There are \" + str(mis_val_table_ren_columns.shape[0]) +\n",
    "              \" columns that have missing values.\")\n",
    "        \n",
    "        # Return the dataframe with missing information\n",
    "        return mis_val_table_ren_columns\n",
    "missing_values_table(df)"
   ]
  },
  {
   "cell_type": "code",
   "execution_count": 30,
   "metadata": {},
   "outputs": [
    {
     "data": {
      "text/plain": [
       "CRIM SEXUAL ASSAULT    431\n",
       "ROBBERY                 56\n",
       "BATTERY                 35\n",
       "ASSAULT                 31\n",
       "HOMICIDE                 2\n",
       "Name: primary_type, dtype: int64"
      ]
     },
     "execution_count": 30,
     "metadata": {},
     "output_type": "execute_result"
    }
   ],
   "source": [
    "null_data = df[df.isnull().any(axis=1)]\n",
    "null_data['primary_type'].value_counts()"
   ]
  },
  {
   "cell_type": "code",
   "execution_count": 34,
   "metadata": {},
   "outputs": [
    {
     "data": {
      "text/html": [
       "<div>\n",
       "<style scoped>\n",
       "    .dataframe tbody tr th:only-of-type {\n",
       "        vertical-align: middle;\n",
       "    }\n",
       "\n",
       "    .dataframe tbody tr th {\n",
       "        vertical-align: top;\n",
       "    }\n",
       "\n",
       "    .dataframe thead th {\n",
       "        text-align: right;\n",
       "    }\n",
       "</style>\n",
       "<table border=\"1\" class=\"dataframe\">\n",
       "  <thead>\n",
       "    <tr style=\"text-align: right;\">\n",
       "      <th></th>\n",
       "      <th>case_number</th>\n",
       "      <th>date</th>\n",
       "      <th>year</th>\n",
       "      <th>block</th>\n",
       "      <th>iucr</th>\n",
       "      <th>primary_type</th>\n",
       "      <th>description</th>\n",
       "      <th>location_description</th>\n",
       "      <th>arrest</th>\n",
       "      <th>domestic</th>\n",
       "      <th>district</th>\n",
       "      <th>community_area</th>\n",
       "      <th>latitude</th>\n",
       "      <th>longitude</th>\n",
       "    </tr>\n",
       "  </thead>\n",
       "  <tbody>\n",
       "    <tr>\n",
       "      <th>142</th>\n",
       "      <td>HT337939</td>\n",
       "      <td>2011-06-09 00:05:00+00:00</td>\n",
       "      <td>2011</td>\n",
       "      <td>093XX S DREXEL ST</td>\n",
       "      <td>0320</td>\n",
       "      <td>ROBBERY</td>\n",
       "      <td>STRONGARM - NO WEAPON</td>\n",
       "      <td>ALLEY</td>\n",
       "      <td>False</td>\n",
       "      <td>False</td>\n",
       "      <td>4</td>\n",
       "      <td>NaN</td>\n",
       "      <td>41.725456</td>\n",
       "      <td>-87.600929</td>\n",
       "    </tr>\n",
       "    <tr>\n",
       "      <th>554</th>\n",
       "      <td>HZ338126</td>\n",
       "      <td>2011-01-30 00:01:00+00:00</td>\n",
       "      <td>2011</td>\n",
       "      <td>016XX N FRANCISCO AVE</td>\n",
       "      <td>0266</td>\n",
       "      <td>CRIM SEXUAL ASSAULT</td>\n",
       "      <td>PREDATORY</td>\n",
       "      <td>RESIDENCE</td>\n",
       "      <td>False</td>\n",
       "      <td>False</td>\n",
       "      <td>14</td>\n",
       "      <td>24.0</td>\n",
       "      <td>NaN</td>\n",
       "      <td>NaN</td>\n",
       "    </tr>\n",
       "    <tr>\n",
       "      <th>585</th>\n",
       "      <td>HZ225746</td>\n",
       "      <td>2011-03-11 19:00:00+00:00</td>\n",
       "      <td>2011</td>\n",
       "      <td>029XX N OAK PARK AVE</td>\n",
       "      <td>0265</td>\n",
       "      <td>CRIM SEXUAL ASSAULT</td>\n",
       "      <td>AGGRAVATED: OTHER</td>\n",
       "      <td>APARTMENT</td>\n",
       "      <td>False</td>\n",
       "      <td>False</td>\n",
       "      <td>25</td>\n",
       "      <td>18.0</td>\n",
       "      <td>NaN</td>\n",
       "      <td>NaN</td>\n",
       "    </tr>\n",
       "    <tr>\n",
       "      <th>1697</th>\n",
       "      <td>HZ570598</td>\n",
       "      <td>2011-09-01 00:01:00+00:00</td>\n",
       "      <td>2011</td>\n",
       "      <td>056XX S MICHIGAN AVE</td>\n",
       "      <td>0266</td>\n",
       "      <td>CRIM SEXUAL ASSAULT</td>\n",
       "      <td>PREDATORY</td>\n",
       "      <td>RESIDENCE</td>\n",
       "      <td>False</td>\n",
       "      <td>False</td>\n",
       "      <td>2</td>\n",
       "      <td>40.0</td>\n",
       "      <td>NaN</td>\n",
       "      <td>NaN</td>\n",
       "    </tr>\n",
       "    <tr>\n",
       "      <th>2594</th>\n",
       "      <td>HZ395005</td>\n",
       "      <td>2011-06-01 00:01:00+00:00</td>\n",
       "      <td>2011</td>\n",
       "      <td>014XX W MARQUETTE RD</td>\n",
       "      <td>0266</td>\n",
       "      <td>CRIM SEXUAL ASSAULT</td>\n",
       "      <td>PREDATORY</td>\n",
       "      <td>APARTMENT</td>\n",
       "      <td>True</td>\n",
       "      <td>True</td>\n",
       "      <td>7</td>\n",
       "      <td>67.0</td>\n",
       "      <td>NaN</td>\n",
       "      <td>NaN</td>\n",
       "    </tr>\n",
       "    <tr>\n",
       "      <th>3609</th>\n",
       "      <td>HZ450833</td>\n",
       "      <td>2011-03-01 00:01:00+00:00</td>\n",
       "      <td>2011</td>\n",
       "      <td>032XX N HOYNE AVE</td>\n",
       "      <td>0265</td>\n",
       "      <td>CRIM SEXUAL ASSAULT</td>\n",
       "      <td>AGGRAVATED: OTHER</td>\n",
       "      <td>RESIDENCE</td>\n",
       "      <td>False</td>\n",
       "      <td>False</td>\n",
       "      <td>19</td>\n",
       "      <td>5.0</td>\n",
       "      <td>NaN</td>\n",
       "      <td>NaN</td>\n",
       "    </tr>\n",
       "    <tr>\n",
       "      <th>3622</th>\n",
       "      <td>HT456560</td>\n",
       "      <td>2011-08-20 00:10:00+00:00</td>\n",
       "      <td>2011</td>\n",
       "      <td>001XX W ELM ST</td>\n",
       "      <td>0320</td>\n",
       "      <td>ROBBERY</td>\n",
       "      <td>STRONGARM - NO WEAPON</td>\n",
       "      <td>STREET</td>\n",
       "      <td>False</td>\n",
       "      <td>False</td>\n",
       "      <td>18</td>\n",
       "      <td>8.0</td>\n",
       "      <td>NaN</td>\n",
       "      <td>NaN</td>\n",
       "    </tr>\n",
       "    <tr>\n",
       "      <th>3670</th>\n",
       "      <td>HT207806</td>\n",
       "      <td>2011-03-17 19:05:00+00:00</td>\n",
       "      <td>2011</td>\n",
       "      <td>001XX W NORTH AVE</td>\n",
       "      <td>0340</td>\n",
       "      <td>ROBBERY</td>\n",
       "      <td>ATTEMPT: STRONGARM-NO WEAPON</td>\n",
       "      <td>STREET</td>\n",
       "      <td>False</td>\n",
       "      <td>False</td>\n",
       "      <td>18</td>\n",
       "      <td>7.0</td>\n",
       "      <td>NaN</td>\n",
       "      <td>NaN</td>\n",
       "    </tr>\n",
       "    <tr>\n",
       "      <th>4091</th>\n",
       "      <td>HT380523</td>\n",
       "      <td>2011-07-05 01:30:00+00:00</td>\n",
       "      <td>2011</td>\n",
       "      <td>084XX S HOLLAND RD</td>\n",
       "      <td>041A</td>\n",
       "      <td>BATTERY</td>\n",
       "      <td>AGGRAVATED: HANDGUN</td>\n",
       "      <td>PARKING LOT/GARAGE(NON.RESID.)</td>\n",
       "      <td>False</td>\n",
       "      <td>False</td>\n",
       "      <td>6</td>\n",
       "      <td>NaN</td>\n",
       "      <td>41.740919</td>\n",
       "      <td>-87.631968</td>\n",
       "    </tr>\n",
       "    <tr>\n",
       "      <th>4250</th>\n",
       "      <td>HZ441336</td>\n",
       "      <td>2011-01-01 00:00:00+00:00</td>\n",
       "      <td>2011</td>\n",
       "      <td>006XX E 65TH ST</td>\n",
       "      <td>0265</td>\n",
       "      <td>CRIM SEXUAL ASSAULT</td>\n",
       "      <td>AGGRAVATED: OTHER</td>\n",
       "      <td>APARTMENT</td>\n",
       "      <td>False</td>\n",
       "      <td>False</td>\n",
       "      <td>3</td>\n",
       "      <td>42.0</td>\n",
       "      <td>NaN</td>\n",
       "      <td>NaN</td>\n",
       "    </tr>\n",
       "  </tbody>\n",
       "</table>\n",
       "</div>"
      ],
      "text/plain": [
       "     case_number                      date  year                  block  iucr  \\\n",
       "142     HT337939 2011-06-09 00:05:00+00:00  2011      093XX S DREXEL ST  0320   \n",
       "554     HZ338126 2011-01-30 00:01:00+00:00  2011  016XX N FRANCISCO AVE  0266   \n",
       "585     HZ225746 2011-03-11 19:00:00+00:00  2011   029XX N OAK PARK AVE  0265   \n",
       "1697    HZ570598 2011-09-01 00:01:00+00:00  2011   056XX S MICHIGAN AVE  0266   \n",
       "2594    HZ395005 2011-06-01 00:01:00+00:00  2011   014XX W MARQUETTE RD  0266   \n",
       "3609    HZ450833 2011-03-01 00:01:00+00:00  2011      032XX N HOYNE AVE  0265   \n",
       "3622    HT456560 2011-08-20 00:10:00+00:00  2011         001XX W ELM ST  0320   \n",
       "3670    HT207806 2011-03-17 19:05:00+00:00  2011      001XX W NORTH AVE  0340   \n",
       "4091    HT380523 2011-07-05 01:30:00+00:00  2011     084XX S HOLLAND RD  041A   \n",
       "4250    HZ441336 2011-01-01 00:00:00+00:00  2011        006XX E 65TH ST  0265   \n",
       "\n",
       "             primary_type                   description  \\\n",
       "142               ROBBERY         STRONGARM - NO WEAPON   \n",
       "554   CRIM SEXUAL ASSAULT                     PREDATORY   \n",
       "585   CRIM SEXUAL ASSAULT             AGGRAVATED: OTHER   \n",
       "1697  CRIM SEXUAL ASSAULT                     PREDATORY   \n",
       "2594  CRIM SEXUAL ASSAULT                     PREDATORY   \n",
       "3609  CRIM SEXUAL ASSAULT             AGGRAVATED: OTHER   \n",
       "3622              ROBBERY         STRONGARM - NO WEAPON   \n",
       "3670              ROBBERY  ATTEMPT: STRONGARM-NO WEAPON   \n",
       "4091              BATTERY           AGGRAVATED: HANDGUN   \n",
       "4250  CRIM SEXUAL ASSAULT             AGGRAVATED: OTHER   \n",
       "\n",
       "                location_description  arrest  domestic district  \\\n",
       "142                            ALLEY   False     False        4   \n",
       "554                        RESIDENCE   False     False       14   \n",
       "585                        APARTMENT   False     False       25   \n",
       "1697                       RESIDENCE   False     False        2   \n",
       "2594                       APARTMENT    True      True        7   \n",
       "3609                       RESIDENCE   False     False       19   \n",
       "3622                          STREET   False     False       18   \n",
       "3670                          STREET   False     False       18   \n",
       "4091  PARKING LOT/GARAGE(NON.RESID.)   False     False        6   \n",
       "4250                       APARTMENT   False     False        3   \n",
       "\n",
       "     community_area   latitude  longitude  \n",
       "142             NaN  41.725456 -87.600929  \n",
       "554            24.0        NaN        NaN  \n",
       "585            18.0        NaN        NaN  \n",
       "1697           40.0        NaN        NaN  \n",
       "2594           67.0        NaN        NaN  \n",
       "3609            5.0        NaN        NaN  \n",
       "3622            8.0        NaN        NaN  \n",
       "3670            7.0        NaN        NaN  \n",
       "4091            NaN  41.740919 -87.631968  \n",
       "4250           42.0        NaN        NaN  "
      ]
     },
     "execution_count": 34,
     "metadata": {},
     "output_type": "execute_result"
    }
   ],
   "source": [
    "null_data.head(10)"
   ]
  },
  {
   "cell_type": "code",
   "execution_count": 27,
   "metadata": {
    "scrolled": true
   },
   "outputs": [
    {
     "name": "stdout",
     "output_type": "stream",
     "text": [
      " 0.05 percent of HOMICIDE has null value\n",
      " 0.06 percent of ROBBERY has null value\n",
      " 3.73 percent of CRIM SEXUAL ASSAULT has null value\n",
      " 0.06 percent of BATTERY has null value\n",
      " 0.08 percent of ASSAULT has null value\n"
     ]
    }
   ],
   "source": [
    "for _ in set(null_data['primary_type']):\n",
    "    pct = len(null_data[null_data.primary_type == _])/len(df[df.primary_type == _])\n",
    "    #_pct = pd.DataFrame([[_, pct]], columns=['type','pct'])\n",
    "    print(\" %.2f percent of %s has null value\" % (pct*100, _))"
   ]
  },
  {
   "cell_type": "code",
   "execution_count": 28,
   "metadata": {},
   "outputs": [
    {
     "data": {
      "text/html": [
       "<div>\n",
       "<style scoped>\n",
       "    .dataframe tbody tr th:only-of-type {\n",
       "        vertical-align: middle;\n",
       "    }\n",
       "\n",
       "    .dataframe tbody tr th {\n",
       "        vertical-align: top;\n",
       "    }\n",
       "\n",
       "    .dataframe thead th {\n",
       "        text-align: right;\n",
       "    }\n",
       "</style>\n",
       "<table border=\"1\" class=\"dataframe\">\n",
       "  <thead>\n",
       "    <tr style=\"text-align: right;\">\n",
       "      <th></th>\n",
       "      <th>case_number</th>\n",
       "      <th>date</th>\n",
       "      <th>year</th>\n",
       "      <th>block</th>\n",
       "      <th>iucr</th>\n",
       "      <th>primary_type</th>\n",
       "      <th>description</th>\n",
       "      <th>location_description</th>\n",
       "      <th>arrest</th>\n",
       "      <th>domestic</th>\n",
       "      <th>district</th>\n",
       "      <th>community_area</th>\n",
       "      <th>latitude</th>\n",
       "      <th>longitude</th>\n",
       "    </tr>\n",
       "  </thead>\n",
       "  <tbody>\n",
       "  </tbody>\n",
       "</table>\n",
       "</div>"
      ],
      "text/plain": [
       "Empty DataFrame\n",
       "Columns: [case_number, date, year, block, iucr, primary_type, description, location_description, arrest, domestic, district, community_area, latitude, longitude]\n",
       "Index: []"
      ]
     },
     "execution_count": 28,
     "metadata": {},
     "output_type": "execute_result"
    }
   ],
   "source": [
    "null_oic = null_data[null_data['primary_type'] == 'CRIM SEXUAL ASSAULT ']\n",
    "null_oic.head()"
   ]
  },
  {
   "cell_type": "code",
   "execution_count": 191,
   "metadata": {},
   "outputs": [
    {
     "name": "stdout",
     "output_type": "stream",
     "text": [
      " arrest rate of OFFENSE INVOLVING CHILDREN: 16.53\n"
     ]
    }
   ],
   "source": [
    "pct = len(null_oic[null_oic.arrest == True])/len(null_oic)\n",
    "print(\" arrest rate of OFFENSE INVOLVING CHILDREN: %.2f\" % (pct*100))"
   ]
  },
  {
   "cell_type": "markdown",
   "metadata": {},
   "source": [
    "**conclusion: child involved !!!! research later**"
   ]
  },
  {
   "cell_type": "code",
   "execution_count": 231,
   "metadata": {},
   "outputs": [
    {
     "data": {
      "text/plain": [
       "951509"
      ]
     },
     "execution_count": 231,
     "metadata": {},
     "output_type": "execute_result"
    }
   ],
   "source": [
    "df = df.dropna(how = 'any')\n",
    "#missing_values_table(df)\n",
    "len(df)"
   ]
  },
  {
   "cell_type": "code",
   "execution_count": 23,
   "metadata": {},
   "outputs": [
    {
     "name": "stdout",
     "output_type": "stream",
     "text": [
      "<class 'pandas.core.frame.DataFrame'>\n",
      "Int64Index: 207218 entries, 0 to 207412\n",
      "Data columns (total 14 columns):\n",
      "case_number             207218 non-null object\n",
      "date                    207218 non-null datetime64[ns, UTC]\n",
      "year                    207218 non-null int64\n",
      "block                   207218 non-null object\n",
      "iucr                    207218 non-null object\n",
      "primary_type            207218 non-null category\n",
      "description             207218 non-null category\n",
      "location_description    207214 non-null category\n",
      "arrest                  207218 non-null bool\n",
      "domestic                207218 non-null bool\n",
      "district                207218 non-null category\n",
      "community_area          207211 non-null category\n",
      "latitude                206674 non-null float64\n",
      "longitude               206674 non-null float64\n",
      "dtypes: bool(2), category(5), datetime64[ns, UTC](1), float64(2), int64(1), object(3)\n",
      "memory usage: 14.2+ MB\n"
     ]
    }
   ],
   "source": [
    "factor_col = ['primary_type','location_description','description','district','community_area']\n",
    "for _ in factor_col:\n",
    "    df[_]= pd.Categorical(df[_])\n",
    "\n",
    "df.info()"
   ]
  },
  {
   "cell_type": "markdown",
   "metadata": {},
   "source": [
    "## Convert data"
   ]
  },
  {
   "cell_type": "code",
   "execution_count": 232,
   "metadata": {
    "scrolled": false
   },
   "outputs": [
    {
     "name": "stdout",
     "output_type": "stream",
     "text": [
      "<class 'pandas.core.frame.DataFrame'>\n",
      "Int64Index: 951509 entries, 0 to 956350\n",
      "Data columns (total 14 columns):\n",
      "case_number             951509 non-null object\n",
      "date                    951509 non-null object\n",
      "year                    951509 non-null int64\n",
      "block                   951509 non-null object\n",
      "iucr                    951509 non-null object\n",
      "primary_type            951509 non-null object\n",
      "description             951509 non-null object\n",
      "location_description    951509 non-null object\n",
      "arrest                  951509 non-null bool\n",
      "domestic                951509 non-null bool\n",
      "district                951509 non-null int64\n",
      "community_area          951509 non-null float64\n",
      "latitude                951509 non-null float64\n",
      "longitude               951509 non-null float64\n",
      "dtypes: bool(2), float64(3), int64(2), object(7)\n",
      "memory usage: 96.2+ MB\n"
     ]
    },
    {
     "data": {
      "text/html": [
       "<div>\n",
       "<style scoped>\n",
       "    .dataframe tbody tr th:only-of-type {\n",
       "        vertical-align: middle;\n",
       "    }\n",
       "\n",
       "    .dataframe tbody tr th {\n",
       "        vertical-align: top;\n",
       "    }\n",
       "\n",
       "    .dataframe thead th {\n",
       "        text-align: right;\n",
       "    }\n",
       "</style>\n",
       "<table border=\"1\" class=\"dataframe\">\n",
       "  <thead>\n",
       "    <tr style=\"text-align: right;\">\n",
       "      <th></th>\n",
       "      <th>case_number</th>\n",
       "      <th>date</th>\n",
       "      <th>year</th>\n",
       "      <th>block</th>\n",
       "      <th>iucr</th>\n",
       "      <th>primary_type</th>\n",
       "      <th>description</th>\n",
       "      <th>location_description</th>\n",
       "      <th>arrest</th>\n",
       "      <th>domestic</th>\n",
       "      <th>district</th>\n",
       "      <th>community_area</th>\n",
       "      <th>latitude</th>\n",
       "      <th>longitude</th>\n",
       "    </tr>\n",
       "  </thead>\n",
       "  <tbody>\n",
       "    <tr>\n",
       "      <th>0</th>\n",
       "      <td>HT596612</td>\n",
       "      <td>2011-11-19 16:30:00+00:00</td>\n",
       "      <td>2011</td>\n",
       "      <td>046XX W PALMER ST</td>\n",
       "      <td>0520</td>\n",
       "      <td>ASSAULT</td>\n",
       "      <td>AGGRAVATED:KNIFE/CUTTING INSTR</td>\n",
       "      <td>APARTMENT</td>\n",
       "      <td>True</td>\n",
       "      <td>False</td>\n",
       "      <td>25</td>\n",
       "      <td>19.0</td>\n",
       "      <td>41.920626</td>\n",
       "      <td>-87.74298</td>\n",
       "    </tr>\n",
       "  </tbody>\n",
       "</table>\n",
       "</div>"
      ],
      "text/plain": [
       "  case_number                       date  year              block  iucr  \\\n",
       "0    HT596612  2011-11-19 16:30:00+00:00  2011  046XX W PALMER ST  0520   \n",
       "\n",
       "  primary_type                     description location_description  arrest  \\\n",
       "0      ASSAULT  AGGRAVATED:KNIFE/CUTTING INSTR            APARTMENT    True   \n",
       "\n",
       "   domestic  district  community_area   latitude  longitude  \n",
       "0     False        25            19.0  41.920626  -87.74298  "
      ]
     },
     "execution_count": 232,
     "metadata": {},
     "output_type": "execute_result"
    }
   ],
   "source": [
    "df.info()\n",
    "df.head(1)"
   ]
  },
  {
   "cell_type": "code",
   "execution_count": null,
   "metadata": {},
   "outputs": [],
   "source": [
    "'''\n",
    "loc_to_change  = list(crimes['Location Description'].value_counts()[20:].index)\n",
    "desc_to_change = list(crimes['Description'].value_counts()[20:].index)\n",
    "#type_to_change = list(crimes['Primary Type'].value_counts()[20:].index)\n",
    "\n",
    "crimes.loc[crimes['Location Description'].isin(loc_to_change) , crimes.columns=='Location Description'] = 'OTHER'\n",
    "crimes.loc[crimes['Description'].isin(desc_to_change) , crimes.columns=='Description'] = 'OTHER'\n",
    "#crimes.loc[crimes['Primary Type'].isin(type_to_change) , crimes.columns=='Primary Type'] = 'OTHER'\n",
    "'''"
   ]
  },
  {
   "cell_type": "code",
   "execution_count": 320,
   "metadata": {},
   "outputs": [
    {
     "name": "stdout",
     "output_type": "stream",
     "text": [
      "<class 'pandas.core.frame.DataFrame'>\n",
      "DatetimeIndex: 951509 entries, 2011-11-19 16:30:00+00:00 to 2018-07-15 16:45:00+00:00\n",
      "Data columns (total 15 columns):\n",
      "case_number             951509 non-null object\n",
      "date                    951509 non-null datetime64[ns, UTC]\n",
      "year                    951509 non-null int64\n",
      "block                   951509 non-null object\n",
      "iucr                    951509 non-null object\n",
      "primary_type            951509 non-null category\n",
      "description             951509 non-null category\n",
      "location_description    951509 non-null category\n",
      "arrest                  951509 non-null bool\n",
      "domestic                951509 non-null bool\n",
      "district                951509 non-null int64\n",
      "community_area          951509 non-null category\n",
      "latitude                951509 non-null float64\n",
      "longitude               951509 non-null float64\n",
      "comm_by_side            951509 non-null category\n",
      "dtypes: bool(2), category(5), datetime64[ns, UTC](1), float64(2), int64(2), object(3)\n",
      "memory usage: 72.6+ MB\n"
     ]
    }
   ],
   "source": [
    "\n",
    "# convert community_area to int    \n",
    "df['community_area']= df['community_area'].astype(int)\n",
    "# convert dates to pandas datetime format\n",
    "df['date'] = df['date'].apply(pd.Timestamp)\n",
    "# setting the index to be the date will help us a lot later on\n",
    "df.index = pd.DatetimeIndex(df.date)\n",
    "\n",
    "# convert obj to categorical\n",
    "factor_col = ['primary_type','location_description','description','community_area']\n",
    "for _ in factor_col:\n",
    "    df[_]= pd.Categorical(df[_])\n",
    "\n",
    "df.info()"
   ]
  },
  {
   "cell_type": "markdown",
   "metadata": {},
   "source": [
    "## Regular Viz"
   ]
  },
  {
   "cell_type": "code",
   "execution_count": 327,
   "metadata": {},
   "outputs": [
    {
     "name": "stdout",
     "output_type": "stream",
     "text": [
      "<class 'pandas.core.frame.DataFrame'>\n",
      "DatetimeIndex: 951509 entries, 2011-11-19 16:30:00+00:00 to 2018-07-15 16:45:00+00:00\n",
      "Data columns (total 14 columns):\n",
      "case_number             951509 non-null object\n",
      "date                    951509 non-null datetime64[ns, UTC]\n",
      "year                    951509 non-null int64\n",
      "block                   951509 non-null object\n",
      "iucr                    951509 non-null object\n",
      "primary_type            951509 non-null category\n",
      "description             951509 non-null category\n",
      "location_description    951509 non-null category\n",
      "arrest                  951509 non-null bool\n",
      "domestic                951509 non-null bool\n",
      "district                951509 non-null int64\n",
      "community_area          951509 non-null category\n",
      "latitude                951509 non-null float64\n",
      "longitude               951509 non-null float64\n",
      "dtypes: bool(2), category(4), datetime64[ns, UTC](1), float64(2), int64(2), object(3)\n",
      "memory usage: 71.7+ MB\n"
     ]
    }
   ],
   "source": [
    "\n",
    "import pandas as pd\n",
    "import numpy as np\n",
    "import seaborn as sns\n",
    "import matplotlib.pyplot as plt\n",
    "%matplotlib inline\n",
    "plt.style.use('seaborn')\n",
    "\n",
    "import warnings\n",
    "warnings.filterwarnings('ignore')\n",
    "\n",
    "df = pd.read_csv('../data/filter_data.csv',index_col=0)\n",
    "\n",
    "df.drop_duplicates(subset=['case_number'], inplace=True)\n",
    "df[df.community_area == 0.0].index\n",
    "df = df.drop(df[df.community_area == 0].index)\n",
    "\n",
    "df = df.dropna(how = 'any')\n",
    "\n",
    "# convert community_area to int    \n",
    "df['community_area']= df['community_area'].astype(int)\n",
    "# convert dates to pandas datetime format\n",
    "df['date'] = df['date'].apply(pd.Timestamp)\n",
    "# setting the index to be the date will help us a lot later on\n",
    "df.index = pd.DatetimeIndex(df.date)\n",
    "\n",
    "# convert obj to categorical\n",
    "factor_col = ['primary_type','location_description','description','community_area']\n",
    "for _ in factor_col:\n",
    "    df[_]= pd.Categorical(df[_])\n",
    "\n",
    "df.info()"
   ]
  },
  {
   "cell_type": "code",
   "execution_count": 235,
   "metadata": {},
   "outputs": [
    {
     "data": {
      "text/html": [
       "<div>\n",
       "<style scoped>\n",
       "    .dataframe tbody tr th:only-of-type {\n",
       "        vertical-align: middle;\n",
       "    }\n",
       "\n",
       "    .dataframe tbody tr th {\n",
       "        vertical-align: top;\n",
       "    }\n",
       "\n",
       "    .dataframe thead th {\n",
       "        text-align: right;\n",
       "    }\n",
       "</style>\n",
       "<table border=\"1\" class=\"dataframe\">\n",
       "  <thead>\n",
       "    <tr style=\"text-align: right;\">\n",
       "      <th></th>\n",
       "      <th>case_number</th>\n",
       "      <th>date</th>\n",
       "      <th>year</th>\n",
       "      <th>block</th>\n",
       "      <th>iucr</th>\n",
       "      <th>primary_type</th>\n",
       "      <th>description</th>\n",
       "      <th>location_description</th>\n",
       "      <th>arrest</th>\n",
       "      <th>domestic</th>\n",
       "      <th>district</th>\n",
       "      <th>community_area</th>\n",
       "      <th>latitude</th>\n",
       "      <th>longitude</th>\n",
       "    </tr>\n",
       "    <tr>\n",
       "      <th>date</th>\n",
       "      <th></th>\n",
       "      <th></th>\n",
       "      <th></th>\n",
       "      <th></th>\n",
       "      <th></th>\n",
       "      <th></th>\n",
       "      <th></th>\n",
       "      <th></th>\n",
       "      <th></th>\n",
       "      <th></th>\n",
       "      <th></th>\n",
       "      <th></th>\n",
       "      <th></th>\n",
       "      <th></th>\n",
       "    </tr>\n",
       "  </thead>\n",
       "  <tbody>\n",
       "    <tr>\n",
       "      <th>2011-11-19 16:30:00+00:00</th>\n",
       "      <td>HT596612</td>\n",
       "      <td>2011-11-19 16:30:00+00:00</td>\n",
       "      <td>2011</td>\n",
       "      <td>046XX W PALMER ST</td>\n",
       "      <td>0520</td>\n",
       "      <td>ASSAULT</td>\n",
       "      <td>AGGRAVATED:KNIFE/CUTTING INSTR</td>\n",
       "      <td>APARTMENT</td>\n",
       "      <td>True</td>\n",
       "      <td>False</td>\n",
       "      <td>25</td>\n",
       "      <td>19</td>\n",
       "      <td>41.920626</td>\n",
       "      <td>-87.74298</td>\n",
       "    </tr>\n",
       "  </tbody>\n",
       "</table>\n",
       "</div>"
      ],
      "text/plain": [
       "                          case_number                      date  year  \\\n",
       "date                                                                    \n",
       "2011-11-19 16:30:00+00:00    HT596612 2011-11-19 16:30:00+00:00  2011   \n",
       "\n",
       "                                       block  iucr primary_type  \\\n",
       "date                                                              \n",
       "2011-11-19 16:30:00+00:00  046XX W PALMER ST  0520      ASSAULT   \n",
       "\n",
       "                                              description  \\\n",
       "date                                                        \n",
       "2011-11-19 16:30:00+00:00  AGGRAVATED:KNIFE/CUTTING INSTR   \n",
       "\n",
       "                          location_description  arrest  domestic  district  \\\n",
       "date                                                                         \n",
       "2011-11-19 16:30:00+00:00            APARTMENT    True     False        25   \n",
       "\n",
       "                          community_area   latitude  longitude  \n",
       "date                                                            \n",
       "2011-11-19 16:30:00+00:00             19  41.920626  -87.74298  "
      ]
     },
     "execution_count": 235,
     "metadata": {},
     "output_type": "execute_result"
    }
   ],
   "source": [
    "df.head(1)"
   ]
  },
  {
   "cell_type": "code",
   "execution_count": 236,
   "metadata": {},
   "outputs": [
    {
     "data": {
      "image/png": "[encoded data removed]",
      "text/plain": [
       "<Figure size 792x360 with 1 Axes>"
      ]
     },
     "metadata": {},
     "output_type": "display_data"
    }
   ],
   "source": [
    "# monthsly crime resord\n",
    "plt.figure(figsize=(11,5))\n",
    "df.resample('D').size().plot(legend=False)\n",
    "plt.title('Number of crimes per month (2005 - 2016)')\n",
    "plt.xlabel('Months')\n",
    "plt.ylabel('Number of crimes')\n",
    "plt.show()"
   ]
  },
  {
   "cell_type": "markdown",
   "metadata": {},
   "source": [
    "This chart shows a clear \"periodic\" pattern in the crimes over many years. \n",
    "\n",
    "How crime has changed over the years? is it decreasing? Let's have a look at what we have (from 2012 to 2016 for now).\n",
    "\n",
    "for each day, we calculate the sum of crimes of the past year. If this rolling sum is decreasing, then we know for sure that crime rates have been decreasing during that year. On the other hand, if the rolling sum stays the same during a given year, then we can conclude that crime rates stayed the same."
   ]
  },
  {
   "cell_type": "code",
   "execution_count": 237,
   "metadata": {},
   "outputs": [
    {
     "data": {
      "image/png": "[encoded data removed]",
      "text/plain": [
       "<Figure size 792x360 with 1 Axes>"
      ]
     },
     "metadata": {},
     "output_type": "display_data"
    }
   ],
   "source": [
    "#yearly crime\n",
    "'''\n",
    "same as df.resample('Y').size().plot(legend=False)\n",
    "but rolling sum gave a better smooth of curve\n",
    "'''\n",
    "plt.figure(figsize=(11,5))\n",
    "df.resample('D').size().rolling(365).sum().plot()\n",
    "\n",
    "plt.title('Rolling sum of all crimes from 2011 - present')\n",
    "plt.ylabel('Number of crimes')\n",
    "plt.xlabel('Days')\n",
    "plt.show()"
   ]
  },
  {
   "cell_type": "code",
   "execution_count": 238,
   "metadata": {},
   "outputs": [
    {
     "data": {
      "image/png": "[encoded data removed]",
      "text/plain": [
       "<Figure size 864x2160 with 30 Axes>"
      ]
     },
     "metadata": {},
     "output_type": "display_data"
    }
   ],
   "source": [
    "crimes_count_date = df.pivot_table('case_number', \n",
    "                                   aggfunc=np.size, \n",
    "                                   columns='primary_type', \n",
    "                                   index=df.index.date, \n",
    "                                   fill_value=0)\n",
    "crimes_count_date.index = pd.DatetimeIndex(crimes_count_date.index)\n",
    "plo = crimes_count_date.rolling(365).sum().plot(figsize=(12, 30), subplots=True, layout=(10, 3), sharex=False, sharey=False)"
   ]
  },
  {
   "cell_type": "markdown",
   "metadata": {},
   "source": [
    "\n",
    "Definition: Crime related to Violence\n",
    "\n",
    "Includes the following Crime Categories (see below)\n",
    "Homicide 1st & 2nd Degree (01A) (Index)\n",
    "Criminal Sexual Assault (02) (Index)\n",
    "Robbery (03) (Index)\n",
    "Aggravated Assault (04A) (Index)\n",
    "Aggravated Battery (04B) (Index)"
   ]
  },
  {
   "cell_type": "markdown",
   "metadata": {},
   "source": [
    "In most case, the trend increase after 2015 and decrease after 2017. So what happen at 2016 and 2017\n",
    "\n",
    "The jump in homicides did follow close behind several notable events: the release of the video showing the police fatally shooting Laquan McDonald, the launch of a Justice Department investigation of the Chicago Police Department, a new policy on street stops resulting from a city agreement with the American Civil Liberties Union and a decline in the number of stops.\n",
    "\n",
    "2016\n",
    "https://www.chicagotribune.com/news/opinion/editorials/ct-chicago-crime-increase-causes-edit-0118-md-20170117-story.html\n",
    "https://www.theatlantic.com/politics/archive/2017/01/chicago-homicide-spike-2016/514331/\n",
    "\n",
    "2017\n",
    "https://www.chicagotribune.com/news/opinion/editorials/ct-edit-homicide-chicago-police-gun-violence-20180417-story.html\n",
    "约翰逊引用了新的打击犯罪工具。CPD现在拥有数据驱动的指挥中心，在该部门的22个地区中有12个被称为战略决策支持中心。这些中心将枪击检测传感器和视频链接到一个系统，该系统可以快速警告现场警察进行射击，并识别潜在的嫌疑人。这些中心由芝加哥大学犯罪实验室的警察和平民运营，采用名为HunchLab的预测计算机程序来查看犯罪事件以及酒店和加油站附近等数据。该软件预计热点，并建议部署官员，以防止报复性枪击。\n",
    "\n",
    "Johnson cites new crime-fighting tools. CPD now has data-driven command hubs known as Strategic Decision Support Centers in 12 of the department’s 22 districts. The centers link gunshot detection sensors and video to a system that can rapidly alert cops in the field to a shooting, and identify potential suspects. The centers, operated by police and civilians from the University of Chicago Crime Lab, employ a predictive computer program called HunchLab to look at data such as crime incidents and proximity to liquor stores and gas stations. The software anticipates hot spots and suggests deployment of officers to prevent retaliatory shootings.\n",
    "\n",
    "To combat this violence, starting in February 2017 the Chicago Police Department (CPD) built Strategic Decision Support Centers (SDSCs) in the 007th and 011th districts that bring together police officers and analysts from the Crime Lab to integrate crime intelligence, data analysis, and technology. "
   ]
  },
  {
   "cell_type": "code",
   "execution_count": 83,
   "metadata": {},
   "outputs": [
    {
     "data": {
      "text/plain": [
       "<matplotlib.axes._subplots.AxesSubplot at 0x15d052bb7b8>"
      ]
     },
     "execution_count": 83,
     "metadata": {},
     "output_type": "execute_result"
    },
    {
     "data": {
      "image/png": "[encoded data removed]",
      "text/plain": [
       "<Figure size 576x396 with 1 Axes>"
      ]
     },
     "metadata": {},
     "output_type": "display_data"
    }
   ],
   "source": [
    "sns.countplot(y='primary_type', data = df,\n",
    "              order = df.primary_type.value_counts().index)"
   ]
  },
  {
   "cell_type": "code",
   "execution_count": 255,
   "metadata": {
    "scrolled": true
   },
   "outputs": [
    {
     "data": {
      "text/plain": [
       "\"\\n#Temporal analysis of crime rates by type and location\\nhour_by_location = df.pivot_table(values='case_number', \\n                                      index='location_description', \\n                                      columns=df.index.hour, \\n                                      aggfunc=np.size).fillna(0)\\n\\nhour_by_type     = df.pivot_table(values='case_number', \\n                                      index='primary_type', \\n                                      columns=df.index.hour, \\n                                      aggfunc=np.size).fillna(0)\\n\\nhour_by_week     = df.pivot_table(values='case_number', \\n                                      index=df.index.hour, \\n                                      columns=df.index.weekday_name, \\n                                      aggfunc=np.size).fillna(0)\\n\\nhour_by_week     = hour_by_week[days].T # just reorder columns according to the the order of days\\n\\ndayofweek_by_location = df.pivot_table(values='case_number', \\n                                           index='location_description', \\n                                           columns=df.index.dayofweek, \\n                                           aggfunc=np.size).fillna(0)\\n\\ndayofweek_by_type = df.pivot_table(values='case_number', \\n                                       index='primary_type', \\n                                       columns=df.index.dayofweek, \\n                                       aggfunc=np.size).fillna(0)\\n\\nlocation_by_type  = df.pivot_table(values='case_number', \\n                                       index='location_description', \\n                                       columns='primary_type', aggfunc=np.size).fillna(0)\\n\""
      ]
     },
     "execution_count": 255,
     "metadata": {},
     "output_type": "execute_result"
    }
   ],
   "source": [
    "'''\n",
    "#Temporal analysis of crime rates by type and location\n",
    "hour_by_location = df.pivot_table(values='case_number', \n",
    "                                      index='location_description', \n",
    "                                      columns=df.index.hour, \n",
    "                                      aggfunc=np.size).fillna(0)\n",
    "\n",
    "hour_by_type     = df.pivot_table(values='case_number', \n",
    "                                      index='primary_type', \n",
    "                                      columns=df.index.hour, \n",
    "                                      aggfunc=np.size).fillna(0)\n",
    "\n",
    "hour_by_week     = df.pivot_table(values='case_number', \n",
    "                                      index=df.index.hour, \n",
    "                                      columns=df.index.weekday_name, \n",
    "                                      aggfunc=np.size).fillna(0)\n",
    "\n",
    "hour_by_week     = hour_by_week[days].T # just reorder columns according to the the order of days\n",
    "\n",
    "dayofweek_by_location = df.pivot_table(values='case_number', \n",
    "                                           index='location_description', \n",
    "                                           columns=df.index.dayofweek, \n",
    "                                           aggfunc=np.size).fillna(0)\n",
    "\n",
    "dayofweek_by_type = df.pivot_table(values='case_number', \n",
    "                                       index='primary_type', \n",
    "                                       columns=df.index.dayofweek, \n",
    "                                       aggfunc=np.size).fillna(0)\n",
    "\n",
    "location_by_type  = df.pivot_table(values='case_number', \n",
    "                                       index='location_description', \n",
    "                                       columns='primary_type', aggfunc=np.size).fillna(0)\n",
    "'''"
   ]
  },
  {
   "cell_type": "code",
   "execution_count": 270,
   "metadata": {
    "scrolled": true
   },
   "outputs": [
    {
     "data": {
      "text/html": [
       "<div>\n",
       "<style scoped>\n",
       "    .dataframe tbody tr th:only-of-type {\n",
       "        vertical-align: middle;\n",
       "    }\n",
       "\n",
       "    .dataframe tbody tr th {\n",
       "        vertical-align: top;\n",
       "    }\n",
       "\n",
       "    .dataframe thead th {\n",
       "        text-align: right;\n",
       "    }\n",
       "</style>\n",
       "<table border=\"1\" class=\"dataframe\">\n",
       "  <thead>\n",
       "    <tr style=\"text-align: right;\">\n",
       "      <th>community_area</th>\n",
       "      <th>1</th>\n",
       "      <th>2</th>\n",
       "      <th>3</th>\n",
       "      <th>4</th>\n",
       "      <th>5</th>\n",
       "      <th>6</th>\n",
       "      <th>7</th>\n",
       "      <th>8</th>\n",
       "      <th>9</th>\n",
       "      <th>10</th>\n",
       "      <th>...</th>\n",
       "      <th>68</th>\n",
       "      <th>69</th>\n",
       "      <th>70</th>\n",
       "      <th>71</th>\n",
       "      <th>72</th>\n",
       "      <th>73</th>\n",
       "      <th>74</th>\n",
       "      <th>75</th>\n",
       "      <th>76</th>\n",
       "      <th>77</th>\n",
       "    </tr>\n",
       "    <tr>\n",
       "      <th>primary_type</th>\n",
       "      <th></th>\n",
       "      <th></th>\n",
       "      <th></th>\n",
       "      <th></th>\n",
       "      <th></th>\n",
       "      <th></th>\n",
       "      <th></th>\n",
       "      <th></th>\n",
       "      <th></th>\n",
       "      <th></th>\n",
       "      <th></th>\n",
       "      <th></th>\n",
       "      <th></th>\n",
       "      <th></th>\n",
       "      <th></th>\n",
       "      <th></th>\n",
       "      <th></th>\n",
       "      <th></th>\n",
       "      <th></th>\n",
       "      <th></th>\n",
       "      <th></th>\n",
       "    </tr>\n",
       "  </thead>\n",
       "  <tbody>\n",
       "    <tr>\n",
       "      <th>ARSON</th>\n",
       "      <td>28.0</td>\n",
       "      <td>28.0</td>\n",
       "      <td>21.0</td>\n",
       "      <td>9.0</td>\n",
       "      <td>15.0</td>\n",
       "      <td>39.0</td>\n",
       "      <td>18.0</td>\n",
       "      <td>31.0</td>\n",
       "      <td>6.0</td>\n",
       "      <td>11.0</td>\n",
       "      <td>...</td>\n",
       "      <td>128.0</td>\n",
       "      <td>80.0</td>\n",
       "      <td>37.0</td>\n",
       "      <td>106.0</td>\n",
       "      <td>7.0</td>\n",
       "      <td>23.0</td>\n",
       "      <td>6.0</td>\n",
       "      <td>23.0</td>\n",
       "      <td>3.0</td>\n",
       "      <td>15.0</td>\n",
       "    </tr>\n",
       "    <tr>\n",
       "      <th>ASSAULT</th>\n",
       "      <td>497.0</td>\n",
       "      <td>380.0</td>\n",
       "      <td>436.0</td>\n",
       "      <td>173.0</td>\n",
       "      <td>94.0</td>\n",
       "      <td>309.0</td>\n",
       "      <td>184.0</td>\n",
       "      <td>530.0</td>\n",
       "      <td>28.0</td>\n",
       "      <td>99.0</td>\n",
       "      <td>...</td>\n",
       "      <td>1363.0</td>\n",
       "      <td>1328.0</td>\n",
       "      <td>397.0</td>\n",
       "      <td>1497.0</td>\n",
       "      <td>87.0</td>\n",
       "      <td>587.0</td>\n",
       "      <td>54.0</td>\n",
       "      <td>316.0</td>\n",
       "      <td>57.0</td>\n",
       "      <td>258.0</td>\n",
       "    </tr>\n",
       "    <tr>\n",
       "      <th>BATTERY</th>\n",
       "      <td>680.0</td>\n",
       "      <td>405.0</td>\n",
       "      <td>580.0</td>\n",
       "      <td>162.0</td>\n",
       "      <td>111.0</td>\n",
       "      <td>555.0</td>\n",
       "      <td>271.0</td>\n",
       "      <td>1009.0</td>\n",
       "      <td>18.0</td>\n",
       "      <td>81.0</td>\n",
       "      <td>...</td>\n",
       "      <td>2385.0</td>\n",
       "      <td>2221.0</td>\n",
       "      <td>413.0</td>\n",
       "      <td>2171.0</td>\n",
       "      <td>65.0</td>\n",
       "      <td>729.0</td>\n",
       "      <td>44.0</td>\n",
       "      <td>351.0</td>\n",
       "      <td>46.0</td>\n",
       "      <td>297.0</td>\n",
       "    </tr>\n",
       "    <tr>\n",
       "      <th>BURGLARY</th>\n",
       "      <td>1532.0</td>\n",
       "      <td>2173.0</td>\n",
       "      <td>1259.0</td>\n",
       "      <td>1109.0</td>\n",
       "      <td>1265.0</td>\n",
       "      <td>3293.0</td>\n",
       "      <td>2419.0</td>\n",
       "      <td>1682.0</td>\n",
       "      <td>132.0</td>\n",
       "      <td>731.0</td>\n",
       "      <td>...</td>\n",
       "      <td>3228.0</td>\n",
       "      <td>3302.0</td>\n",
       "      <td>1804.0</td>\n",
       "      <td>4214.0</td>\n",
       "      <td>678.0</td>\n",
       "      <td>1786.0</td>\n",
       "      <td>214.0</td>\n",
       "      <td>1120.0</td>\n",
       "      <td>156.0</td>\n",
       "      <td>1257.0</td>\n",
       "    </tr>\n",
       "    <tr>\n",
       "      <th>CRIM SEXUAL ASSAULT</th>\n",
       "      <td>196.0</td>\n",
       "      <td>122.0</td>\n",
       "      <td>240.0</td>\n",
       "      <td>90.0</td>\n",
       "      <td>56.0</td>\n",
       "      <td>288.0</td>\n",
       "      <td>158.0</td>\n",
       "      <td>489.0</td>\n",
       "      <td>7.0</td>\n",
       "      <td>42.0</td>\n",
       "      <td>...</td>\n",
       "      <td>315.0</td>\n",
       "      <td>310.0</td>\n",
       "      <td>93.0</td>\n",
       "      <td>329.0</td>\n",
       "      <td>19.0</td>\n",
       "      <td>135.0</td>\n",
       "      <td>19.0</td>\n",
       "      <td>65.0</td>\n",
       "      <td>26.0</td>\n",
       "      <td>143.0</td>\n",
       "    </tr>\n",
       "    <tr>\n",
       "      <th>HOMICIDE</th>\n",
       "      <td>40.0</td>\n",
       "      <td>26.0</td>\n",
       "      <td>42.0</td>\n",
       "      <td>8.0</td>\n",
       "      <td>1.0</td>\n",
       "      <td>8.0</td>\n",
       "      <td>5.0</td>\n",
       "      <td>33.0</td>\n",
       "      <td>0.0</td>\n",
       "      <td>4.0</td>\n",
       "      <td>...</td>\n",
       "      <td>208.0</td>\n",
       "      <td>151.0</td>\n",
       "      <td>44.0</td>\n",
       "      <td>145.0</td>\n",
       "      <td>6.0</td>\n",
       "      <td>66.0</td>\n",
       "      <td>1.0</td>\n",
       "      <td>36.0</td>\n",
       "      <td>4.0</td>\n",
       "      <td>14.0</td>\n",
       "    </tr>\n",
       "    <tr>\n",
       "      <th>MOTOR VEHICLE THEFT</th>\n",
       "      <td>967.0</td>\n",
       "      <td>1326.0</td>\n",
       "      <td>1247.0</td>\n",
       "      <td>745.0</td>\n",
       "      <td>613.0</td>\n",
       "      <td>1933.0</td>\n",
       "      <td>1459.0</td>\n",
       "      <td>1767.0</td>\n",
       "      <td>63.0</td>\n",
       "      <td>295.0</td>\n",
       "      <td>...</td>\n",
       "      <td>2008.0</td>\n",
       "      <td>2395.0</td>\n",
       "      <td>1257.0</td>\n",
       "      <td>2553.0</td>\n",
       "      <td>309.0</td>\n",
       "      <td>1291.0</td>\n",
       "      <td>102.0</td>\n",
       "      <td>726.0</td>\n",
       "      <td>541.0</td>\n",
       "      <td>825.0</td>\n",
       "    </tr>\n",
       "    <tr>\n",
       "      <th>OFFENSE INVOLVING CHILDREN</th>\n",
       "      <td>9.0</td>\n",
       "      <td>11.0</td>\n",
       "      <td>15.0</td>\n",
       "      <td>6.0</td>\n",
       "      <td>1.0</td>\n",
       "      <td>4.0</td>\n",
       "      <td>2.0</td>\n",
       "      <td>10.0</td>\n",
       "      <td>0.0</td>\n",
       "      <td>2.0</td>\n",
       "      <td>...</td>\n",
       "      <td>25.0</td>\n",
       "      <td>25.0</td>\n",
       "      <td>15.0</td>\n",
       "      <td>31.0</td>\n",
       "      <td>4.0</td>\n",
       "      <td>14.0</td>\n",
       "      <td>1.0</td>\n",
       "      <td>12.0</td>\n",
       "      <td>0.0</td>\n",
       "      <td>5.0</td>\n",
       "    </tr>\n",
       "    <tr>\n",
       "      <th>ROBBERY</th>\n",
       "      <td>1272.0</td>\n",
       "      <td>1000.0</td>\n",
       "      <td>968.0</td>\n",
       "      <td>366.0</td>\n",
       "      <td>311.0</td>\n",
       "      <td>2125.0</td>\n",
       "      <td>1051.0</td>\n",
       "      <td>2263.0</td>\n",
       "      <td>15.0</td>\n",
       "      <td>99.0</td>\n",
       "      <td>...</td>\n",
       "      <td>2720.0</td>\n",
       "      <td>3031.0</td>\n",
       "      <td>871.0</td>\n",
       "      <td>3131.0</td>\n",
       "      <td>240.0</td>\n",
       "      <td>1232.0</td>\n",
       "      <td>62.0</td>\n",
       "      <td>529.0</td>\n",
       "      <td>76.0</td>\n",
       "      <td>701.0</td>\n",
       "    </tr>\n",
       "    <tr>\n",
       "      <th>THEFT</th>\n",
       "      <td>7710.0</td>\n",
       "      <td>6658.0</td>\n",
       "      <td>8208.0</td>\n",
       "      <td>4563.0</td>\n",
       "      <td>4375.0</td>\n",
       "      <td>18822.0</td>\n",
       "      <td>16595.0</td>\n",
       "      <td>39206.0</td>\n",
       "      <td>467.0</td>\n",
       "      <td>2549.0</td>\n",
       "      <td>...</td>\n",
       "      <td>8245.0</td>\n",
       "      <td>8542.0</td>\n",
       "      <td>4144.0</td>\n",
       "      <td>9859.0</td>\n",
       "      <td>2159.0</td>\n",
       "      <td>4965.0</td>\n",
       "      <td>1275.0</td>\n",
       "      <td>4127.0</td>\n",
       "      <td>4112.0</td>\n",
       "      <td>6410.0</td>\n",
       "    </tr>\n",
       "  </tbody>\n",
       "</table>\n",
       "<p>10 rows × 77 columns</p>\n",
       "</div>"
      ],
      "text/plain": [
       "community_area                  1       2       3       4       5        6   \\\n",
       "primary_type                                                                  \n",
       "ARSON                         28.0    28.0    21.0     9.0    15.0     39.0   \n",
       "ASSAULT                      497.0   380.0   436.0   173.0    94.0    309.0   \n",
       "BATTERY                      680.0   405.0   580.0   162.0   111.0    555.0   \n",
       "BURGLARY                    1532.0  2173.0  1259.0  1109.0  1265.0   3293.0   \n",
       "CRIM SEXUAL ASSAULT          196.0   122.0   240.0    90.0    56.0    288.0   \n",
       "HOMICIDE                      40.0    26.0    42.0     8.0     1.0      8.0   \n",
       "MOTOR VEHICLE THEFT          967.0  1326.0  1247.0   745.0   613.0   1933.0   \n",
       "OFFENSE INVOLVING CHILDREN     9.0    11.0    15.0     6.0     1.0      4.0   \n",
       "ROBBERY                     1272.0  1000.0   968.0   366.0   311.0   2125.0   \n",
       "THEFT                       7710.0  6658.0  8208.0  4563.0  4375.0  18822.0   \n",
       "\n",
       "community_area                   7        8      9       10   ...        68  \\\n",
       "primary_type                                                  ...             \n",
       "ARSON                          18.0     31.0    6.0    11.0   ...     128.0   \n",
       "ASSAULT                       184.0    530.0   28.0    99.0   ...    1363.0   \n",
       "BATTERY                       271.0   1009.0   18.0    81.0   ...    2385.0   \n",
       "BURGLARY                     2419.0   1682.0  132.0   731.0   ...    3228.0   \n",
       "CRIM SEXUAL ASSAULT           158.0    489.0    7.0    42.0   ...     315.0   \n",
       "HOMICIDE                        5.0     33.0    0.0     4.0   ...     208.0   \n",
       "MOTOR VEHICLE THEFT          1459.0   1767.0   63.0   295.0   ...    2008.0   \n",
       "OFFENSE INVOLVING CHILDREN      2.0     10.0    0.0     2.0   ...      25.0   \n",
       "ROBBERY                      1051.0   2263.0   15.0    99.0   ...    2720.0   \n",
       "THEFT                       16595.0  39206.0  467.0  2549.0   ...    8245.0   \n",
       "\n",
       "community_area                  69      70      71      72      73      74  \\\n",
       "primary_type                                                                 \n",
       "ARSON                         80.0    37.0   106.0     7.0    23.0     6.0   \n",
       "ASSAULT                     1328.0   397.0  1497.0    87.0   587.0    54.0   \n",
       "BATTERY                     2221.0   413.0  2171.0    65.0   729.0    44.0   \n",
       "BURGLARY                    3302.0  1804.0  4214.0   678.0  1786.0   214.0   \n",
       "CRIM SEXUAL ASSAULT          310.0    93.0   329.0    19.0   135.0    19.0   \n",
       "HOMICIDE                     151.0    44.0   145.0     6.0    66.0     1.0   \n",
       "MOTOR VEHICLE THEFT         2395.0  1257.0  2553.0   309.0  1291.0   102.0   \n",
       "OFFENSE INVOLVING CHILDREN    25.0    15.0    31.0     4.0    14.0     1.0   \n",
       "ROBBERY                     3031.0   871.0  3131.0   240.0  1232.0    62.0   \n",
       "THEFT                       8542.0  4144.0  9859.0  2159.0  4965.0  1275.0   \n",
       "\n",
       "community_area                  75      76      77  \n",
       "primary_type                                        \n",
       "ARSON                         23.0     3.0    15.0  \n",
       "ASSAULT                      316.0    57.0   258.0  \n",
       "BATTERY                      351.0    46.0   297.0  \n",
       "BURGLARY                    1120.0   156.0  1257.0  \n",
       "CRIM SEXUAL ASSAULT           65.0    26.0   143.0  \n",
       "HOMICIDE                      36.0     4.0    14.0  \n",
       "MOTOR VEHICLE THEFT          726.0   541.0   825.0  \n",
       "OFFENSE INVOLVING CHILDREN    12.0     0.0     5.0  \n",
       "ROBBERY                      529.0    76.0   701.0  \n",
       "THEFT                       4127.0  4112.0  6410.0  \n",
       "\n",
       "[10 rows x 77 columns]"
      ]
     },
     "execution_count": 270,
     "metadata": {},
     "output_type": "execute_result"
    }
   ],
   "source": [
    "type_by_comm = df.pivot_table(values='case_number', \n",
    "                                      index='primary_type', \n",
    "                                      columns='community_area', \n",
    "                                      aggfunc=np.size).fillna(0)\n",
    "type_by_comm"
   ]
  },
  {
   "cell_type": "code",
   "execution_count": 271,
   "metadata": {},
   "outputs": [
    {
     "data": {
      "text/plain": [
       "<matplotlib.axes._subplots.AxesSubplot at 0x15d214ae400>"
      ]
     },
     "execution_count": 271,
     "metadata": {},
     "output_type": "execute_result"
    },
    {
     "data": {
      "image/png": "[encoded data removed]",
      "text/plain": [
       "<Figure size 576x396 with 2 Axes>"
      ]
     },
     "metadata": {},
     "output_type": "display_data"
    }
   ],
   "source": [
    "sns.heatmap(type_by_comm)"
   ]
  },
  {
   "cell_type": "code",
   "execution_count": 261,
   "metadata": {},
   "outputs": [],
   "source": [
    "from sklearn.cluster import AgglomerativeClustering as AC\n",
    "\n",
    "def scale_df(df,axis=0):\n",
    "    '''\n",
    "    A utility function to scale numerical values (z-scale) to have a mean of zero\n",
    "    and a unit variance.\n",
    "    '''\n",
    "    return (df - df.mean(axis=axis)) / df.std(axis=axis)\n",
    "\n",
    "def plot_hmap(df, ix=None, cmap='bwr'):\n",
    "    '''\n",
    "    A function to plot heatmaps that show temporal patterns\n",
    "    '''\n",
    "    if ix is None:\n",
    "        ix = np.arange(df.shape[0])\n",
    "    plt.imshow(df.iloc[ix,:], cmap=cmap)\n",
    "    plt.colorbar(fraction=0.03)\n",
    "    plt.yticks(np.arange(df.shape[0]), df.index[ix])\n",
    "    plt.xticks(np.arange(df.shape[1]))\n",
    "    plt.grid(False)\n",
    "    plt.show()\n",
    "\n",
    "def scale_and_plot(df, ix = None):\n",
    "    '''\n",
    "    A wrapper function to calculate the scaled values within each row of df and plot_hmap\n",
    "    '''\n",
    "    df_marginal_scaled = scale_df(df.T).T\n",
    "    if ix is None:\n",
    "        ix = AC(4).fit(df_marginal_scaled).labels_.argsort() # a trick to make better heatmaps\n",
    "    cap = np.min([np.max(df_marginal_scaled.as_matrix()), np.abs(np.min(df_marginal_scaled.as_matrix()))])\n",
    "    df_marginal_scaled = np.clip(df_marginal_scaled, -1*cap, cap)\n",
    "    plot_hmap(df_marginal_scaled, ix=ix)\n",
    "    \n",
    "def normalize(df):\n",
    "    result = df.copy()\n",
    "    for feature_name in df.columns:\n",
    "        max_value = df[feature_name].max()\n",
    "        min_value = df[feature_name].min()\n",
    "        result[feature_name] = (df[feature_name] - min_value) / (max_value - min_value)\n",
    "    return result"
   ]
  },
  {
   "cell_type": "code",
   "execution_count": 264,
   "metadata": {},
   "outputs": [
    {
     "data": {
      "text/plain": [
       "<matplotlib.axes._subplots.AxesSubplot at 0x15d02d75048>"
      ]
     },
     "execution_count": 264,
     "metadata": {},
     "output_type": "execute_result"
    },
    {
     "data": {
      "image/png": "[encoded data removed]",
      "text/plain": [
       "<Figure size 576x396 with 2 Axes>"
      ]
     },
     "metadata": {},
     "output_type": "display_data"
    }
   ],
   "source": [
    "hour_by_type     = df.pivot_table(values='case_number', \n",
    "                                      index='primary_type', \n",
    "                                      columns=df.index.hour, \n",
    "                                      aggfunc=np.size).fillna(0)\n",
    "sns.heatmap(hour_by_type)"
   ]
  },
  {
   "cell_type": "code",
   "execution_count": 269,
   "metadata": {},
   "outputs": [
    {
     "data": {
      "image/png": "[encoded data removed]",
      "text/plain": [
       "<Figure size 720x576 with 2 Axes>"
      ]
     },
     "metadata": {},
     "output_type": "display_data"
    }
   ],
   "source": [
    "plt.figure(figsize=(10,8))\n",
    "scale_and_plot(hour_by_type)"
   ]
  },
  {
   "cell_type": "code",
   "execution_count": 280,
   "metadata": {},
   "outputs": [],
   "source": [
    "#Community areas by side\n",
    "cen_side = [8,32,33]\n",
    "n_side = [5,6,7,21,22]\n",
    "far_n_side = [1,2,3,4,9,10,11,12,13,14,76,77]\n",
    "nw_side = [15,16,17,18,19,20]\n",
    "w_side = [23,24,25,26,27,28,29,30,31]\n",
    "s_side = [34,35,36,37,38,39,40,41,42,43,60,69]\n",
    "sw_side = [56,57,58,59,61,62,63,64,65,66,67,68]\n",
    "far_se_side =[44,45,46,47,48,49,50,51,52,53,54,55]\n",
    "far_sw_side =[70,71,72,73,74,75]"
   ]
  },
  {
   "cell_type": "code",
   "execution_count": 371,
   "metadata": {},
   "outputs": [
    {
     "name": "stdout",
     "output_type": "stream",
     "text": [
      "<class 'pandas.core.frame.DataFrame'>\n",
      "DatetimeIndex: 951509 entries, 2011-11-19 16:30:00+00:00 to 2018-07-15 16:45:00+00:00\n",
      "Data columns (total 14 columns):\n",
      "case_number             951509 non-null object\n",
      "date                    951509 non-null datetime64[ns, UTC]\n",
      "year                    951509 non-null int64\n",
      "block                   951509 non-null object\n",
      "iucr                    951509 non-null object\n",
      "primary_type            951509 non-null category\n",
      "description             951509 non-null category\n",
      "location_description    951509 non-null category\n",
      "arrest                  951509 non-null bool\n",
      "domestic                951509 non-null bool\n",
      "district                951509 non-null int64\n",
      "community_area          951509 non-null category\n",
      "latitude                951509 non-null float64\n",
      "longitude               951509 non-null float64\n",
      "dtypes: bool(2), category(4), datetime64[ns, UTC](1), float64(2), int64(2), object(3)\n",
      "memory usage: 71.7+ MB\n"
     ]
    }
   ],
   "source": [
    "df.info()"
   ]
  },
  {
   "cell_type": "code",
   "execution_count": 376,
   "metadata": {
    "scrolled": true
   },
   "outputs": [
    {
     "data": {
      "text/plain": [
       "THEFT                         507944\n",
       "BURGLARY                      132837\n",
       "MOTOR VEHICLE THEFT            99985\n",
       "ROBBERY                        91318\n",
       "BATTERY                        59671\n",
       "ASSAULT                        40099\n",
       "CRIM SEXUAL ASSAULT            11091\n",
       "HOMICIDE                        4064\n",
       "ARSON                           3452\n",
       "OFFENSE INVOLVING CHILDREN      1048\n",
       "Name: primary_type, dtype: int64"
      ]
     },
     "execution_count": 376,
     "metadata": {},
     "output_type": "execute_result"
    }
   ],
   "source": [
    "df['primary_type'].value_counts()"
   ]
  },
  {
   "cell_type": "code",
   "execution_count": 378,
   "metadata": {},
   "outputs": [
    {
     "data": {
      "text/plain": [
       "3452"
      ]
     },
     "execution_count": 378,
     "metadata": {},
     "output_type": "execute_result"
    }
   ],
   "source": [
    "len(df[df.primary_type == 'ARSON'])"
   ]
  },
  {
   "cell_type": "code",
   "execution_count": 344,
   "metadata": {},
   "outputs": [
    {
     "ename": "TypeError",
     "evalue": "unsupported operand type(s) for |: 'str' and 'str'",
     "output_type": "error",
     "traceback": [
      "\u001b[1;31m---------------------------------------------------------------------------\u001b[0m",
      "\u001b[1;31mTypeError\u001b[0m                                 Traceback (most recent call last)",
      "\u001b[1;32m<ipython-input-344-79367122085c>\u001b[0m in \u001b[0;36m<module>\u001b[1;34m\u001b[0m\n\u001b[1;32m----> 1\u001b[1;33m \u001b[0mdf\u001b[0m\u001b[1;33m[\u001b[0m\u001b[0mdf\u001b[0m\u001b[1;33m.\u001b[0m\u001b[0mcommunity_area\u001b[0m \u001b[1;33m==\u001b[0m \u001b[1;34m'8'\u001b[0m\u001b[1;33m|\u001b[0m\u001b[1;34m'28'\u001b[0m\u001b[1;33m]\u001b[0m\u001b[1;33m.\u001b[0m\u001b[0mhead\u001b[0m\u001b[1;33m(\u001b[0m\u001b[1;33m)\u001b[0m\u001b[1;33m\u001b[0m\u001b[1;33m\u001b[0m\u001b[0m\n\u001b[0m",
      "\u001b[1;31mTypeError\u001b[0m: unsupported operand type(s) for |: 'str' and 'str'"
     ]
    }
   ],
   "source": [
    "df[df.community_area == '8'|'28'].head()"
   ]
  },
  {
   "cell_type": "markdown",
   "metadata": {},
   "source": [
    "## Geo Viz\n",
    "\n",
    "https://alysivji.github.io/getting-started-with-folium.html\n",
    "https://blog.dominodatalab.com/creating-interactive-crime-maps-with-folium/\n",
    "https://georgetsilva.github.io/posts/mapping-points-with-folium/"
   ]
  },
  {
   "cell_type": "code",
   "execution_count": 125,
   "metadata": {},
   "outputs": [
    {
     "name": "stdout",
     "output_type": "stream",
     "text": [
      "Help on class Map in module folium.folium:\n",
      "\n",
      "class Map(branca.element.MacroElement)\n",
      " |  Create a Map with Folium and Leaflet.js\n",
      " |  \n",
      " |  Generate a base map of given width and height with either default\n",
      " |  tilesets or a custom tileset URL. The following tilesets are built-in\n",
      " |  to Folium. Pass any of the following to the \"tiles\" keyword:\n",
      " |  \n",
      " |      - \"OpenStreetMap\"\n",
      " |      - \"Mapbox Bright\" (Limited levels of zoom for free tiles)\n",
      " |      - \"Mapbox Control Room\" (Limited levels of zoom for free tiles)\n",
      " |      - \"Stamen\" (Terrain, Toner, and Watercolor)\n",
      " |      - \"Cloudmade\" (Must pass API key)\n",
      " |      - \"Mapbox\" (Must pass API key)\n",
      " |      - \"CartoDB\" (positron and dark_matter)\n",
      " |  \n",
      " |  You can pass a custom tileset to Folium by passing a Leaflet-style\n",
      " |  URL to the tiles parameter: ``http://{s}.yourtiles.com/{z}/{x}/{y}.png``\n",
      " |  \n",
      " |  Parameters\n",
      " |  ----------\n",
      " |  location: tuple or list, default None\n",
      " |      Latitude and Longitude of Map (Northing, Easting).\n",
      " |  width: pixel int or percentage string (default: '100%')\n",
      " |      Width of the map.\n",
      " |  height: pixel int or percentage string (default: '100%')\n",
      " |      Height of the map.\n",
      " |  tiles: str, default 'OpenStreetMap'\n",
      " |      Map tileset to use. Can choose from a list of built-in tiles,\n",
      " |      pass a custom URL or pass `None` to create a map without tiles.\n",
      " |  API_key: str, default None\n",
      " |      API key for Cloudmade or Mapbox tiles.\n",
      " |  min_zoom: int, default 0\n",
      " |      Minimum allowed zoom level for the tile layer that is created.\n",
      " |  max_zoom: int, default 18\n",
      " |      Maximum allowed zoom level for the tile layer that is created.\n",
      " |  max_native_zoom: int, default None\n",
      " |      The highest zoom level at which the tile server can provide tiles.\n",
      " |      If provided you can zoom in past this level. Else tiles will turn grey.\n",
      " |  zoom_start: int, default 10\n",
      " |      Initial zoom level for the map.\n",
      " |  attr: string, default None\n",
      " |      Map tile attribution; only required if passing custom tile URL.\n",
      " |  detect_retina: bool, default False\n",
      " |      If true and user is on a retina display, it will request four\n",
      " |      tiles of half the specified size and a bigger zoom level in place\n",
      " |      of one to utilize the high resolution.\n",
      " |  crs : str, default 'EPSG3857'\n",
      " |      Defines coordinate reference systems for projecting geographical points\n",
      " |      into pixel (screen) coordinates and back.\n",
      " |      You can use Leaflet's values :\n",
      " |      * EPSG3857 : The most common CRS for online maps, used by almost all\n",
      " |      free and commercial tile providers. Uses Spherical Mercator projection.\n",
      " |      Set in by default in Map's crs option.\n",
      " |      * EPSG4326 : A common CRS among GIS enthusiasts.\n",
      " |      Uses simple Equirectangular projection.\n",
      " |      * EPSG3395 : Rarely used by some commercial tile providers.\n",
      " |      Uses Elliptical Mercator projection.\n",
      " |      * Simple : A simple CRS that maps longitude and latitude into\n",
      " |      x and y directly. May be used for maps of flat surfaces\n",
      " |      (e.g. game maps). Note that the y axis should still be inverted\n",
      " |      (going from bottom to top).\n",
      " |  control_scale : bool, default False\n",
      " |      Whether to add a control scale on the map.\n",
      " |  prefer_canvas : bool, default False\n",
      " |      Forces Leaflet to use the Canvas back-end (if available) for\n",
      " |      vector layers instead of SVG. This can increase performance\n",
      " |      considerably in some cases (e.g. many thousands of circle\n",
      " |      markers on the map).\n",
      " |  no_touch : bool, default False\n",
      " |      Forces Leaflet to not use touch events even if it detects them.\n",
      " |  disable_3d : bool, default False\n",
      " |      Forces Leaflet to not use hardware-accelerated CSS 3D\n",
      " |      transforms for positioning (which may cause glitches in some\n",
      " |      rare environments) even if they're supported.\n",
      " |  zoom_control : bool, default True\n",
      " |      Display zoom controls on the map.\n",
      " |  \n",
      " |  Returns\n",
      " |  -------\n",
      " |  Folium Map Object\n",
      " |  \n",
      " |  Examples\n",
      " |  --------\n",
      " |  >>> map = folium.Map(location=[45.523, -122.675],\n",
      " |  ...                        width=750, height=500)\n",
      " |  >>> map = folium.Map(location=[45.523, -122.675],\n",
      " |                             tiles='Mapbox Control Room')\n",
      " |  >>> map = folium.Map(location=(45.523, -122.675), max_zoom=20,\n",
      " |                             tiles='Cloudmade', API_key='YourKey')\n",
      " |  >>> map = folium.Map(\n",
      " |  ...    location=[45.523, -122.675],\n",
      " |  ...    zoom_start=2,\n",
      " |  ...    tiles='http://{s}.tiles.mapbox.com/v3/mapbox.control-room/{z}/{x}/{y}.png',\n",
      " |  ...    attr='Mapbox attribution'\n",
      " |  ...)\n",
      " |  \n",
      " |  Method resolution order:\n",
      " |      Map\n",
      " |      branca.element.MacroElement\n",
      " |      branca.element.Element\n",
      " |      builtins.object\n",
      " |  \n",
      " |  Methods defined here:\n",
      " |  \n",
      " |  __init__(self, location=None, width='100%', height='100%', left='0%', top='0%', position='relative', tiles='OpenStreetMap', API_key=None, max_zoom=18, min_zoom=0, max_native_zoom=None, zoom_start=10, world_copy_jump=False, no_wrap=False, attr=None, min_lat=-90, max_lat=90, min_lon=-180, max_lon=180, max_bounds=False, detect_retina=False, crs='EPSG3857', control_scale=False, prefer_canvas=False, no_touch=False, disable_3d=False, subdomains='abc', png_enabled=False, zoom_control=True)\n",
      " |      Initialize self.  See help(type(self)) for accurate signature.\n",
      " |  \n",
      " |  add_tile_layer(self, tiles='OpenStreetMap', name=None, API_key=None, max_zoom=18, min_zoom=0, max_native_zoom=None, attr=None, active=False, detect_retina=False, no_wrap=False, subdomains='abc', **kwargs)\n",
      " |      Add a tile layer to the map. See TileLayer for options.\n",
      " |  \n",
      " |  choropleth(self, *args, **kwargs)\n",
      " |      Call the Choropleth class with the same arguments.\n",
      " |      \n",
      " |      This method may be deleted after a year from now (Nov 2018).\n",
      " |  \n",
      " |  fit_bounds(self, bounds, padding_top_left=None, padding_bottom_right=None, padding=None, max_zoom=None)\n",
      " |      Fit the map to contain a bounding box with the\n",
      " |      maximum zoom level possible.\n",
      " |      \n",
      " |      Parameters\n",
      " |      ----------\n",
      " |      bounds: list of (latitude, longitude) points\n",
      " |          Bounding box specified as two points [southwest, northeast]\n",
      " |      padding_top_left: (x, y) point, default None\n",
      " |          Padding in the top left corner. Useful if some elements in\n",
      " |          the corner, such as controls, might obscure objects you're zooming\n",
      " |          to.\n",
      " |      padding_bottom_right: (x, y) point, default None\n",
      " |          Padding in the bottom right corner.\n",
      " |      padding: (x, y) point, default None\n",
      " |          Equivalent to setting both top left and bottom right padding to\n",
      " |          the same value.\n",
      " |      max_zoom: int, default None\n",
      " |          Maximum zoom to be used.\n",
      " |      \n",
      " |      Examples\n",
      " |      --------\n",
      " |      >>> map.fit_bounds([[52.193636, -2.221575], [52.636878, -1.139759]])\n",
      " |  \n",
      " |  keep_in_front(self, *args)\n",
      " |      Pass one or multiples object that must stay in front.\n",
      " |      \n",
      " |      The ordering matters, the last one is put on top.\n",
      " |      \n",
      " |      Parameters\n",
      " |      ----------\n",
      " |      *args :\n",
      " |          Variable length argument list. Any folium object that counts as an\n",
      " |          overlay. For example FeatureGroup or a vector object such as Marker.\n",
      " |  \n",
      " |  render(self, **kwargs)\n",
      " |      Renders the HTML representation of the element.\n",
      " |  \n",
      " |  ----------------------------------------------------------------------\n",
      " |  Methods inherited from branca.element.Element:\n",
      " |  \n",
      " |  add_child(self, child, name=None, index=None)\n",
      " |      Add a child.\n",
      " |  \n",
      " |  add_children(self, child, name=None, index=None)\n",
      " |      Add a child.\n",
      " |  \n",
      " |  add_to(self, parent, name=None, index=None)\n",
      " |      Add element to a parent.\n",
      " |  \n",
      " |  get_bounds(self)\n",
      " |      Computes the bounds of the object and all it's children\n",
      " |      in the form [[lat_min, lon_min], [lat_max, lon_max]].\n",
      " |  \n",
      " |  get_name(self)\n",
      " |      Returns a string representation of the object.\n",
      " |      This string has to be unique and to be a python and\n",
      " |      javascript-compatible\n",
      " |      variable name.\n",
      " |  \n",
      " |  get_root(self)\n",
      " |      Returns the root of the elements tree.\n",
      " |  \n",
      " |  save(self, outfile, close_file=True, **kwargs)\n",
      " |      Saves an Element into a file.\n",
      " |      \n",
      " |      Parameters\n",
      " |      ----------\n",
      " |      outfile : str or file object\n",
      " |          The file (or filename) where you want to output the html.\n",
      " |      close_file : bool, default True\n",
      " |          Whether the file has to be closed after write.\n",
      " |  \n",
      " |  to_dict(self, depth=-1, ordered=True, **kwargs)\n",
      " |      Returns a dict representation of the object.\n",
      " |  \n",
      " |  to_json(self, depth=-1, **kwargs)\n",
      " |      Returns a JSON representation of the object.\n",
      " |  \n",
      " |  ----------------------------------------------------------------------\n",
      " |  Data descriptors inherited from branca.element.Element:\n",
      " |  \n",
      " |  __dict__\n",
      " |      dictionary for instance variables (if defined)\n",
      " |  \n",
      " |  __weakref__\n",
      " |      list of weak references to the object (if defined)\n",
      "\n"
     ]
    }
   ],
   "source": [
    "help(folium.Map)"
   ]
  },
  {
   "cell_type": "code",
   "execution_count": 32,
   "metadata": {},
   "outputs": [
    {
     "data": {
      "text/html": [
       "<div>\n",
       "<style scoped>\n",
       "    .dataframe tbody tr th:only-of-type {\n",
       "        vertical-align: middle;\n",
       "    }\n",
       "\n",
       "    .dataframe tbody tr th {\n",
       "        vertical-align: top;\n",
       "    }\n",
       "\n",
       "    .dataframe thead th {\n",
       "        text-align: right;\n",
       "    }\n",
       "</style>\n",
       "<table border=\"1\" class=\"dataframe\">\n",
       "  <thead>\n",
       "    <tr style=\"text-align: right;\">\n",
       "      <th></th>\n",
       "      <th>case_number</th>\n",
       "      <th>date</th>\n",
       "      <th>year</th>\n",
       "      <th>block</th>\n",
       "      <th>iucr</th>\n",
       "      <th>primary_type</th>\n",
       "      <th>description</th>\n",
       "      <th>location_description</th>\n",
       "      <th>arrest</th>\n",
       "      <th>domestic</th>\n",
       "      <th>district</th>\n",
       "      <th>community_area</th>\n",
       "      <th>latitude</th>\n",
       "      <th>longitude</th>\n",
       "      <th>location</th>\n",
       "    </tr>\n",
       "    <tr>\n",
       "      <th>date</th>\n",
       "      <th></th>\n",
       "      <th></th>\n",
       "      <th></th>\n",
       "      <th></th>\n",
       "      <th></th>\n",
       "      <th></th>\n",
       "      <th></th>\n",
       "      <th></th>\n",
       "      <th></th>\n",
       "      <th></th>\n",
       "      <th></th>\n",
       "      <th></th>\n",
       "      <th></th>\n",
       "      <th></th>\n",
       "      <th></th>\n",
       "    </tr>\n",
       "  </thead>\n",
       "  <tbody>\n",
       "    <tr>\n",
       "      <th>2011-01-25 07:48:00+00:00</th>\n",
       "      <td>HT134359</td>\n",
       "      <td>2011-01-25 07:48:00+00:00</td>\n",
       "      <td>2011</td>\n",
       "      <td>066XX S NORMAL BLVD</td>\n",
       "      <td>0930</td>\n",
       "      <td>MOTOR VEHICLE THEFT</td>\n",
       "      <td>THEFT/RECOVERY: AUTOMOBILE</td>\n",
       "      <td>STREET</td>\n",
       "      <td>False</td>\n",
       "      <td>True</td>\n",
       "      <td>7</td>\n",
       "      <td>68</td>\n",
       "      <td>41.774174</td>\n",
       "      <td>-87.636848</td>\n",
       "      <td>(41.77417393, -87.636848007)</td>\n",
       "    </tr>\n",
       "  </tbody>\n",
       "</table>\n",
       "</div>"
      ],
      "text/plain": [
       "                          case_number                      date  year  \\\n",
       "date                                                                    \n",
       "2011-01-25 07:48:00+00:00    HT134359 2011-01-25 07:48:00+00:00  2011   \n",
       "\n",
       "                                         block  iucr         primary_type  \\\n",
       "date                                                                        \n",
       "2011-01-25 07:48:00+00:00  066XX S NORMAL BLVD  0930  MOTOR VEHICLE THEFT   \n",
       "\n",
       "                                          description location_description  \\\n",
       "date                                                                         \n",
       "2011-01-25 07:48:00+00:00  THEFT/RECOVERY: AUTOMOBILE               STREET   \n",
       "\n",
       "                           arrest  domestic  district community_area  \\\n",
       "date                                                                   \n",
       "2011-01-25 07:48:00+00:00   False      True         7             68   \n",
       "\n",
       "                            latitude  longitude                      location  \n",
       "date                                                                           \n",
       "2011-01-25 07:48:00+00:00  41.774174 -87.636848  (41.77417393, -87.636848007)  "
      ]
     },
     "execution_count": 32,
     "metadata": {},
     "output_type": "execute_result"
    }
   ],
   "source": [
    "#df = pd.read_csv('../data/filter_data_clean.csv',index_col=0)\n",
    "df.head(1)"
   ]
  },
  {
   "cell_type": "code",
   "execution_count": null,
   "metadata": {},
   "outputs": [],
   "source": [
    "for _ in set(null_data['primary_type']):\n",
    "    pct = len(null_data[null_data.primary_type == _])/len(df[df.primary_type == _])\n",
    "    print(\" %.2f percent of %s has null value\" % (pct*100, _))"
   ]
  },
  {
   "cell_type": "code",
   "execution_count": 31,
   "metadata": {},
   "outputs": [],
   "source": [
    "import folium\n",
    "from folium import plugins"
   ]
  },
  {
   "cell_type": "code",
   "execution_count": 33,
   "metadata": {},
   "outputs": [
    {
     "data": {
      "text/plain": [
       "Index(['case_number', 'date', 'year', 'block', 'iucr', 'primary_type',\n",
       "       'description', 'location_description', 'arrest', 'domestic', 'district',\n",
       "       'community_area', 'latitude', 'longitude', 'location'],\n",
       "      dtype='object')"
      ]
     },
     "execution_count": 33,
     "metadata": {},
     "output_type": "execute_result"
    }
   ],
   "source": [
    "df.columns"
   ]
  },
  {
   "cell_type": "code",
   "execution_count": 116,
   "metadata": {},
   "outputs": [
    {
     "data": {
      "text/html": [
       "<div>\n",
       "<style scoped>\n",
       "    .dataframe tbody tr th:only-of-type {\n",
       "        vertical-align: middle;\n",
       "    }\n",
       "\n",
       "    .dataframe tbody tr th {\n",
       "        vertical-align: top;\n",
       "    }\n",
       "\n",
       "    .dataframe thead th {\n",
       "        text-align: right;\n",
       "    }\n",
       "</style>\n",
       "<table border=\"1\" class=\"dataframe\">\n",
       "  <thead>\n",
       "    <tr style=\"text-align: right;\">\n",
       "      <th></th>\n",
       "      <th>block</th>\n",
       "      <th>arrest</th>\n",
       "      <th>domestic</th>\n",
       "      <th>primary_type</th>\n",
       "      <th>latitude</th>\n",
       "      <th>longitude</th>\n",
       "      <th>location</th>\n",
       "    </tr>\n",
       "    <tr>\n",
       "      <th>date</th>\n",
       "      <th></th>\n",
       "      <th></th>\n",
       "      <th></th>\n",
       "      <th></th>\n",
       "      <th></th>\n",
       "      <th></th>\n",
       "      <th></th>\n",
       "    </tr>\n",
       "  </thead>\n",
       "  <tbody>\n",
       "    <tr>\n",
       "      <th>2016-08-17 14:05:00+00:00</th>\n",
       "      <td>125XX S MICHIGAN AVE</td>\n",
       "      <td>False</td>\n",
       "      <td>False</td>\n",
       "      <td>ASSAULT</td>\n",
       "      <td>41.665069</td>\n",
       "      <td>-87.62003</td>\n",
       "      <td>(41.66506917, -87.620029687)</td>\n",
       "    </tr>\n",
       "  </tbody>\n",
       "</table>\n",
       "</div>"
      ],
      "text/plain": [
       "                                          block  arrest  domestic  \\\n",
       "date                                                                \n",
       "2016-08-17 14:05:00+00:00  125XX S MICHIGAN AVE   False     False   \n",
       "\n",
       "                          primary_type   latitude  longitude  \\\n",
       "date                                                           \n",
       "2016-08-17 14:05:00+00:00      ASSAULT  41.665069  -87.62003   \n",
       "\n",
       "                                               location  \n",
       "date                                                     \n",
       "2016-08-17 14:05:00+00:00  (41.66506917, -87.620029687)  "
      ]
     },
     "execution_count": 116,
     "metadata": {},
     "output_type": "execute_result"
    }
   ],
   "source": [
    "df2016 = df[df.year == 2016][['block','arrest','domestic','primary_type','latitude','longitude','location']]\n",
    "df2016.head(1)"
   ]
  },
  {
   "cell_type": "code",
   "execution_count": 117,
   "metadata": {},
   "outputs": [],
   "source": [
    "sample = df2016.head(100)"
   ]
  },
  {
   "cell_type": "code",
   "execution_count": 120,
   "metadata": {},
   "outputs": [
    {
     "data": {
      "text/plain": [
       "block             object\n",
       "arrest              bool\n",
       "domestic            bool\n",
       "primary_type    category\n",
       "latitude         float64\n",
       "longitude        float64\n",
       "location          object\n",
       "dtype: object"
      ]
     },
     "execution_count": 120,
     "metadata": {},
     "output_type": "execute_result"
    }
   ],
   "source": [
    "sample.dtypes"
   ]
  },
  {
   "cell_type": "code",
   "execution_count": 103,
   "metadata": {},
   "outputs": [
    {
     "data": {
      "text/plain": [
       "[41.883500186999996, -87.627876698]"
      ]
     },
     "execution_count": 103,
     "metadata": {},
     "output_type": "execute_result"
    }
   ],
   "source": [
    "locations = sample[['latitude', 'longitude']]\n",
    "locationlist = locations.values.tolist()\n",
    "#len(locationlist)\n",
    "locationlist[1]"
   ]
  },
  {
   "cell_type": "code",
   "execution_count": 104,
   "metadata": {},
   "outputs": [
    {
     "data": {
      "text/plain": [
       "100"
      ]
     },
     "execution_count": 104,
     "metadata": {},
     "output_type": "execute_result"
    }
   ],
   "source": [
    "len(locationlist)"
   ]
  },
  {
   "cell_type": "code",
   "execution_count": null,
   "metadata": {},
   "outputs": [],
   "source": [
    "'''\n",
    "\"OpenStreetMap\"\n",
    " |      - \"Mapbox Bright\" (Limited levels of zoom for free tiles)\n",
    " |      - \"Mapbox Control Room\" (Limited levels of zoom for free tiles)\n",
    " |      - \"Stamen\" (Terrain, Toner, and Watercolor)\n",
    " |      - \"Cloudmade\" (Must pass API key)\n",
    " |      - \"Mapbox\" (Must pass API key)\n",
    " |      - \"CartoDB\" (positron and dark_matter)\n",
    "'''"
   ]
  },
  {
   "cell_type": "code",
   "execution_count": 100,
   "metadata": {},
   "outputs": [
    {
     "data": {
      "text/plain": [
       "\"map = folium.Map(location=[41.8781,-87.6298],\\n                        zoom_start=12)\\n\\nfor point in range(0, len(locationlist)):\\n    folium.Marker(locationlist[point], popup=sample['block'][point]).add_to(map)\\nmap\""
      ]
     },
     "execution_count": 100,
     "metadata": {},
     "output_type": "execute_result"
    }
   ],
   "source": [
    "'''map = folium.Map(location=[41.8781,-87.6298],\n",
    "                        zoom_start=12)\n",
    "\n",
    "for point in range(0, len(locationlist)):\n",
    "    folium.Marker(locationlist[point], popup=sample['block'][point]).add_to(map)\n",
    "map'''"
   ]
  },
  {
   "cell_type": "code",
   "execution_count": 132,
   "metadata": {},
   "outputs": [
    {
     "data": {
      "text/html": [
       "<div style=\"width:100%;\"><div style=\"position:relative;width:100%;height:0;padding-bottom:60%;\"><iframe src=\"data:text/html;charset=utf-8;base64,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\" style=\"position:absolute;width:100%;height:100%;left:0;top:0;border:none !important;\" allowfullscreen webkitallowfullscreen mozallowfullscreen></iframe></div></div>"
      ],
      "text/plain": [
       "<folium.folium.Map at 0x1aa0ce36eb8>"
      ]
     },
     "execution_count": 132,
     "metadata": {},
     "output_type": "execute_result"
    }
   ],
   "source": [
    "map2 = folium.Map(location=[41.8781,-87.6298], tiles='CartoDB positron',zoom_start=11)\n",
    "\n",
    "'''MarkerCluster(locationlist).add_to(map2)\n",
    "map2'''\n",
    "\n",
    "from folium.plugins import MarkerCluster\n",
    "marker_cluster = MarkerCluster().add_to(map2)\n",
    "\n",
    "for point in range(0, len(locationlist)):\n",
    "    folium.Marker(locationlist[point], popup=sample['primary_type'][point]).add_to(marker_cluster)\n",
    "map2"
   ]
  },
  {
   "cell_type": "code",
   "execution_count": 114,
   "metadata": {},
   "outputs": [
    {
     "data": {
      "text/html": [
       "<div style=\"width:100%;\"><div style=\"position:relative;width:100%;height:0;padding-bottom:60%;\"><iframe src=\"data:text/html;charset=utf-8;base64,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\" style=\"position:absolute;width:100%;height:100%;left:0;top:0;border:none !important;\" allowfullscreen webkitallowfullscreen mozallowfullscreen></iframe></div></div>"
      ],
      "text/plain": [
       "<folium.folium.Map at 0x1aa038150b8>"
      ]
     },
     "execution_count": 114,
     "metadata": {},
     "output_type": "execute_result"
    }
   ],
   "source": [
    "from folium.plugins import HeatMap\n",
    "map4 = folium.Map(location=[41.8781,-87.6298], zoom_start=12)\n",
    "\n",
    "'''\n",
    "marker_heat = HeatMap(locationlist).add_to(map4)\n",
    "for point in range(0, len(locationlist)):\n",
    "    folium.Marker(locationlist[point], popup=sample['block'][point]).add_to(marker_heat)\n",
    "map4'''\n",
    "\n",
    "HeatMap(locationlist).add_to(map4)\n",
    "map4"
   ]
  },
  {
   "cell_type": "code",
   "execution_count": 124,
   "metadata": {},
   "outputs": [],
   "source": [
    "#help(folium.Map)"
   ]
  },
  {
   "cell_type": "code",
   "execution_count": 115,
   "metadata": {},
   "outputs": [],
   "source": [
    "def map_points(df, lat_col='latitude', lon_col='longitude', zoom_start=11, \\\n",
    "                plot_points=False, pt_radius=15, \\\n",
    "                draw_heatmap=False, heat_map_weights_col=None, \\\n",
    "                heat_map_weights_normalize=True, heat_map_radius=15):\n",
    "    \"\"\"Creates a map given a dataframe of points. Can also produce a heatmap overlay\n",
    "\n",
    "    Arg:\n",
    "        df: dataframe containing points to maps\n",
    "        lat_col: Column containing latitude (string)\n",
    "        lon_col: Column containing longitude (string)\n",
    "        zoom_start: Integer representing the initial zoom of the map\n",
    "        plot_points: Add points to map (boolean)\n",
    "        pt_radius: Size of each point\n",
    "        draw_heatmap: Add heatmap to map (boolean)\n",
    "        heat_map_weights_col: Column containing heatmap weights\n",
    "        heat_map_weights_normalize: Normalize heatmap weights (boolean)\n",
    "        heat_map_radius: Size of heatmap point\n",
    "\n",
    "    Returns:\n",
    "        folium map object\n",
    "    \"\"\"\n",
    "\n",
    "    ## center map in the middle of points center in\n",
    "    middle_lat = df[lat_col].median()\n",
    "    middle_lon = df[lon_col].median()\n",
    "\n",
    "    curr_map = folium.Map(location=[middle_lat, middle_lon],\n",
    "                          zoom_start=zoom_start)\n",
    "\n",
    "    # add points to map\n",
    "    if plot_points:\n",
    "        for _, row in df.iterrows():\n",
    "            folium.CircleMarker([row[lat_col], row[lon_col]],\n",
    "                                radius=pt_radius,\n",
    "                                popup=row['name'],\n",
    "                                fill_color=\"#3db7e4\", # divvy color\n",
    "                               ).add_to(curr_map)\n",
    "\n",
    "    # add heatmap\n",
    "    if draw_heatmap:\n",
    "        # convert to (n, 2) or (n, 3) matrix format\n",
    "        if heat_map_weights_col is None:\n",
    "            cols_to_pull = [lat_col, lon_col]\n",
    "        else:\n",
    "            # if we have to normalize\n",
    "            if heat_map_weights_normalize:\n",
    "                df[heat_map_weights_col] = \\\n",
    "                    df[heat_map_weights_col] / df[heat_map_weights_col].sum()\n",
    "\n",
    "            cols_to_pull = [lat_col, lon_col, heat_map_weights_col]\n",
    "\n",
    "        stations = df[cols_to_pull].as_matrix()\n",
    "        curr_map.add_children(plugins.HeatMap(stations, radius=heat_map_radius))\n",
    "\n",
    "    return curr_map"
   ]
  },
  {
   "cell_type": "code",
   "execution_count": null,
   "metadata": {},
   "outputs": [],
   "source": [
    "mapPoints(sample, plotPoints=True, drawHeatmap=True, heatMapWeightsNormalize=True,\n",
    "          heatMapWeightsCol='numTrips')"
   ]
  },
  {
   "cell_type": "markdown",
   "metadata": {},
   "source": [
    "**What categories of crime exhibited the greatest year-over-year increase between 2015 and 2016?**\n",
    "\n",
    "This query summarizes the number of arrests by year for 2015 and 2016 and the percentage increase between them. \n",
    "\n",
    "The query limits the dataset to crime classifications with more than 100 arrests in 2015 and shows the top 10 rates of increase."
   ]
  },
  {
   "cell_type": "code",
   "execution_count": null,
   "metadata": {},
   "outputs": [],
   "source": []
  },
  {
   "cell_type": "code",
   "execution_count": 19,
   "metadata": {},
   "outputs": [
    {
     "data": {
      "text/html": [
       "<div>\n",
       "<style scoped>\n",
       "    .dataframe tbody tr th:only-of-type {\n",
       "        vertical-align: middle;\n",
       "    }\n",
       "\n",
       "    .dataframe tbody tr th {\n",
       "        vertical-align: top;\n",
       "    }\n",
       "\n",
       "    .dataframe thead th {\n",
       "        text-align: right;\n",
       "    }\n",
       "</style>\n",
       "<table border=\"1\" class=\"dataframe\">\n",
       "  <thead>\n",
       "    <tr style=\"text-align: right;\">\n",
       "      <th></th>\n",
       "      <th>primary_type</th>\n",
       "      <th>description</th>\n",
       "      <th>arrests_2015</th>\n",
       "      <th>arrests_2016</th>\n",
       "      <th>pct_change_2015_to_2016</th>\n",
       "    </tr>\n",
       "  </thead>\n",
       "  <tbody>\n",
       "    <tr>\n",
       "      <th>0</th>\n",
       "      <td>OTHER OFFENSE</td>\n",
       "      <td>VEHICLE TITLE/REG OFFENSE</td>\n",
       "      <td>288</td>\n",
       "      <td>418</td>\n",
       "      <td>45.14</td>\n",
       "    </tr>\n",
       "    <tr>\n",
       "      <th>1</th>\n",
       "      <td>OTHER OFFENSE</td>\n",
       "      <td>FALSE/STOLEN/ALTERED TRP</td>\n",
       "      <td>299</td>\n",
       "      <td>418</td>\n",
       "      <td>39.80</td>\n",
       "    </tr>\n",
       "    <tr>\n",
       "      <th>2</th>\n",
       "      <td>HOMICIDE</td>\n",
       "      <td>FIRST DEGREE MURDER</td>\n",
       "      <td>178</td>\n",
       "      <td>242</td>\n",
       "      <td>35.96</td>\n",
       "    </tr>\n",
       "    <tr>\n",
       "      <th>3</th>\n",
       "      <td>NARCOTICS</td>\n",
       "      <td>FOUND SUSPECT NARCOTICS</td>\n",
       "      <td>654</td>\n",
       "      <td>843</td>\n",
       "      <td>28.90</td>\n",
       "    </tr>\n",
       "    <tr>\n",
       "      <th>4</th>\n",
       "      <td>MOTOR VEHICLE THEFT</td>\n",
       "      <td>AUTOMOBILE</td>\n",
       "      <td>779</td>\n",
       "      <td>872</td>\n",
       "      <td>11.94</td>\n",
       "    </tr>\n",
       "    <tr>\n",
       "      <th>5</th>\n",
       "      <td>ASSAULT</td>\n",
       "      <td>AGGRAVATED: HANDGUN</td>\n",
       "      <td>468</td>\n",
       "      <td>523</td>\n",
       "      <td>11.75</td>\n",
       "    </tr>\n",
       "    <tr>\n",
       "      <th>6</th>\n",
       "      <td>ROBBERY</td>\n",
       "      <td>ARMED: HANDGUN</td>\n",
       "      <td>233</td>\n",
       "      <td>252</td>\n",
       "      <td>8.15</td>\n",
       "    </tr>\n",
       "    <tr>\n",
       "      <th>7</th>\n",
       "      <td>LIQUOR LAW VIOLATION</td>\n",
       "      <td>LIQUOR LICENSE VIOLATION</td>\n",
       "      <td>134</td>\n",
       "      <td>144</td>\n",
       "      <td>7.46</td>\n",
       "    </tr>\n",
       "    <tr>\n",
       "      <th>8</th>\n",
       "      <td>OTHER OFFENSE</td>\n",
       "      <td>OTHER VEHICLE OFFENSE</td>\n",
       "      <td>194</td>\n",
       "      <td>204</td>\n",
       "      <td>5.15</td>\n",
       "    </tr>\n",
       "    <tr>\n",
       "      <th>9</th>\n",
       "      <td>MOTOR VEHICLE THEFT</td>\n",
       "      <td>THEFT/RECOVERY: AUTOMOBILE</td>\n",
       "      <td>164</td>\n",
       "      <td>171</td>\n",
       "      <td>4.27</td>\n",
       "    </tr>\n",
       "  </tbody>\n",
       "</table>\n",
       "</div>"
      ],
      "text/plain": [
       "           primary_type                 description  arrests_2015  \\\n",
       "0         OTHER OFFENSE   VEHICLE TITLE/REG OFFENSE           288   \n",
       "1         OTHER OFFENSE    FALSE/STOLEN/ALTERED TRP           299   \n",
       "2              HOMICIDE         FIRST DEGREE MURDER           178   \n",
       "3             NARCOTICS     FOUND SUSPECT NARCOTICS           654   \n",
       "4   MOTOR VEHICLE THEFT                  AUTOMOBILE           779   \n",
       "5               ASSAULT         AGGRAVATED: HANDGUN           468   \n",
       "6               ROBBERY              ARMED: HANDGUN           233   \n",
       "7  LIQUOR LAW VIOLATION    LIQUOR LICENSE VIOLATION           134   \n",
       "8         OTHER OFFENSE       OTHER VEHICLE OFFENSE           194   \n",
       "9   MOTOR VEHICLE THEFT  THEFT/RECOVERY: AUTOMOBILE           164   \n",
       "\n",
       "   arrests_2016 pct_change_2015_to_2016  \n",
       "0           418                   45.14  \n",
       "1           418                   39.80  \n",
       "2           242                   35.96  \n",
       "3           843                   28.90  \n",
       "4           872                   11.94  \n",
       "5           523                   11.75  \n",
       "6           252                    8.15  \n",
       "7           144                    7.46  \n",
       "8           204                    5.15  \n",
       "9           171                    4.27  "
      ]
     },
     "execution_count": 19,
     "metadata": {},
     "output_type": "execute_result"
    }
   ],
   "source": [
    "query = '''\n",
    "#standardSQL\n",
    "SELECT\n",
    "  primary_type,\n",
    "  description,\n",
    "  COUNTIF(year = 2015) AS arrests_2015,\n",
    "  COUNTIF(year = 2016) AS arrests_2016,\n",
    "  FORMAT('%3.2f', (COUNTIF(year = 2016) - COUNTIF(year = 2015)) / COUNTIF(year = 2015)*100) AS pct_change_2015_to_2016\n",
    "FROM\n",
    "  `bigquery-public-data.chicago_crime.crime`\n",
    "WHERE\n",
    "  arrest = TRUE\n",
    "  AND year IN (2015,2016)\n",
    "GROUP BY\n",
    "  primary_type,\n",
    "  description\n",
    "HAVING\n",
    "  COUNTIF(year = 2015) > 100\n",
    "ORDER BY\n",
    "  (COUNTIF(year = 2016) - COUNTIF(year = 2015)) / COUNTIF(year = 2015) DESC\n",
    "'''\n",
    "\n",
    "df = client.query(query).to_dataframe()\n",
    "df.head(10)"
   ]
  },
  {
   "cell_type": "code",
   "execution_count": 20,
   "metadata": {},
   "outputs": [
    {
     "data": {
      "text/plain": [
       "primary_type               object\n",
       "description                object\n",
       "arrests_2015                int64\n",
       "arrests_2016                int64\n",
       "pct_change_2015_to_2016    object\n",
       "dtype: object"
      ]
     },
     "execution_count": 20,
     "metadata": {},
     "output_type": "execute_result"
    }
   ],
   "source": [
    "df.dtypes"
   ]
  },
  {
   "cell_type": "code",
   "execution_count": 21,
   "metadata": {},
   "outputs": [
    {
     "data": {
      "text/plain": [
       "primary_type                object\n",
       "description                 object\n",
       "arrests_2015                 int64\n",
       "arrests_2016                 int64\n",
       "pct_change_2015_to_2016    float64\n",
       "dtype: object"
      ]
     },
     "execution_count": 21,
     "metadata": {},
     "output_type": "execute_result"
    }
   ],
   "source": [
    "df['pct_change_2015_to_2016']= df['pct_change_2015_to_2016'].apply(pd.to_numeric)\n",
    "df.dtypes"
   ]
  },
  {
   "cell_type": "code",
   "execution_count": null,
   "metadata": {},
   "outputs": [],
   "source": [
    "sns.lineplot(x=\"description\", y=\"pct_change_2015_to_2016\", data=df)"
   ]
  },
  {
   "cell_type": "markdown",
   "metadata": {},
   "source": [
    "**Which month generally has the greatest number of motor vehicle thefts?**\n",
    "\n",
    "The following query summarizes the number of MOTOR VEHICLE THEFT incidents for each year and month, and ranks the month’s total from 1 to 12. Then, the outer SELECT clause limits the final result set to the first overall ranking for each year. According to the data, in 3 of the past 10 years, December had the highest number of car thefts."
   ]
  },
  {
   "cell_type": "code",
   "execution_count": null,
   "metadata": {},
   "outputs": [],
   "source": [
    "query = '''\n",
    "#standardSQL\n",
    "SELECT\n",
    "  year,\n",
    "  month,\n",
    "  incidents\n",
    "FROM (\n",
    "  SELECT\n",
    "    year,\n",
    "    EXTRACT(MONTH\n",
    "    FROM\n",
    "      date) AS month,\n",
    "    COUNT(1) AS incidents,\n",
    "    RANK() OVER (PARTITION BY year ORDER BY COUNT(1) DESC) AS ranking\n",
    "  FROM\n",
    "    `bigquery-public-data.chicago_crime.crime`\n",
    "  WHERE\n",
    "    primary_type = 'MOTOR VEHICLE THEFT'\n",
    "    AND year <= 2016\n",
    "  GROUP BY\n",
    "    year,\n",
    "    month )\n",
    "WHERE\n",
    "  ranking = 1\n",
    "ORDER BY\n",
    "  year DESC\n",
    "'''\n",
    "\n",
    "output = bq.Query(query).execute().result()\n",
    "output"
   ]
  }
 ],
 "metadata": {
  "kernelspec": {
   "display_name": "Python 3",
   "language": "python",
   "name": "python3"
  },
  "language_info": {
   "codemirror_mode": {
    "name": "ipython",
    "version": 3
   },
   "file_extension": ".py",
   "mimetype": "text/x-python",
   "name": "python",
   "nbconvert_exporter": "python",
   "pygments_lexer": "ipython3",
   "version": "3.6.7"
  }
 },
 "nbformat": 4,
 "nbformat_minor": 2
}
