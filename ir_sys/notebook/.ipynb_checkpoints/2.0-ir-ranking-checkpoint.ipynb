{
 "cells": [
  {
   "cell_type": "code",
   "execution_count": null,
   "metadata": {},
   "outputs": [],
   "source": [
    "%load_ext watermark"
   ]
  },
  {
   "cell_type": "code",
   "execution_count": null,
   "metadata": {},
   "outputs": [],
   "source": [
    "%watermark -a \"Ruiyu Hu\" -d -v -m"
   ]
  },
  {
   "cell_type": "code",
   "execution_count": 31,
   "metadata": {},
   "outputs": [
    {
     "name": "stderr",
     "output_type": "stream",
     "text": [
      "C:\\Users\\RayHu\\Anaconda3\\lib\\site-packages\\requests\\__init__.py:91: RequestsDependencyWarning: urllib3 (1.23) or chardet (2.3.0) doesn't match a supported version!\n",
      "  RequestsDependencyWarning)\n"
     ]
    }
   ],
   "source": [
    "# read the pdf file\n",
    "import PyPDF2 \n",
    "\n",
    "# tokenize\n",
    "import nltk\n",
    "from nltk.corpus import stopwords\n",
    "from nltk.tokenize import word_tokenize\n",
    "\n",
    "# create inverse index\n",
    "from collections import defaultdict\n",
    "\n",
    "import glob\n",
    "import json\n",
    "import operator\n",
    "from collections import Counter\n",
    "\n",
    "#for google api \n",
    "# set up env locally\n",
    "import os\n",
    "os.environ[\"GOOGLE_APPLICATION_CREDENTIALS\"] = r'C:\\Users\\RayHu\\ruiyu-gcp-4ac10836d3b1.json' \n",
    "\n",
    "from google.cloud import language\n",
    "from google.cloud.language import enums\n",
    "from google.cloud.language import types\n",
    "\n",
    "\n",
    "import numpy as np\n",
    "import pandas as pd\n",
    "\n",
    "from sklearn.feature_extraction.text import CountVectorizer,TfidfTransformer\n",
    "\n",
    "\n",
    "import warnings\n",
    "warnings.filterwarnings('ignore')"
   ]
  },
  {
   "cell_type": "markdown",
   "metadata": {},
   "source": [
    "**Create Tokenize**"
   ]
  },
  {
   "cell_type": "code",
   "execution_count": 205,
   "metadata": {},
   "outputs": [],
   "source": [
    "def clean_token(text):\n",
    "    #porter = nltk.PorterStemmer()\n",
    "    lemmatizer = nltk.WordNetLemmatizer()\n",
    "    tokens = text.lower() # case-folding (of the whole text string)\n",
    "    tokens = word_tokenize(tokens) # default tokenizer\n",
    "    tokens = [w for w in tokens if w not in stopwords.words('english')] # filter English stopwords\n",
    "    #tokens = [w for w in tokens if len(w) > 2]\n",
    "    #tokens = [porter.stem(tok) for tok in tokens] # apply stemmer\n",
    "    tokens = [lemmatizer.lemmatize(tok) for tok in tokens]\n",
    "    tokens = [w for w in tokens if w.isalpha()] # filter tokens that contain non-alphabetic character(s)\n",
    "    return tokens\n",
    "\n",
    "def tokenize(path):\n",
    "    # open PDF\n",
    "    pdf = PyPDF2.PdfFileReader(open(str(path),\"rb\"))\n",
    "    #stopword_list = list(stopwords.words(\"english\"))\n",
    "\n",
    "    #read PDF file in a list\n",
    "    pdf_content = []\n",
    "    for page in pdf.pages:\n",
    "        pdf_content.append(page.extractText())\n",
    "    \n",
    "    # create a list of token\n",
    "    \n",
    "    tokens = [None] * len(pdf_content)\n",
    "    for i in range(len(pdf_content)):\n",
    "        tokens[i] = clean_token(pdf_content[i])\n",
    "    tokens = [t for tok in tokens for t in tok] \n",
    "    \n",
    "    return tokens"
   ]
  },
  {
   "cell_type": "markdown",
   "metadata": {},
   "source": [
    "**create index**"
   ]
  },
  {
   "cell_type": "code",
   "execution_count": 206,
   "metadata": {},
   "outputs": [],
   "source": [
    "def get_file_names():\n",
    "    files = []\n",
    "    #'../data/solarhrm*.pdf'\n",
    "    for file in glob.glob(\"../data/documents/*.pdf\"):\n",
    "    #for file in glob.glob('../data/documents/*.txt'):\n",
    "        files.append(file)\n",
    "    return files\n",
    "\n",
    "def make_index(tokens, document_name, index, length):\n",
    "    for term in set(tokens):\n",
    "        index[term].append([document_name,tokens.count(term)])\n",
    "        length[document_name] = len(set(tokens))\n",
    "\n",
    "# saving index into json        \n",
    "def write(inverted_index,length_index):\n",
    "    inv_index_file = open(\"../data/indexes/inverted_index.json\",\"w\")\n",
    "    json.dump(inverted_index,inv_index_file)\n",
    "\n",
    "    length_index_file = open(\"../data/indexes/length_index.json\",\"w\")\n",
    "    json.dump(length_index,length_index_file)\n",
    "    \n",
    "def generator():\n",
    "    resume_files = get_file_names()\n",
    "    inverted_index = defaultdict(list)\n",
    "    length_index = defaultdict(list)\n",
    "    for file in resume_files:\n",
    "        make_index(tokenize(file), file, inverted_index, length_index)\n",
    "    write(inverted_index,length_index)\n",
    "    print (\"Indexes generated\")"
   ]
  },
  {
   "cell_type": "code",
   "execution_count": 207,
   "metadata": {},
   "outputs": [
    {
     "name": "stdout",
     "output_type": "stream",
     "text": [
      "Indexes generated\n"
     ]
    }
   ],
   "source": [
    "dirname, filename = os.path.split(path)"
   ]
  },
  {
   "cell_type": "markdown",
   "metadata": {},
   "source": [
    "**create retrieval-The BM25 Weighting Scheme**"
   ]
  },
  {
   "cell_type": "markdown",
   "metadata": {},
   "source": [
    "**Formula**\n",
    "\n",
    "\n",
    "For query Q and document d, we have BM25 d of Q:\n",
    "\n",
    "$ score(D,Q)=\\frac{(k_2+1)qf_i}{k_2+qf_i}\\times \\frac{(k_1+1)\\times f_i}{f_i+K}\\times ln(\\frac{(r_i+0.5)/(R-r_i+0.5)}{(n_i-r_i+0.5)/(N-n_i-R+r_i+0.5)}+1)$\n",
    "\n",
    "> Reference: Elasticsearch and IR Text Book Fomula 11.33\n",
    "\n",
    "* $r_i$ is the # of relevant documents containing term i \n",
    "* $n_i$  is the # of docs containing term i\n",
    "* $N$ is the total # of docs in the collection\n",
    "* $R$ is the number of relevant documents for this query  (set to 0 if no relevancy info is known)\n",
    "* $f_i$  is the frequency of term i in the doc under consideration\n",
    "* $qf_i$ is the frequency of term i in the query\n",
    "* $k_1$ determines how the tf component of the term weight changes as $f_i$\n",
    "  increases. (if 0, then tf component is ignored.) \n",
    "* $k_2$ Typical values make the equation less sensitive to k2 than k1 because query term frequencies are much lower and less variable than doc term frequencies.\n",
    "* $K$ It equals to ($k_1(1-b+b\\times l_d/avg\\_l)$). Its role is basically to normalize the tf component by document length.\n",
    "* $b$ regulates the impact of length normalization. (0 means none; 1 is full normalization.) \n",
    "* $ln$: if $n_i$ > $\\frac{N}{2}$, the result of $ln$ could be negative. Therefore, we plus 1 here\n"
   ]
  },
  {
   "cell_type": "code",
   "execution_count": 352,
   "metadata": {},
   "outputs": [],
   "source": [
    "from math import log\n",
    "\n",
    "'''\n",
    "IR Book: 11.4.3\n",
    "Fomula: 11.33\n",
    "'''\n",
    "'''\n",
    "typical TREC value (Text Retrieval Conference (TREC).)\n",
    "f1 = 1.2\n",
    "k2 varies from 0 to 1000\n",
    "b = 0.75\n",
    "'''\n",
    "\n",
    "k1 = 1.2\n",
    "b = 0.75\n",
    "k2 = 100\n",
    "R = 0 # (set it to 0 since no relevancy info is known)\n",
    "\n",
    "\n",
    "def BM25(docLen, avDocLen, n, N, f, q, r):\n",
    "    '''\n",
    "        #docLen, avDocLen, n, N, f, q, r\n",
    "        #𝑛  is the # of docs containing term i\n",
    "        #N is the total # of docs in the collection\n",
    "        #f is the frequency of term i in the doc under consideration\n",
    "        #𝑞𝑓𝑖  is the frequency of term i in the query\n",
    "        #𝑟𝑖  is the # of relevant documents containing term i\n",
    "    '''\n",
    "    p1 = ((k2 + 1) * q) / (k2 + q) #Relevance between term and query\n",
    "    p2 = ((k1 + 1) * f) / (getK(docLen, avDocLen) + f) #Relevance between term and document\n",
    "    p3 = log((((r + 0.5)/(R-r+0.5)) / ((n - r + 0.5)/(N - n - R + r + 0.5)))+1) # Term Weight\n",
    "    return p1 * p2 * p3\n",
    "\n",
    "def getK(docLen, avDocLen):\n",
    "    return k1 * ((1 - b) + b * (float(docLen) / float(avDocLen)))"
   ]
  },
  {
   "cell_type": "markdown",
   "metadata": {},
   "source": [
    "**create Ranker**"
   ]
  },
  {
   "cell_type": "code",
   "execution_count": 379,
   "metadata": {},
   "outputs": [],
   "source": [
    "# get average document length\n",
    "def get_avdl(length_index):\n",
    "    corpus_length = 0\n",
    "    for document in length_index:\n",
    "        corpus_length += length_index[document]\n",
    "    return float(corpus_length) / float(len(length_index))\n",
    "\n",
    "import math\n",
    "def sigmoid(x):\n",
    "    return 1 / (1 + math.exp(-x))\n",
    "\n",
    "def search(query):\n",
    "    inv_index_file = open(\"../data/indexes/inverted_index.json\",\"r\")\n",
    "    inverted_index = json.load(inv_index_file)\n",
    "\n",
    "    length_index_file = open(\"../data/indexes/length_index.json\",\"r\")\n",
    "    length_index = json.load(length_index_file)\n",
    "\n",
    "    scores = defaultdict(list)\n",
    "    query_tokens = query.split()\n",
    "    for token in query_tokens:\n",
    "    #for token in query:\n",
    "        if token in inverted_index.keys():\n",
    "            for entry in inverted_index[token]:\n",
    "                bm25_val = BM25(length_index[entry[0]],get_avdl(length_index),len(inverted_index[token]),len(length_index),entry[1],1,0)\n",
    "                scores[entry[0].replace('../data/documents\\\\','')] = round((10* sigmoid(bm25_val)-5),2)\n",
    "    result = sorted(scores.items(),key=operator.itemgetter(1),reverse=True)\n",
    "    #result = sorted(norm_scores.items(), key = operator.itemgetter(1), reverse = True)\n",
    "    return result"
   ]
  },
  {
   "cell_type": "code",
   "execution_count": 380,
   "metadata": {},
   "outputs": [],
   "source": [
    "def matching(keyword):\n",
    "    #generator()\n",
    "    results = search(keyword)[:5]\n",
    "    \n",
    "    for result in results:\n",
    "        print(result)"
   ]
  },
  {
   "cell_type": "code",
   "execution_count": 381,
   "metadata": {},
   "outputs": [
    {
     "name": "stdout",
     "output_type": "stream",
     "text": [
      "('ml005.pdf', 2.73)\n",
      "('ml002.pdf', 2.68)\n",
      "('ml001.pdf', 2.54)\n",
      "('ds004.pdf', 2.4)\n",
      "('ds002.pdf', 2.32)\n"
     ]
    }
   ],
   "source": [
    "results = matching('Experience with supervised and unsupervised machine learning algorithms, and ensemble methods, such as: K-Means, PCA, Regression, Neural Networks, Decision Trees, Gradient Boosting')"
   ]
  },
  {
   "cell_type": "markdown",
   "metadata": {},
   "source": [
    "## Jd side"
   ]
  },
  {
   "cell_type": "code",
   "execution_count": null,
   "metadata": {},
   "outputs": [],
   "source": []
  },
  {
   "cell_type": "code",
   "execution_count": null,
   "metadata": {},
   "outputs": [],
   "source": [
    "def clean_jd_1(dirt):\n",
    "    '''\n",
    "    Method 1: only keep noun in the job description\n",
    "    '''\n",
    "    lst = tokenize(dirt)\n",
    "    \n",
    "    client = language.LanguageServiceClient()\n",
    "    # part-of-speech tags from list(enums.PartOfSpeech.Tag)\n",
    "    pos_tag = ('UNKNOWN', 'ADJ', 'ADP', 'ADV', 'CONJ', 'DET', 'NOUN', 'NUM',\n",
    "               'PRON', 'PRT', 'PUNCT', 'VERB', 'X', 'AFFIX')\n",
    "    tags = ['NOUN']\n",
    "    \n",
    "    output = []\n",
    "    for _ in lst:\n",
    "        #output =[]\n",
    "        #doc = ' '.join(_)\n",
    "        document = language.types.Document(content = _, type=enums.Document.Type.PLAIN_TEXT)\n",
    "        tokens = client.analyze_syntax(document).tokens\n",
    "        for token in tokens:\n",
    "            if pos_tag[token.part_of_speech.tag] in tags:\n",
    "                output.append(token.text.content)\n",
    "                \n",
    "    c = Counter(output)\n",
    "    query = [key for key, val in c.most_common(20)]\n",
    "    \n",
    "    return query"
   ]
  },
  {
   "cell_type": "code",
   "execution_count": 212,
   "metadata": {},
   "outputs": [],
   "source": [
    "def clean_jd_2(dirt):\n",
    "    '''\n",
    "    method 2: terms sorted by tf idf weights\n",
    "    '''\n",
    "    doc = tokenize(dirt)\n",
    "    \n",
    "    cv=CountVectorizer(stop_words=stopwords.words('english'))\n",
    "    word_count_vector=cv.fit_transform(doc)\n",
    "    \n",
    "    #calculate the weights for each term in each document\n",
    "    tfidf_transformer=TfidfTransformer()\n",
    "    tf_idf_vector = tfidf_transformer.fit_transform(word_count_vector)\n",
    "    #the top 20 terms by average tf-idf weight\n",
    "    weights = np.asarray(tf_idf_vector.mean(axis=0)).ravel().tolist()\n",
    "    weights_df = pd.DataFrame({'term': cv.get_feature_names(), 'weight': weights}).sort_values(by='weight', ascending=False).head(20)\n",
    "    return weights_df.term.tolist()"
   ]
  },
  {
   "cell_type": "markdown",
   "metadata": {},
   "source": [
    "## Search"
   ]
  },
  {
   "cell_type": "code",
   "execution_count": 213,
   "metadata": {},
   "outputs": [],
   "source": [
    "dirt = '../data/job_description/ml-jd-adobe.pdf'"
   ]
  },
  {
   "cell_type": "code",
   "execution_count": 216,
   "metadata": {},
   "outputs": [],
   "source": [
    "# method 1\n",
    "#search(clean_jd_1(dirt))"
   ]
  },
  {
   "cell_type": "code",
   "execution_count": 215,
   "metadata": {},
   "outputs": [
    {
     "name": "stdout",
     "output_type": "stream",
     "text": [
      "[('../data/documents\\\\da002.pdf', 1.9554483101714493), ('../data/documents\\\\ds002.pdf', 1.939375031370122), ('../data/documents\\\\ml001.pdf', 1.5029566680437219), ('../data/documents\\\\de005.pdf', 1.170008090489953), ('../data/documents\\\\de001.pdf', 0.0), ('../data/documents\\\\de004.pdf', 0.0), ('../data/documents\\\\ds001.pdf', 0.0), ('../data/documents\\\\ds003.pdf', 0.0), ('../data/documents\\\\ds004.pdf', 0.0), ('../data/documents\\\\ml002.pdf', 0.0), ('../data/documents\\\\da003.pdf', 0.0), ('../data/documents\\\\da001.pdf', 0.0), ('../data/documents\\\\ml004.pdf', 0.0), ('../data/documents\\\\ds005.pdf', -0.17746847325794762), ('../data/documents\\\\da004.pdf', -0.18782871493816702), ('../data/documents\\\\ml003.pdf', -0.2026139425178263), ('../data/documents\\\\de003.pdf', -0.2162306887947264), ('../data/documents\\\\de002.pdf', -0.2892254673064674), ('../data/documents\\\\da005.pdf', -0.33071276322252563), ('../data/documents\\\\ml005.pdf', -2.9816561435328213)]\n"
     ]
    }
   ],
   "source": [
    "# method 2\n",
    "print(search(clean_jd_2(dirt)))"
   ]
  },
  {
   "cell_type": "markdown",
   "metadata": {},
   "source": [
    "## approach 2 test"
   ]
  },
  {
   "cell_type": "code",
   "execution_count": null,
   "metadata": {},
   "outputs": [],
   "source": [
    "jd = pd.read_json('../data/jd/data_scientist.json').T\n",
    "jd.head()"
   ]
  },
  {
   "cell_type": "code",
   "execution_count": null,
   "metadata": {},
   "outputs": [],
   "source": [
    "from pprint import pprint\n",
    "pprint(jd.posting[0])"
   ]
  },
  {
   "cell_type": "code",
   "execution_count": null,
   "metadata": {},
   "outputs": [],
   "source": [
    "jd.posting[1]"
   ]
  },
  {
   "cell_type": "code",
   "execution_count": null,
   "metadata": {},
   "outputs": [],
   "source": [
    "pprint(jd.posting[2])"
   ]
  },
  {
   "cell_type": "code",
   "execution_count": null,
   "metadata": {},
   "outputs": [],
   "source": [
    "pprint(jd.posting[13])"
   ]
  },
  {
   "cell_type": "code",
   "execution_count": null,
   "metadata": {},
   "outputs": [],
   "source": [
    "from textblob import TextBlob"
   ]
  },
  {
   "cell_type": "code",
   "execution_count": null,
   "metadata": {},
   "outputs": [],
   "source": [
    "test = TextBlob(\"Python is a high-level, general-purpose machine learning language.\")"
   ]
  },
  {
   "cell_type": "code",
   "execution_count": null,
   "metadata": {},
   "outputs": [],
   "source": [
    "test.tags"
   ]
  },
  {
   "cell_type": "code",
   "execution_count": null,
   "metadata": {},
   "outputs": [],
   "source": [
    "test.noun_phrases"
   ]
  },
  {
   "cell_type": "code",
   "execution_count": null,
   "metadata": {},
   "outputs": [],
   "source": [
    "test.sentiment"
   ]
  }
 ],
 "metadata": {
  "kernelspec": {
   "display_name": "Python 3",
   "language": "python",
   "name": "python3"
  },
  "language_info": {
   "codemirror_mode": {
    "name": "ipython",
    "version": 3
   },
   "file_extension": ".py",
   "mimetype": "text/x-python",
   "name": "python",
   "nbconvert_exporter": "python",
   "pygments_lexer": "ipython3",
   "version": "3.6.7"
  }
 },
 "nbformat": 4,
 "nbformat_minor": 2
}
