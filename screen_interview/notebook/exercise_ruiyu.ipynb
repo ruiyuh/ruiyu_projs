{
 "cells": [
  {
   "cell_type": "markdown",
   "metadata": {},
   "source": [
    "# Screen Exercise\n",
    "> Ruiyu Hu | rayhu@pm.me"
   ]
  },
  {
   "cell_type": "code",
   "execution_count": 1,
   "metadata": {},
   "outputs": [],
   "source": [
    "# import the regular packages\n",
    "import pandas as pd\n",
    "from matplotlib import pyplot as plt\n",
    "import seaborn as sns\n",
    "\n",
    "%matplotlib inline"
   ]
  },
  {
   "cell_type": "code",
   "execution_count": 2,
   "metadata": {},
   "outputs": [
    {
     "data": {
      "text/html": [
       "<div>\n",
       "<style scoped>\n",
       "    .dataframe tbody tr th:only-of-type {\n",
       "        vertical-align: middle;\n",
       "    }\n",
       "\n",
       "    .dataframe tbody tr th {\n",
       "        vertical-align: top;\n",
       "    }\n",
       "\n",
       "    .dataframe thead th {\n",
       "        text-align: right;\n",
       "    }\n",
       "</style>\n",
       "<table border=\"1\" class=\"dataframe\">\n",
       "  <thead>\n",
       "    <tr style=\"text-align: right;\">\n",
       "      <th></th>\n",
       "      <th>customer_id</th>\n",
       "      <th>gender</th>\n",
       "      <th>date</th>\n",
       "      <th>value</th>\n",
       "      <th>predicted_gender</th>\n",
       "    </tr>\n",
       "  </thead>\n",
       "  <tbody>\n",
       "    <tr>\n",
       "      <th>0</th>\n",
       "      <td>1000</td>\n",
       "      <td>0</td>\n",
       "      <td>2017-01-01 00:11:31</td>\n",
       "      <td>198.5</td>\n",
       "      <td>1</td>\n",
       "    </tr>\n",
       "    <tr>\n",
       "      <th>1</th>\n",
       "      <td>1001</td>\n",
       "      <td>0</td>\n",
       "      <td>2017-01-01 00:29:56</td>\n",
       "      <td>338.0</td>\n",
       "      <td>1</td>\n",
       "    </tr>\n",
       "    <tr>\n",
       "      <th>2</th>\n",
       "      <td>1002</td>\n",
       "      <td>1</td>\n",
       "      <td>2017-01-01 01:30:31</td>\n",
       "      <td>733.0</td>\n",
       "      <td>1</td>\n",
       "    </tr>\n",
       "    <tr>\n",
       "      <th>3</th>\n",
       "      <td>1003</td>\n",
       "      <td>1</td>\n",
       "      <td>2017-01-01 01:34:22</td>\n",
       "      <td>772.0</td>\n",
       "      <td>1</td>\n",
       "    </tr>\n",
       "    <tr>\n",
       "      <th>4</th>\n",
       "      <td>1004</td>\n",
       "      <td>0</td>\n",
       "      <td>2017-01-01 03:11:54</td>\n",
       "      <td>508.0</td>\n",
       "      <td>1</td>\n",
       "    </tr>\n",
       "  </tbody>\n",
       "</table>\n",
       "</div>"
      ],
      "text/plain": [
       "   customer_id  gender                 date  value  predicted_gender\n",
       "0         1000       0  2017-01-01 00:11:31  198.5                 1\n",
       "1         1001       0  2017-01-01 00:29:56  338.0                 1\n",
       "2         1002       1  2017-01-01 01:30:31  733.0                 1\n",
       "3         1003       1  2017-01-01 01:34:22  772.0                 1\n",
       "4         1004       0  2017-01-01 03:11:54  508.0                 1"
      ]
     },
     "execution_count": 2,
     "metadata": {},
     "output_type": "execute_result"
    }
   ],
   "source": [
    "df = pd.read_csv('../data/screening_exercise_orders_v201810.csv')\n",
    "df.head()"
   ]
  },
  {
   "cell_type": "markdown",
   "metadata": {},
   "source": [
    "## Explore the data first"
   ]
  },
  {
   "cell_type": "code",
   "execution_count": 3,
   "metadata": {},
   "outputs": [
    {
     "name": "stdout",
     "output_type": "stream",
     "text": [
      "<class 'pandas.core.frame.DataFrame'>\n",
      "RangeIndex: 13471 entries, 0 to 13470\n",
      "Data columns (total 5 columns):\n",
      "customer_id         13471 non-null int64\n",
      "gender              13471 non-null int64\n",
      "date                13471 non-null object\n",
      "value               13471 non-null float64\n",
      "predicted_gender    13471 non-null int64\n",
      "dtypes: float64(1), int64(3), object(1)\n",
      "memory usage: 526.3+ KB\n"
     ]
    }
   ],
   "source": [
    "df.info()"
   ]
  },
  {
   "cell_type": "code",
   "execution_count": 4,
   "metadata": {},
   "outputs": [
    {
     "name": "stdout",
     "output_type": "stream",
     "text": [
      "<class 'pandas.core.frame.DataFrame'>\n",
      "RangeIndex: 13471 entries, 0 to 13470\n",
      "Data columns (total 5 columns):\n",
      "customer_id         13471 non-null int64\n",
      "gender              13471 non-null int64\n",
      "date                13471 non-null datetime64[ns]\n",
      "value               13471 non-null float64\n",
      "predicted_gender    13471 non-null int64\n",
      "dtypes: datetime64[ns](1), float64(1), int64(3)\n",
      "memory usage: 526.3 KB\n"
     ]
    }
   ],
   "source": [
    "# convert date type object to datetime format\n",
    "df.date = df.date.apply(pd.Timestamp)\n",
    "df.info()"
   ]
  },
  {
   "cell_type": "code",
   "execution_count": 5,
   "metadata": {},
   "outputs": [],
   "source": [
    "# It is a function I saved before.\n",
    "# I awalys use it to cehck the missing values.\n",
    "def check_na(df):\n",
    "        # Total missing values\n",
    "        mis_val = df.isnull().sum()\n",
    "        \n",
    "        # Percentage of missing values\n",
    "        mis_val_percent = 100 * df.isnull().sum() / len(df)\n",
    "        \n",
    "        # Make a table with the results\n",
    "        mis_val_table = pd.concat([mis_val, mis_val_percent], axis=1)\n",
    "        \n",
    "        # Rename the columns\n",
    "        mis_val_table_ren_columns = mis_val_table.rename(\n",
    "        columns = {0 : 'Missing Values', 1 : '% of Total Values'})\n",
    "        \n",
    "        # Sort the table by percentage of missing descending\n",
    "        mis_val_table_ren_columns = mis_val_table_ren_columns[\n",
    "            mis_val_table_ren_columns.iloc[:,1] != 0].sort_values(\n",
    "        '% of Total Values', ascending=False).round(1)\n",
    "        \n",
    "        # Print some summary information\n",
    "        print (\"The selected dataframe has \" + str(df.shape[1]) + \" columns.\\n\"      \n",
    "            \"There are \" + str(mis_val_table_ren_columns.shape[0]) +\n",
    "              \" columns that have missing values.\")\n",
    "        \n",
    "        # Return the dataframe with missing information\n",
    "        return mis_val_table_ren_columns"
   ]
  },
  {
   "cell_type": "code",
   "execution_count": 6,
   "metadata": {},
   "outputs": [
    {
     "name": "stdout",
     "output_type": "stream",
     "text": [
      "The selected dataframe has 5 columns.\n",
      "There are 0 columns that have missing values.\n"
     ]
    },
    {
     "data": {
      "text/html": [
       "<div>\n",
       "<style scoped>\n",
       "    .dataframe tbody tr th:only-of-type {\n",
       "        vertical-align: middle;\n",
       "    }\n",
       "\n",
       "    .dataframe tbody tr th {\n",
       "        vertical-align: top;\n",
       "    }\n",
       "\n",
       "    .dataframe thead th {\n",
       "        text-align: right;\n",
       "    }\n",
       "</style>\n",
       "<table border=\"1\" class=\"dataframe\">\n",
       "  <thead>\n",
       "    <tr style=\"text-align: right;\">\n",
       "      <th></th>\n",
       "      <th>Missing Values</th>\n",
       "      <th>% of Total Values</th>\n",
       "    </tr>\n",
       "  </thead>\n",
       "  <tbody>\n",
       "  </tbody>\n",
       "</table>\n",
       "</div>"
      ],
      "text/plain": [
       "Empty DataFrame\n",
       "Columns: [Missing Values, % of Total Values]\n",
       "Index: []"
      ]
     },
     "execution_count": 6,
     "metadata": {},
     "output_type": "execute_result"
    }
   ],
   "source": [
    "check_na(df)"
   ]
  },
  {
   "cell_type": "markdown",
   "metadata": {},
   "source": [
    "**Before soving the questions, I converted the data type of feature 'date' from object to datetime and checked the missing value. The dataset is clean and I can move forward.**"
   ]
  },
  {
   "cell_type": "markdown",
   "metadata": {},
   "source": [
    "### Question A\n",
    "Assemble a dataframe with one row per customer and the following columns:\n",
    "* customer_id\n",
    "* gender\n",
    "* most_recent_order_date\n",
    "* order_count (number of orders placed by this customer)\n",
    "    \n",
    "Sort the dataframe by customer_id ascending and display the first 10 rows."
   ]
  },
  {
   "cell_type": "code",
   "execution_count": 7,
   "metadata": {},
   "outputs": [],
   "source": [
    "def assemble_df (df):\n",
    "    group_df = []\n",
    "    for i,j in df.groupby(['customer_id','gender']).groups.keys():\n",
    "        group_df.append(\n",
    "            {\n",
    "             'customer_id': i,\n",
    "             'gender': j,\n",
    "             'most_recent_order_date': df[df.customer_id == i].date.max(),\n",
    "             'order_count': len(df[df.customer_id ==i])   \n",
    "            })\n",
    "    return pd.DataFrame(group_df).sort_values('customer_id', ascending=True) "
   ]
  },
  {
   "cell_type": "code",
   "execution_count": 8,
   "metadata": {},
   "outputs": [
    {
     "data": {
      "text/html": [
       "<div>\n",
       "<style scoped>\n",
       "    .dataframe tbody tr th:only-of-type {\n",
       "        vertical-align: middle;\n",
       "    }\n",
       "\n",
       "    .dataframe tbody tr th {\n",
       "        vertical-align: top;\n",
       "    }\n",
       "\n",
       "    .dataframe thead th {\n",
       "        text-align: right;\n",
       "    }\n",
       "</style>\n",
       "<table border=\"1\" class=\"dataframe\">\n",
       "  <thead>\n",
       "    <tr style=\"text-align: right;\">\n",
       "      <th></th>\n",
       "      <th>customer_id</th>\n",
       "      <th>gender</th>\n",
       "      <th>most_recent_order_date</th>\n",
       "      <th>order_count</th>\n",
       "    </tr>\n",
       "  </thead>\n",
       "  <tbody>\n",
       "    <tr>\n",
       "      <th>0</th>\n",
       "      <td>1000</td>\n",
       "      <td>0</td>\n",
       "      <td>2017-01-01 00:11:31</td>\n",
       "      <td>1</td>\n",
       "    </tr>\n",
       "    <tr>\n",
       "      <th>1</th>\n",
       "      <td>1001</td>\n",
       "      <td>0</td>\n",
       "      <td>2017-01-01 00:29:56</td>\n",
       "      <td>1</td>\n",
       "    </tr>\n",
       "    <tr>\n",
       "      <th>2</th>\n",
       "      <td>1002</td>\n",
       "      <td>1</td>\n",
       "      <td>2017-02-19 21:35:31</td>\n",
       "      <td>3</td>\n",
       "    </tr>\n",
       "    <tr>\n",
       "      <th>3</th>\n",
       "      <td>1003</td>\n",
       "      <td>1</td>\n",
       "      <td>2017-04-26 02:37:20</td>\n",
       "      <td>4</td>\n",
       "    </tr>\n",
       "    <tr>\n",
       "      <th>4</th>\n",
       "      <td>1004</td>\n",
       "      <td>0</td>\n",
       "      <td>2017-01-01 03:11:54</td>\n",
       "      <td>1</td>\n",
       "    </tr>\n",
       "    <tr>\n",
       "      <th>5</th>\n",
       "      <td>1005</td>\n",
       "      <td>1</td>\n",
       "      <td>2017-12-16 01:39:27</td>\n",
       "      <td>2</td>\n",
       "    </tr>\n",
       "    <tr>\n",
       "      <th>6</th>\n",
       "      <td>1006</td>\n",
       "      <td>1</td>\n",
       "      <td>2017-05-09 15:27:20</td>\n",
       "      <td>3</td>\n",
       "    </tr>\n",
       "    <tr>\n",
       "      <th>7</th>\n",
       "      <td>1007</td>\n",
       "      <td>0</td>\n",
       "      <td>2017-01-01 15:59:50</td>\n",
       "      <td>1</td>\n",
       "    </tr>\n",
       "    <tr>\n",
       "      <th>8</th>\n",
       "      <td>1008</td>\n",
       "      <td>0</td>\n",
       "      <td>2017-12-17 05:47:48</td>\n",
       "      <td>3</td>\n",
       "    </tr>\n",
       "    <tr>\n",
       "      <th>9</th>\n",
       "      <td>1009</td>\n",
       "      <td>1</td>\n",
       "      <td>2017-01-01 19:27:17</td>\n",
       "      <td>1</td>\n",
       "    </tr>\n",
       "  </tbody>\n",
       "</table>\n",
       "</div>"
      ],
      "text/plain": [
       "   customer_id  gender most_recent_order_date  order_count\n",
       "0         1000       0    2017-01-01 00:11:31            1\n",
       "1         1001       0    2017-01-01 00:29:56            1\n",
       "2         1002       1    2017-02-19 21:35:31            3\n",
       "3         1003       1    2017-04-26 02:37:20            4\n",
       "4         1004       0    2017-01-01 03:11:54            1\n",
       "5         1005       1    2017-12-16 01:39:27            2\n",
       "6         1006       1    2017-05-09 15:27:20            3\n",
       "7         1007       0    2017-01-01 15:59:50            1\n",
       "8         1008       0    2017-12-17 05:47:48            3\n",
       "9         1009       1    2017-01-01 19:27:17            1"
      ]
     },
     "execution_count": 8,
     "metadata": {},
     "output_type": "execute_result"
    }
   ],
   "source": [
    "assembled_df = assemble_df(df)\n",
    "assembled_df.head(10)"
   ]
  },
  {
   "cell_type": "markdown",
   "metadata": {},
   "source": [
    "### Question B \n",
    "Plot the count of orders per week."
   ]
  },
  {
   "cell_type": "code",
   "execution_count": 9,
   "metadata": {},
   "outputs": [],
   "source": [
    "# to plot the time series plot, set the datetime as index first will be helpful\n",
    "df.index = pd.DatetimeIndex(df.date.values)"
   ]
  },
  {
   "cell_type": "code",
   "execution_count": 10,
   "metadata": {},
   "outputs": [
    {
     "data": {
      "text/plain": [
       "Text(0, 0.5, 'Number of orders')"
      ]
     },
     "execution_count": 10,
     "metadata": {},
     "output_type": "execute_result"
    },
    {
     "data": {
      "image/png": "[encoded data removed]",
      "text/plain": [
       "<Figure size 720x432 with 1 Axes>"
      ]
     },
     "metadata": {
      "needs_background": "light"
     },
     "output_type": "display_data"
    }
   ],
   "source": [
    "# plot\n",
    "plt.figure(figsize=(10,6))\n",
    "df.resample('W').size().plot()\n",
    "\n",
    "plt.title('count of orders per week')\n",
    "plt.xlabel('Months')\n",
    "plt.ylabel('Number of orders')"
   ]
  },
  {
   "cell_type": "markdown",
   "metadata": {},
   "source": [
    "**I consider \"resample('W')\" is the easiest method to plot the weekly value. But the line plot above was not straightforward. I suppose a bar plot with the x-axis represents week number will be a better option.**"
   ]
  },
  {
   "cell_type": "code",
   "execution_count": 11,
   "metadata": {},
   "outputs": [],
   "source": [
    "def weekly_count_plt(df):\n",
    "    weekly_count = pd.DataFrame() # create a new data frame\n",
    "    weekly_count['count_of_orders'] = df.customer_id.resample('W').count() # count the customer_id per week\n",
    "    weekly_count['weeks'] = list(range(1,54)) # generate sequential week number \n",
    "    \n",
    "    plt.figure(figsize=(12,8))\n",
    "    plt.title('count of orders per week')\n",
    "    sns.barplot(x=\"weeks\", y=\"count_of_orders\", data=weekly_count)\n",
    "    plt.show()"
   ]
  },
  {
   "cell_type": "code",
   "execution_count": 12,
   "metadata": {},
   "outputs": [
    {
     "data": {
      "image/png": "[encoded data removed]",
      "text/plain": [
       "<Figure size 864x576 with 1 Axes>"
      ]
     },
     "metadata": {
      "needs_background": "light"
     },
     "output_type": "display_data"
    }
   ],
   "source": [
    "weekly_count_plt(df)"
   ]
  },
  {
   "cell_type": "markdown",
   "metadata": {},
   "source": [
    "**I can't recognize the seasonality based on one year data. But we can identify the week 21 has the most orders immediately.**"
   ]
  },
  {
   "cell_type": "markdown",
   "metadata": {},
   "source": [
    "### Question C\n",
    "Compute the mean order value for gender 0 and for gender 1. Do you think the difference is significant?"
   ]
  },
  {
   "cell_type": "code",
   "execution_count": 13,
   "metadata": {},
   "outputs": [],
   "source": [
    "def sig_test(g_0, g_1):\n",
    "    from numpy import mean\n",
    "    from numpy import std\n",
    "    from scipy.stats import ttest_ind # t-test function\n",
    "    \n",
    "    print('---------------Compute the mean order value---------------')\n",
    "    print('gender_0: mean=%.3f stdv=%.3f' % (mean(g_0), std(g_0)))\n",
    "    print('gender_1: mean=%.3f stdv=%.3f' % (mean(g_1), std(g_1)))\n",
    "          \n",
    "    print('\\n---------------T-Test---------------')\n",
    "    print('Null hypothesis:No difference between the means')\n",
    "    stat, p = ttest_ind(g_0, g_1)\n",
    "    print('Statistics=%.3f, p=%.3f' % (stat, p))\n",
    "    \n",
    "    print('\\n---------------Conclustion---------------')\n",
    "    alpha = 0.05\n",
    "    if p > alpha:\n",
    "        print('Same distributions (fail to reject null hypothesis)')\n",
    "    else:\n",
    "        print('Different distributions (reject null hypothesis)')\n",
    "        print('The means are different, corresponding confidence level is 95%.')"
   ]
  },
  {
   "cell_type": "code",
   "execution_count": 14,
   "metadata": {},
   "outputs": [
    {
     "name": "stdout",
     "output_type": "stream",
     "text": [
      "---------------Compute the mean order value---------------\n",
      "gender_0: mean=363.890 stdv=396.504\n",
      "gender_1: mean=350.708 stdv=377.477\n",
      "\n",
      "---------------T-Test---------------\n",
      "Null hypothesis:No difference between the means\n",
      "Statistics=1.976, p=0.048\n",
      "\n",
      "---------------Conclustion---------------\n",
      "Different distributions (reject null hypothesis)\n",
      "The means are different, corresponding confidence level is 95%.\n"
     ]
    }
   ],
   "source": [
    "sig_test(df[df.gender == 0].value,df[df.gender == 1].value)"
   ]
  },
  {
   "cell_type": "markdown",
   "metadata": {},
   "source": [
    "**First of all, I assumed the values generated by gender0 and gender1 are independent. In this case, the assumption is that the means of gender0 order values and gender1 order values are equal. The t-test reveals that the null hypothesis is rejected and the difference is significant**"
   ]
  },
  {
   "cell_type": "markdown",
   "metadata": {},
   "source": [
    "### Question D\n",
    "Assuming a single gender prediction was made for each customer, generate a confusion matrix for predicted gender. Do not use a library function to do this. What does the confusion matrix tell you about the quality of the predictions?"
   ]
  },
  {
   "cell_type": "code",
   "execution_count": 15,
   "metadata": {},
   "outputs": [
    {
     "data": {
      "text/plain": [
       "<matplotlib.axes._subplots.AxesSubplot at 0x2294a2f4240>"
      ]
     },
     "execution_count": 15,
     "metadata": {},
     "output_type": "execute_result"
    },
    {
     "data": {
      "image/png": "[encoded data removed]",
      "text/plain": [
       "<Figure size 432x288 with 1 Axes>"
      ]
     },
     "metadata": {
      "needs_background": "light"
     },
     "output_type": "display_data"
    }
   ],
   "source": [
    "sns.countplot('gender', data=assembled_df)"
   ]
  },
  {
   "cell_type": "markdown",
   "metadata": {},
   "source": [
    "**First of all, we can see the gender is balanced. Therefore, no need to consider imbalance issues.**"
   ]
  },
  {
   "cell_type": "code",
   "execution_count": 16,
   "metadata": {},
   "outputs": [],
   "source": [
    "def plot_cnf_matrix (orig, pred):\n",
    "    print('In this case, I assume that \"predict gender 1 as 1\" means true positiove\\n')\n",
    "    \n",
    "    print(\"--------------------Confusion Matrix --------------------------\")\n",
    "\n",
    "    tp = 0\n",
    "    tn = 0\n",
    "    fp = 0\n",
    "    fn = 0\n",
    "    for i in range(len(orig.values)):\n",
    "        if orig.values[i]==1 and pred.values[i]==1:\n",
    "            tp +=1\n",
    "        if orig.values[i]==1 and pred.values[i]==0:\n",
    "            fn +=1\n",
    "        if orig.values[i]==0 and pred.values[i]==0:\n",
    "            tn +=1\n",
    "        if orig.values[i]==0 and pred.values[i]==1:\n",
    "            fp +=1\n",
    "            \n",
    "    print(\"TP\",tp) \n",
    "    print('TP: no. of gender 1 which are predicted gender 1')\n",
    "    print(\"\\nTN\",tn) \n",
    "    print('TN: no. of gender 0 which are predited gender 0')\n",
    "    print(\"\\nFP\",fp) \n",
    "    print('FP: no. of gender 0 which are predicted gender 1')\n",
    "    print(\"\\nFN\",fn) \n",
    "    print('FN: no. of gender 1 which are predicted gender 0')\n",
    "\n",
    "    \n",
    "    print(\"\\n--------------------Plot Confusion Matrix --------------------------\")\n",
    "    w, h = 2, 2;\n",
    "    cnf_matrix = [[0 for x in range(w)] for y in range(h)] #Creates a 2 * 2 list\n",
    "    cnf_matrix[0][0] = tn\n",
    "    cnf_matrix[0][1] = fp\n",
    "    cnf_matrix[1][0] = fn\n",
    "    cnf_matrix[1][1] = tp\n",
    "    \n",
    "    fig= plt.figure(figsize=(6,3))\n",
    "    sns.heatmap(cnf_matrix,cmap=\"coolwarm_r\",annot=True,fmt='d',linewidths=0.5) # plot\n",
    "    plt.title(\"Confusion_Matrix\")\n",
    "    plt.xlabel(\"Predicted_Class\")\n",
    "    plt.ylabel(\"Real_Class\")\n",
    "    plt.show()\n",
    "    \n",
    "    print(\"\\n--------------------Classification Report --------------------------\")\n",
    "    print(\"the accuracy for this prediction is:\", round((tp+tn)/(tp+tn+fp+fn),4))\n",
    "    print(\"the precision for this prediction is :\", round(tp/(tp+fp),4))\n",
    "    print(\"the recall for this prediction is :\", round(tp/(tp+fn),4))\n",
    "    print(\"the f1 score for this prediction is:\", round(2*tp/(2*tp+fp+fn),4))"
   ]
  },
  {
   "cell_type": "code",
   "execution_count": 17,
   "metadata": {
    "scrolled": false
   },
   "outputs": [
    {
     "name": "stdout",
     "output_type": "stream",
     "text": [
      "In this case, I assume that \"predict gender 1 as 1\" means true positiove\n",
      "\n",
      "--------------------Confusion Matrix --------------------------\n",
      "TP 5249\n",
      "TP: no. of gender 1 which are predicted gender 1\n",
      "\n",
      "TN 3349\n",
      "TN: no. of gender 0 which are predited gender 0\n",
      "\n",
      "FP 3410\n",
      "FP: no. of gender 0 which are predicted gender 1\n",
      "\n",
      "FN 1463\n",
      "FN: no. of gender 1 which are predicted gender 0\n",
      "\n",
      "--------------------Plot Confusion Matrix --------------------------\n"
     ]
    },
    {
     "data": {
      "image/png": "[encoded data removed]",
      "text/plain": [
       "<Figure size 432x216 with 2 Axes>"
      ]
     },
     "metadata": {
      "needs_background": "light"
     },
     "output_type": "display_data"
    },
    {
     "name": "stdout",
     "output_type": "stream",
     "text": [
      "\n",
      "--------------------Classification Report --------------------------\n",
      "the accuracy for this prediction is: 0.6383\n",
      "the precision for this prediction is : 0.6062\n",
      "the recall for this prediction is : 0.782\n",
      "the f1 score for this prediction is: 0.683\n"
     ]
    }
   ],
   "source": [
    "plot_cnf_matrix(df.gender, df.predicted_gender) "
   ]
  },
  {
   "cell_type": "markdown",
   "metadata": {},
   "source": [
    "**In this case, I assume that \"predict gender 1 as 1\" means true positiove. Since it is not an imbalance classification problem, we can consider the accuracy, and it is 0.6383 which means our prediction is approx. 64% accurate. And the recall is higher means more gender 1 can be predict corrently. For further study, I suppose consider cost-sensitive classification will be helpful since we have the real finicial values.**"
   ]
  },
  {
   "cell_type": "markdown",
   "metadata": {},
   "source": [
    "### Question E\n",
    "Describe one of your favorite tools or techniques and give a small example of how it's helped you solve a problem. Limit your answer to one paragraph.\n"
   ]
  },
  {
   "cell_type": "code",
   "execution_count": null,
   "metadata": {},
   "outputs": [],
   "source": []
  }
 ],
 "metadata": {
  "kernelspec": {
   "display_name": "Python 3",
   "language": "python",
   "name": "python3"
  },
  "language_info": {
   "codemirror_mode": {
    "name": "ipython",
    "version": 3
   },
   "file_extension": ".py",
   "mimetype": "text/x-python",
   "name": "python",
   "nbconvert_exporter": "python",
   "pygments_lexer": "ipython3",
   "version": "3.6.7"
  }
 },
 "nbformat": 4,
 "nbformat_minor": 2
}
